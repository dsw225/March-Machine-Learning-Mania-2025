{
 "cells": [
  {
   "cell_type": "markdown",
   "metadata": {},
   "source": [
    "# March Madness Rating Computation\n",
    "\n",
    "Ranking the teams by their strength is a very important piece of information your model should use.\n",
    "\n",
    "Some of the rankings are using expert opinion (i.e. majority vote of fan opinion). However, this may be not the best approach, as human opinions tend to be biased towards their favorites. Moreover, it may be easy to determine a top few strong teams, but it is a much harder to rank teams in the mid-lower range ranks.\n",
    "\n",
    "In NCAA tournament teams are assigned with tournament starting seeds, which also has expert bias - it is not uncommon, that a team with higher win ratio % would get lower seed compared to a team with lower win ratio %, based on the regular season schedule (which is not the same for every team!). Therefore, the judgment of team strength of assigned seed sometimes get controversial opinion among fans and media!\n",
    "\n",
    "The idea of this kernel is to try to calculate the team strength rankings only based on the  data we have in our disposal. This way we will eliminate all possible human biases and get a robust estimate of team's strength."
   ]
  },
  {
   "cell_type": "code",
   "execution_count": 1,
   "metadata": {},
   "outputs": [],
   "source": [
    "import numpy as np\n",
    "import pandas as pd\n",
    "import statsmodels.api as sm\n",
    "import matplotlib.pyplot as plt\n",
    "import seaborn as sns\n",
    "from data_format.rating_systems.stephenson import *\n",
    "from data_format.rating_systems.glicko2 import *\n",
    "from data_format.rating_systems.elo_v2 import *\n",
    "import copy\n",
    "\n",
    "seeds = pd.read_csv('data/mens/MNCAATourneySeeds.csv')\n",
    "tourney_results = pd.read_csv('data/mens/MNCAATourneyCompactResults.csv')\n",
    "regular_results = pd.read_csv('data/mens/MRegularSeasonCompactResults.csv')"
   ]
  },
  {
   "cell_type": "code",
   "execution_count": 2,
   "metadata": {},
   "outputs": [],
   "source": [
    "def prepare_data(df):\n",
    "    dfswap = df[['Season', 'DayNum', 'LTeamID', 'LScore', 'WTeamID', 'WScore', 'WLoc', 'NumOT']]\n",
    "\n",
    "    dfswap.loc[df['WLoc'] == 'H', 'WLoc'] = 'A'\n",
    "    dfswap.loc[df['WLoc'] == 'A', 'WLoc'] = 'H'\n",
    "    df.columns.values[6] = 'location'\n",
    "    dfswap.columns.values[6] = 'location'         \n",
    "    df.columns = [x.replace('W','T1_').replace('L','T2_') for x in list(df.columns)]\n",
    "    dfswap.columns = [x.replace('L','T1_').replace('W','T2_') for x in list(dfswap.columns)]\n",
    "    output = pd.concat([df, dfswap]).sort_index().reset_index(drop=True)\n",
    "    \n",
    "    return output"
   ]
  },
  {
   "cell_type": "code",
   "execution_count": 3,
   "metadata": {},
   "outputs": [
    {
     "data": {
      "application/vnd.microsoft.datawrangler.viewer.v0+json": {
       "columns": [
        {
         "name": "index",
         "rawType": "int64",
         "type": "integer"
        },
        {
         "name": "Season",
         "rawType": "int64",
         "type": "integer"
        },
        {
         "name": "DayNum",
         "rawType": "int64",
         "type": "integer"
        },
        {
         "name": "T1_TeamID",
         "rawType": "int64",
         "type": "integer"
        },
        {
         "name": "T1_Score",
         "rawType": "int64",
         "type": "integer"
        },
        {
         "name": "T2_TeamID",
         "rawType": "int64",
         "type": "integer"
        },
        {
         "name": "T2_Score",
         "rawType": "int64",
         "type": "integer"
        },
        {
         "name": "location",
         "rawType": "object",
         "type": "string"
        },
        {
         "name": "NumOT",
         "rawType": "int64",
         "type": "integer"
        },
        {
         "name": "win",
         "rawType": "int64",
         "type": "integer"
        }
       ],
       "conversionMethod": "pd.DataFrame",
       "ref": "258a2b72-19f1-41d8-9054-7aaf432a1e3a",
       "rows": [
        [
         "0",
         "1985",
         "20",
         "1228",
         "81",
         "1328",
         "64",
         "N",
         "0",
         "1"
        ],
        [
         "1",
         "1985",
         "20",
         "1328",
         "64",
         "1228",
         "81",
         "N",
         "0",
         "0"
        ],
        [
         "2",
         "1985",
         "25",
         "1354",
         "70",
         "1106",
         "77",
         "A",
         "0",
         "0"
        ],
        [
         "3",
         "1985",
         "25",
         "1106",
         "77",
         "1354",
         "70",
         "H",
         "0",
         "1"
        ],
        [
         "4",
         "1985",
         "25",
         "1112",
         "63",
         "1223",
         "56",
         "H",
         "0",
         "1"
        ],
        [
         "5",
         "1985",
         "25",
         "1223",
         "56",
         "1112",
         "63",
         "A",
         "0",
         "0"
        ],
        [
         "6",
         "1985",
         "25",
         "1165",
         "70",
         "1432",
         "54",
         "H",
         "0",
         "1"
        ],
        [
         "7",
         "1985",
         "25",
         "1432",
         "54",
         "1165",
         "70",
         "A",
         "0",
         "0"
        ],
        [
         "8",
         "1985",
         "25",
         "1192",
         "86",
         "1447",
         "74",
         "H",
         "0",
         "1"
        ],
        [
         "9",
         "1985",
         "25",
         "1447",
         "74",
         "1192",
         "86",
         "A",
         "0",
         "0"
        ]
       ],
       "shape": {
        "columns": 9,
        "rows": 10
       }
      },
      "text/html": [
       "<div>\n",
       "<style scoped>\n",
       "    .dataframe tbody tr th:only-of-type {\n",
       "        vertical-align: middle;\n",
       "    }\n",
       "\n",
       "    .dataframe tbody tr th {\n",
       "        vertical-align: top;\n",
       "    }\n",
       "\n",
       "    .dataframe thead th {\n",
       "        text-align: right;\n",
       "    }\n",
       "</style>\n",
       "<table border=\"1\" class=\"dataframe\">\n",
       "  <thead>\n",
       "    <tr style=\"text-align: right;\">\n",
       "      <th></th>\n",
       "      <th>Season</th>\n",
       "      <th>DayNum</th>\n",
       "      <th>T1_TeamID</th>\n",
       "      <th>T1_Score</th>\n",
       "      <th>T2_TeamID</th>\n",
       "      <th>T2_Score</th>\n",
       "      <th>location</th>\n",
       "      <th>NumOT</th>\n",
       "      <th>win</th>\n",
       "    </tr>\n",
       "  </thead>\n",
       "  <tbody>\n",
       "    <tr>\n",
       "      <th>0</th>\n",
       "      <td>1985</td>\n",
       "      <td>20</td>\n",
       "      <td>1228</td>\n",
       "      <td>81</td>\n",
       "      <td>1328</td>\n",
       "      <td>64</td>\n",
       "      <td>N</td>\n",
       "      <td>0</td>\n",
       "      <td>1</td>\n",
       "    </tr>\n",
       "    <tr>\n",
       "      <th>1</th>\n",
       "      <td>1985</td>\n",
       "      <td>20</td>\n",
       "      <td>1328</td>\n",
       "      <td>64</td>\n",
       "      <td>1228</td>\n",
       "      <td>81</td>\n",
       "      <td>N</td>\n",
       "      <td>0</td>\n",
       "      <td>0</td>\n",
       "    </tr>\n",
       "    <tr>\n",
       "      <th>2</th>\n",
       "      <td>1985</td>\n",
       "      <td>25</td>\n",
       "      <td>1354</td>\n",
       "      <td>70</td>\n",
       "      <td>1106</td>\n",
       "      <td>77</td>\n",
       "      <td>A</td>\n",
       "      <td>0</td>\n",
       "      <td>0</td>\n",
       "    </tr>\n",
       "    <tr>\n",
       "      <th>3</th>\n",
       "      <td>1985</td>\n",
       "      <td>25</td>\n",
       "      <td>1106</td>\n",
       "      <td>77</td>\n",
       "      <td>1354</td>\n",
       "      <td>70</td>\n",
       "      <td>H</td>\n",
       "      <td>0</td>\n",
       "      <td>1</td>\n",
       "    </tr>\n",
       "    <tr>\n",
       "      <th>4</th>\n",
       "      <td>1985</td>\n",
       "      <td>25</td>\n",
       "      <td>1112</td>\n",
       "      <td>63</td>\n",
       "      <td>1223</td>\n",
       "      <td>56</td>\n",
       "      <td>H</td>\n",
       "      <td>0</td>\n",
       "      <td>1</td>\n",
       "    </tr>\n",
       "    <tr>\n",
       "      <th>5</th>\n",
       "      <td>1985</td>\n",
       "      <td>25</td>\n",
       "      <td>1223</td>\n",
       "      <td>56</td>\n",
       "      <td>1112</td>\n",
       "      <td>63</td>\n",
       "      <td>A</td>\n",
       "      <td>0</td>\n",
       "      <td>0</td>\n",
       "    </tr>\n",
       "    <tr>\n",
       "      <th>6</th>\n",
       "      <td>1985</td>\n",
       "      <td>25</td>\n",
       "      <td>1165</td>\n",
       "      <td>70</td>\n",
       "      <td>1432</td>\n",
       "      <td>54</td>\n",
       "      <td>H</td>\n",
       "      <td>0</td>\n",
       "      <td>1</td>\n",
       "    </tr>\n",
       "    <tr>\n",
       "      <th>7</th>\n",
       "      <td>1985</td>\n",
       "      <td>25</td>\n",
       "      <td>1432</td>\n",
       "      <td>54</td>\n",
       "      <td>1165</td>\n",
       "      <td>70</td>\n",
       "      <td>A</td>\n",
       "      <td>0</td>\n",
       "      <td>0</td>\n",
       "    </tr>\n",
       "    <tr>\n",
       "      <th>8</th>\n",
       "      <td>1985</td>\n",
       "      <td>25</td>\n",
       "      <td>1192</td>\n",
       "      <td>86</td>\n",
       "      <td>1447</td>\n",
       "      <td>74</td>\n",
       "      <td>H</td>\n",
       "      <td>0</td>\n",
       "      <td>1</td>\n",
       "    </tr>\n",
       "    <tr>\n",
       "      <th>9</th>\n",
       "      <td>1985</td>\n",
       "      <td>25</td>\n",
       "      <td>1447</td>\n",
       "      <td>74</td>\n",
       "      <td>1192</td>\n",
       "      <td>86</td>\n",
       "      <td>A</td>\n",
       "      <td>0</td>\n",
       "      <td>0</td>\n",
       "    </tr>\n",
       "  </tbody>\n",
       "</table>\n",
       "</div>"
      ],
      "text/plain": [
       "   Season  DayNum  T1_TeamID  T1_Score  T2_TeamID  T2_Score location  NumOT  \\\n",
       "0    1985      20       1228        81       1328        64        N      0   \n",
       "1    1985      20       1328        64       1228        81        N      0   \n",
       "2    1985      25       1354        70       1106        77        A      0   \n",
       "3    1985      25       1106        77       1354        70        H      0   \n",
       "4    1985      25       1112        63       1223        56        H      0   \n",
       "5    1985      25       1223        56       1112        63        A      0   \n",
       "6    1985      25       1165        70       1432        54        H      0   \n",
       "7    1985      25       1432        54       1165        70        A      0   \n",
       "8    1985      25       1192        86       1447        74        H      0   \n",
       "9    1985      25       1447        74       1192        86        A      0   \n",
       "\n",
       "   win  \n",
       "0    1  \n",
       "1    0  \n",
       "2    0  \n",
       "3    1  \n",
       "4    1  \n",
       "5    0  \n",
       "6    1  \n",
       "7    0  \n",
       "8    1  \n",
       "9    0  "
      ]
     },
     "execution_count": 3,
     "metadata": {},
     "output_type": "execute_result"
    }
   ],
   "source": [
    "tourney_results = prepare_data(tourney_results)\n",
    "regular_results = prepare_data(regular_results)\n",
    "\n",
    "tourney_results['T1_TeamID'] = tourney_results['T1_TeamID'].astype(int)\n",
    "tourney_results['T2_TeamID'] = tourney_results['T2_TeamID'].astype(int)\n",
    "\n",
    "regular_results['T1_TeamID'] = regular_results['T1_TeamID'].astype(int)\n",
    "regular_results['T2_TeamID'] = regular_results['T2_TeamID'].astype(int)\n",
    "\n",
    "tourney_results['win'] = np.where(tourney_results['T1_Score']>tourney_results['T2_Score'], 1, 0)\n",
    "regular_results['win'] = np.where(regular_results['T1_Score']>regular_results['T2_Score'], 1, 0)\n",
    "\n",
    "regular_results.head(10)"
   ]
  },
  {
   "cell_type": "code",
   "execution_count": null,
   "metadata": {},
   "outputs": [],
   "source": [
    "# # regular_results = regular_results[(regular_results['Season'] == 2024)]\n",
    "# # tourney_results = tourney_results[(tourney_results['Season'] == 2024)]\n",
    "\n",
    "# combined_teams = pd.concat([regular_results['T1_TeamID'], regular_results['T2_TeamID']]) \n",
    "# all_teams = combined_teams.drop_duplicates().tolist()\n",
    "\n",
    "# team_data = {\n",
    "#     'team_id': all_teams,   \n",
    "#     'steph_rating': [Stephenson() for _ in all_teams],\n",
    "# }\n",
    "\n",
    "# df_team = pd.DataFrame(team_data)\n",
    "# df_team.head(10)"
   ]
  },
  {
   "cell_type": "code",
   "execution_count": null,
   "metadata": {},
   "outputs": [],
   "source": [
    "def team_quality(season_start, season_end, exclude):\n",
    "    all_team_data = []\n",
    "    new_year_ratio = 1\n",
    "\n",
    "    previous_season_teams = {}\n",
    "\n",
    "    for season in range(season_start, season_end + 1):\n",
    "        if season in exclude:\n",
    "            continue\n",
    "\n",
    "        print(season)\n",
    "\n",
    "        year_regular_results = regular_results[(regular_results['Season'] == season)]\n",
    "        year_tourney_results = tourney_results[(tourney_results['Season'] == season)] #added after fact\n",
    "        combined_teams = pd.concat([year_regular_results['T1_TeamID'], year_regular_results['T2_TeamID']]) \n",
    "        all_teams = combined_teams.drop_duplicates().tolist()\n",
    "\n",
    "        team_data = {\n",
    "            'TeamID': all_teams,\n",
    "            'steph_rating': [Stephenson() for _ in all_teams],\n",
    "        }\n",
    "\n",
    "        df_team = pd.DataFrame(team_data)\n",
    "        df_team['TeamID'] = df_team['TeamID'].astype(int)\n",
    "\n",
    "        if previous_season_teams:\n",
    "            for index, row in df_team.iterrows():\n",
    "                if row['TeamID'] in previous_season_teams:\n",
    "                    prev_rating = previous_season_teams[row['TeamID']]\n",
    "                    update_rating = prev_rating*new_year_ratio + MU*(1-new_year_ratio)\n",
    "                    df_team.loc[index, 'steph_rating'] = Stephenson(mu=update_rating, sigma=80)\n",
    "\n",
    "        for index, row in year_regular_results.iterrows():\n",
    "            team_one = df_team.loc[df_team['TeamID'] == row['T1_TeamID'], 'steph_rating'].values[0]\n",
    "            team_two = df_team.loc[df_team['TeamID'] == row['T2_TeamID'], 'steph_rating'].values[0]\n",
    "\n",
    "            team_one.sigma += 100\n",
    "            team_two.sigma += 100\n",
    "\n",
    "            home_clone = copy.deepcopy(team_one)\n",
    "\n",
    "            point_ratio = float(row['T1_Score']) / (row['T1_Score'] + row['T2_Score'])\n",
    "\n",
    "            match row['location']:\n",
    "                case 'H':\n",
    "                    team_one.newVarRating(team_two, point_ratio, 1)\n",
    "                    team_two.newVarRating(home_clone, (1 - point_ratio), -1)\n",
    "                case 'A':\n",
    "                    team_one.newVarRating(team_two, point_ratio, -1)\n",
    "                    team_two.newVarRating(home_clone, (1 - point_ratio), 1)\n",
    "                case _:\n",
    "                    team_one.newVarRating(team_two, point_ratio, 0)\n",
    "                    team_two.newVarRating(home_clone, (1 - point_ratio), 0)\n",
    "\n",
    "            df_team.loc[df_team['TeamID'] == row['T1_TeamID'], 'steph_rating'] = team_one\n",
    "            df_team.loc[df_team['TeamID'] == row['T2_TeamID'], 'steph_rating'] = team_two\n",
    "\n",
    "        df_team = df_team.assign(quality=df_team['steph_rating'].apply(lambda x: x.getRating()))\n",
    "        df_team = df_team.sort_values(by=\"quality\", ascending=False)\n",
    "\n",
    "        new_team_df = df_team[['TeamID', 'quality']].reset_index(drop=True)\n",
    "        new_team_df['Season'] = season\n",
    "        new_team_df['TeamID'] = new_team_df['TeamID'].astype(int)\n",
    "\n",
    "        all_team_data.append(new_team_df)\n",
    "\n",
    "        for index, row in year_tourney_results.iterrows():\n",
    "            team_one = df_team.loc[df_team['TeamID'] == row['T1_TeamID'], 'steph_rating'].values[0]\n",
    "            team_two = df_team.loc[df_team['TeamID'] == row['T2_TeamID'], 'steph_rating'].values[0]\n",
    "\n",
    "            team_one.sigma += 100\n",
    "            team_two.sigma += 100\n",
    "\n",
    "            home_clone = copy.deepcopy(team_one)\n",
    "\n",
    "            point_ratio = float(row['T1_Score']) / (row['T1_Score'] + row['T2_Score'])\n",
    "            \n",
    "            team_one.newVarRating(team_two, point_ratio, 0)\n",
    "            team_two.newVarRating(home_clone, (1 - point_ratio), 0)\n",
    "\n",
    "            df_team.loc[df_team['TeamID'] == row['T1_TeamID'], 'steph_rating'] = team_one\n",
    "            df_team.loc[df_team['TeamID'] == row['T2_TeamID'], 'steph_rating'] = team_two\n",
    "\n",
    "        df_team = df_team.assign(quality=df_team['steph_rating'].apply(lambda x: x.getRating()))\n",
    "        df_team = df_team.sort_values(by=\"quality\", ascending=False)\n",
    "\n",
    "        march_team_df = df_team[['TeamID', 'quality']].reset_index(drop=True)\n",
    "        march_team_df['Season'] = season\n",
    "        march_team_df['TeamID'] = march_team_df['TeamID'].astype(int)\n",
    "\n",
    "        previous_season_teams = {team_id: rating for team_id, rating in zip(march_team_df['TeamID'], march_team_df['quality'])}\n",
    "\n",
    "    return pd.concat(all_team_data, ignore_index=True)\n"
   ]
  },
  {
   "cell_type": "code",
   "execution_count": null,
   "metadata": {},
   "outputs": [],
   "source": [
    "def team_quality_v2(season_start, season_end, exclude):\n",
    "    all_team_data = []\n",
    "    new_year_ratio = 1\n",
    "\n",
    "    previous_season_teams = {}\n",
    "\n",
    "    for season in range(season_start, season_end + 1):\n",
    "        if season in exclude:\n",
    "            continue\n",
    "\n",
    "        print(season)\n",
    "\n",
    "        year_regular_results = regular_results[(regular_results['Season'] == season)]\n",
    "        year_tourney_results = tourney_results[(tourney_results['Season'] == season)] #added after fact\n",
    "        combined_teams = pd.concat([year_regular_results['T1_TeamID'], year_regular_results['T2_TeamID']]) \n",
    "        all_teams = combined_teams.drop_duplicates().tolist()\n",
    "\n",
    "        team_data = {\n",
    "            'TeamID': all_teams,\n",
    "            'steph_rating': [Rating() for _ in all_teams],\n",
    "        }\n",
    "\n",
    "        df_team = pd.DataFrame(team_data)\n",
    "        df_team['TeamID'] = df_team['TeamID'].astype(int)\n",
    "\n",
    "        if previous_season_teams:\n",
    "            for index, row in df_team.iterrows():\n",
    "                if row['TeamID'] in previous_season_teams:\n",
    "                    prev_rating = previous_season_teams[row['TeamID']]\n",
    "                    update_rating = prev_rating*new_year_ratio + START_RATING*(1-new_year_ratio)\n",
    "                    df_team.loc[index, 'steph_rating'] = Rating(rating=update_rating, rd=80)\n",
    "\n",
    "        for index, row in year_regular_results.iterrows():\n",
    "            team_one = df_team.loc[df_team['TeamID'] == row['T1_TeamID'], 'steph_rating'].values[0]\n",
    "            team_two = df_team.loc[df_team['TeamID'] == row['T2_TeamID'], 'steph_rating'].values[0]\n",
    "\n",
    "            # So we don't evaluate on outcome\n",
    "            home_clone = copy.deepcopy(team_one)\n",
    "\n",
    "            point_ratio = float(row['T1_Score']) / (row['T1_Score'] + row['T2_Score'])\n",
    "            # point_ratio = row['win']\n",
    "\n",
    "            team_one.update_player(team_two.getRating(), team_two.getRd(), point_ratio)\n",
    "            team_two.update_player(home_clone.getRating(), home_clone.getRd(), (1 - point_ratio))\n",
    "    \n",
    "            df_team.loc[df_team['TeamID'] == row['T1_TeamID'], 'steph_rating'] = team_one\n",
    "            df_team.loc[df_team['TeamID'] == row['T2_TeamID'], 'steph_rating'] = team_two\n",
    "\n",
    "        df_team = df_team.assign(quality=df_team['steph_rating'].apply(lambda x: x.getRating()))\n",
    "        df_team = df_team.sort_values(by=\"quality\", ascending=False)\n",
    "\n",
    "        new_team_df = df_team[['TeamID', 'quality']].reset_index(drop=True)\n",
    "        new_team_df['Season'] = season\n",
    "        new_team_df['TeamID'] = new_team_df['TeamID'].astype(int)\n",
    "\n",
    "        all_team_data.append(new_team_df)\n",
    "\n",
    "        for index, row in year_tourney_results.iterrows():\n",
    "            team_one = df_team.loc[df_team['TeamID'] == row['T1_TeamID'], 'steph_rating'].values[0]\n",
    "            team_two = df_team.loc[df_team['TeamID'] == row['T2_TeamID'], 'steph_rating'].values[0]\n",
    "\n",
    "            # So we don't evaluate on outcome\n",
    "            home_clone = copy.deepcopy(team_one)\n",
    "\n",
    "            point_ratio = float(row['T1_Score']) / (row['T1_Score'] + row['T2_Score'])\n",
    "            # point_ratio = row['win']\n",
    "\n",
    "            team_one.update_player(team_two.getRating(), team_two.getRd(), point_ratio)\n",
    "            team_two.update_player(home_clone.getRating(), home_clone.getRd(), (1 - point_ratio))\n",
    "    \n",
    "            df_team.loc[df_team['TeamID'] == row['T1_TeamID'], 'steph_rating'] = team_one\n",
    "            df_team.loc[df_team['TeamID'] == row['T2_TeamID'], 'steph_rating'] = team_two\n",
    "\n",
    "        df_team = df_team.assign(quality=df_team['steph_rating'].apply(lambda x: x.getRating()))\n",
    "        df_team = df_team.sort_values(by=\"quality\", ascending=False)\n",
    "\n",
    "        march_team_df = df_team[['TeamID', 'quality']].reset_index(drop=True)\n",
    "        march_team_df['Season'] = season\n",
    "        march_team_df['TeamID'] = march_team_df['TeamID'].astype(int)\n",
    "\n",
    "        previous_season_teams = {team_id: rating for team_id, rating in zip(march_team_df['TeamID'], march_team_df['quality'])}\n",
    "\n",
    "    return pd.concat(all_team_data, ignore_index=True)"
   ]
  },
  {
   "cell_type": "code",
   "execution_count": null,
   "metadata": {},
   "outputs": [],
   "source": [
    "def team_quality_2(season):\n",
    "    year_regular_results = regular_results[(regular_results['Season'] == season)]\n",
    "    # year_tourney_results = tourney_results[(tourney_results['Season'] == season)]\n",
    "\n",
    "    combined_teams = pd.concat([year_regular_results['T1_TeamID'], year_regular_results['T2_TeamID']]) \n",
    "    all_teams = combined_teams.drop_duplicates().tolist()\n",
    "\n",
    "    team_data = {\n",
    "        'TeamID': all_teams,   \n",
    "        'steph_rating': [Rating() for _ in all_teams],\n",
    "    }\n",
    "\n",
    "    df_team = pd.DataFrame(team_data)\n",
    "\n",
    "    for index, row in year_regular_results.iterrows():\n",
    "        team_one = df_team.loc[df_team['TeamID'] == row['T1_TeamID'], 'steph_rating'].values[0]\n",
    "        team_two = df_team.loc[df_team['TeamID'] == row['T2_TeamID'], 'steph_rating'].values[0]\n",
    "\n",
    "        # So we don't evaluate on outcome\n",
    "        home_clone = copy.deepcopy(team_one)\n",
    "\n",
    "        point_ratio = float(row['T1_Score']) / (row['T1_Score'] + row['T2_Score'])\n",
    "        # point_ratio = row['win']\n",
    "\n",
    "        team_one.update_player(team_two.getRating(), team_two.getRd(), point_ratio)\n",
    "        team_two.update_player(home_clone.getRating(), home_clone.getRd(), (1 - point_ratio))\n",
    " \n",
    "        df_team.loc[df_team['TeamID'] == row['T1_TeamID'], 'steph_rating'] = team_one\n",
    "        df_team.loc[df_team['TeamID'] == row['T2_TeamID'], 'steph_rating'] = team_two\n",
    "\n",
    "    df_team = df_team.assign(quality=df_team['steph_rating'].apply(lambda x: x.getRating()))\n",
    "    df_team = df_team.sort_values(by=\"quality\", ascending=False)\n",
    "\n",
    "    # Select only the required columns\n",
    "    new_team_df = df_team[['TeamID', 'quality']].reset_index(drop=True)\n",
    "    new_team_df['Season'] = season\n",
    "    new_team_df['TeamID'] = new_team_df['TeamID'].astype(int)\n",
    "    return new_team_df"
   ]
  },
  {
   "cell_type": "code",
   "execution_count": null,
   "metadata": {},
   "outputs": [],
   "source": [
    "def team_quality_elo(season):\n",
    "    year_regular_results = regular_results[(regular_results['Season'] == season)]\n",
    "\n",
    "    combined_teams = pd.concat([year_regular_results['T1_TeamID'], year_regular_results['T2_TeamID']]) \n",
    "    all_teams = combined_teams.drop_duplicates().tolist()\n",
    "\n",
    "    team_data = {\n",
    "        'TeamID': all_teams,   \n",
    "        'quality': [E_START_RATING] * len(all_teams)\n",
    "    }\n",
    "\n",
    "    df_team = pd.DataFrame(team_data)\n",
    "\n",
    "    for index, row in year_regular_results.iterrows():\n",
    "        team_one = df_team.loc[df_team['TeamID'] == row['T1_TeamID'], 'quality'].values[0]\n",
    "        team_two = df_team.loc[df_team['TeamID'] == row['T2_TeamID'], 'quality'].values[0]\n",
    "\n",
    "        # point_ratio = float(row['T1_Score']) / (row['T1_Score'] + row['T2_Score'])\n",
    "        point_ratio = row['win']\n",
    "\n",
    "        new_team_one, new_team_two = base_competing_elo(team_one, team_two, point_ratio)\n",
    " \n",
    "        df_team.loc[df_team['TeamID'] == row['T1_TeamID'], 'quality'] = new_team_one\n",
    "        df_team.loc[df_team['TeamID'] == row['T2_TeamID'], 'quality'] = new_team_two\n",
    "\n",
    "    df_team = df_team.sort_values(by=\"quality\", ascending=False)\n",
    "\n",
    "    # Select only the required columns\n",
    "    new_team_df = df_team[['TeamID', 'quality']].reset_index(drop=True)\n",
    "    new_team_df['Season'] = season\n",
    "    new_team_df['TeamID'] = new_team_df['TeamID'].astype(int)\n",
    "    return new_team_df"
   ]
  },
  {
   "cell_type": "code",
   "execution_count": null,
   "metadata": {},
   "outputs": [
    {
     "name": "stdout",
     "output_type": "stream",
     "text": [
      "2010\n",
      "2011\n",
      "2012\n",
      "2013\n",
      "2014\n",
      "2015\n",
      "2016\n",
      "2017\n",
      "2018\n",
      "2019\n",
      "2021\n",
      "2022\n",
      "2023\n",
      "2024\n"
     ]
    }
   ],
   "source": [
    "# team_quality = pd.concat([team_quality(2010),\n",
    "#                          team_quality(2011),\n",
    "#                          team_quality(2012),\n",
    "#                          team_quality(2013),\n",
    "#                          team_quality(2014),\n",
    "#                          team_quality(2015),\n",
    "#                          team_quality(2016),\n",
    "#                          team_quality(2017),\n",
    "#                          team_quality(2018),\n",
    "#                          team_quality(2019),\n",
    "#                          ##team_quality(2020),\n",
    "#                          team_quality(2021),\n",
    "#                          team_quality(2022),\n",
    "#                          team_quality(2023),\n",
    "#                          team_quality(2024)\n",
    "#                          ]).reset_index(drop=True)\n",
    "\n",
    "team_quality = team_quality_v2(2010, 2024, {2020})"
   ]
  },
  {
   "cell_type": "code",
   "execution_count": null,
   "metadata": {},
   "outputs": [
    {
     "data": {
      "text/plain": [
       "<Axes: ylabel='Density'>"
      ]
     },
     "execution_count": 10,
     "metadata": {},
     "output_type": "execute_result"
    },
    {
     "data": {
      "image/png": "[encoded data removed]",
      "text/plain": [
       "<Figure size 640x480 with 1 Axes>"
      ]
     },
     "metadata": {},
     "output_type": "display_data"
    }
   ],
   "source": [
    "# from sklearn.preprocessing import StandardScaler\n",
    "\n",
    "# scaler = StandardScaler()\n",
    "# team_quality[[\"quality\"]] = scaler.fit_transform(team_quality[[\"quality\"]]) \n",
    "\n",
    "sns.set_style('whitegrid')\n",
    "sns.kdeplot(np.array(team_quality['quality']), bw_method=0.1)"
   ]
  },
  {
   "cell_type": "markdown",
   "metadata": {},
   "source": [
    "# March Madness teams - team strength overview"
   ]
  },
  {
   "cell_type": "code",
   "execution_count": null,
   "metadata": {},
   "outputs": [],
   "source": [
    "team_quality_T1 = team_quality[['TeamID','Season','quality']]\n",
    "team_quality_T1.columns = ['T1_TeamID','Season','T1_quality']\n",
    "team_quality_T2 = team_quality[['TeamID','Season','quality']]\n",
    "team_quality_T2.columns = ['T2_TeamID','Season','T2_quality']\n",
    "\n",
    "tourney_results['T1_TeamID'] = tourney_results['T1_TeamID'].astype(int)\n",
    "tourney_results['T2_TeamID'] = tourney_results['T2_TeamID'].astype(int)\n",
    "tourney_results = tourney_results.merge(team_quality_T1, on = ['T1_TeamID','Season'], how = 'left')\n",
    "tourney_results = tourney_results.merge(team_quality_T2, on = ['T2_TeamID','Season'], how = 'left')"
   ]
  },
  {
   "cell_type": "code",
   "execution_count": null,
   "metadata": {},
   "outputs": [],
   "source": [
    "# we only have tourney results since year 2010\n",
    "tourney_results = tourney_results.loc[tourney_results['Season'] >= 2010].reset_index(drop=True)\n",
    "\n",
    "# not interested in pre-selection matches\n",
    "tourney_results = tourney_results.loc[tourney_results['DayNum'] >= 136].reset_index(drop=True)"
   ]
  },
  {
   "cell_type": "code",
   "execution_count": null,
   "metadata": {},
   "outputs": [],
   "source": [
    "seeds['seed'] = seeds['Seed'].apply(lambda x: int(x[1:3]))\n",
    "seeds['division'] = seeds['Seed'].apply(lambda x: x[0])\n",
    "\n",
    "seeds_T1 = seeds[['Season','TeamID','seed','division']].copy()\n",
    "seeds_T2 = seeds[['Season','TeamID','seed','division']].copy()\n",
    "seeds_T1.columns = ['Season','T1_TeamID','T1_seed','T1_division']\n",
    "seeds_T2.columns = ['Season','T2_TeamID','T2_seed','T2_division']\n",
    "\n",
    "tourney_results = tourney_results.merge(seeds_T1, on = ['Season', 'T1_TeamID'], how = 'left')\n",
    "tourney_results = tourney_results.merge(seeds_T2, on = ['Season', 'T2_TeamID'], how = 'left')"
   ]
  },
  {
   "cell_type": "code",
   "execution_count": null,
   "metadata": {},
   "outputs": [],
   "source": [
    "tourney_results = tourney_results.dropna()\n",
    "\n",
    "tourney_results['T1_powerrank'] = tourney_results.groupby(['Season','T1_division'])['T1_quality'].rank(method='dense', ascending=False).astype(int)\n",
    "tourney_results['T2_powerrank'] = tourney_results.groupby(['Season','T2_division'])['T2_quality'].rank(method='dense', ascending=False).astype(int)\n",
    "\n",
    "tourney_results = tourney_results[~tourney_results['T1_powerrank'].isin([17, 18]) & ~tourney_results['T2_powerrank'].isin([17, 18])]\n"
   ]
  },
  {
   "cell_type": "code",
   "execution_count": null,
   "metadata": {},
   "outputs": [],
   "source": [
    "piv = pd.pivot_table(tourney_results, index = ['T1_seed'], columns=['T1_powerrank'], values = ['T1_TeamID'], aggfunc=len)\n",
    "piv = piv.xs('T1_TeamID', axis=1, drop_level=True)"
   ]
  },
  {
   "cell_type": "code",
   "execution_count": null,
   "metadata": {},
   "outputs": [
    {
     "data": {
      "text/plain": [
       "<Axes: xlabel='T1_powerrank', ylabel='T1_seed'>"
      ]
     },
     "execution_count": 16,
     "metadata": {},
     "output_type": "execute_result"
    },
    {
     "data": {
      "image/png": "[encoded data removed]",
      "text/plain": [
       "<Figure size 1200x800 with 2 Axes>"
      ]
     },
     "metadata": {},
     "output_type": "display_data"
    }
   ],
   "source": [
    "fig, ax = plt.subplots(figsize=(12,8))\n",
    "sns.heatmap(piv, annot=True,cmap='Blues', fmt='g')"
   ]
  },
  {
   "cell_type": "code",
   "execution_count": null,
   "metadata": {},
   "outputs": [],
   "source": [
    "tourney_results['win'] = np.where(tourney_results['T1_Score'] > tourney_results['T2_Score'], 1, 0)"
   ]
  },
  {
   "cell_type": "code",
   "execution_count": null,
   "metadata": {},
   "outputs": [
    {
     "data": {
      "application/vnd.microsoft.datawrangler.viewer.v0+json": {
       "columns": [
        {
         "name": "index",
         "rawType": "int64",
         "type": "integer"
        },
        {
         "name": "seed_win_ratio",
         "rawType": "float64",
         "type": "float"
        },
        {
         "name": "powerrank_win_ratio",
         "rawType": "float64",
         "type": "float"
        }
       ],
       "conversionMethod": "pd.DataFrame",
       "ref": "9e26c810-7132-4a0f-b49e-cd934fc0d9a7",
       "rows": [
        [
         "1",
         "0.786046511627907",
         "0.7927927927927928"
        ],
        [
         "2",
         "0.6857142857142857",
         "0.6823529411764706"
        ],
        [
         "3",
         "0.6474358974358975",
         "0.6190476190476191"
        ],
        [
         "4",
         "0.6333333333333333",
         "0.5955882352941176"
        ],
        [
         "5",
         "0.5447154471544715",
         "0.5669291338582677"
        ],
        [
         "6",
         "0.422680412371134",
         "0.504424778761062"
        ],
        [
         "7",
         "0.4954128440366973",
         "0.4909090909090909"
        ],
        [
         "8",
         "0.44554455445544555",
         "0.4105263157894737"
        ],
        [
         "9",
         "0.40425531914893614",
         "0.4563106796116505"
        ],
        [
         "10",
         "0.35294117647058826",
         "0.3488372093023256"
        ],
        [
         "11",
         "0.5",
         "0.37777777777777777"
        ],
        [
         "12",
         "0.3253012048192771",
         "0.42857142857142855"
        ],
        [
         "13",
         "0.2",
         "0.25333333333333335"
        ],
        [
         "14",
         "0.125",
         "0.2112676056338028"
        ],
        [
         "15",
         "0.17647058823529413",
         "0.08196721311475409"
        ],
        [
         "16",
         "0.03571428571428571",
         "0.05172413793103448"
        ]
       ],
       "shape": {
        "columns": 2,
        "rows": 16
       }
      },
      "text/html": [
       "<div>\n",
       "<style scoped>\n",
       "    .dataframe tbody tr th:only-of-type {\n",
       "        vertical-align: middle;\n",
       "    }\n",
       "\n",
       "    .dataframe tbody tr th {\n",
       "        vertical-align: top;\n",
       "    }\n",
       "\n",
       "    .dataframe thead th {\n",
       "        text-align: right;\n",
       "    }\n",
       "</style>\n",
       "<table border=\"1\" class=\"dataframe\">\n",
       "  <thead>\n",
       "    <tr style=\"text-align: right;\">\n",
       "      <th></th>\n",
       "      <th>seed_win_ratio</th>\n",
       "      <th>powerrank_win_ratio</th>\n",
       "    </tr>\n",
       "  </thead>\n",
       "  <tbody>\n",
       "    <tr>\n",
       "      <th>1</th>\n",
       "      <td>0.786047</td>\n",
       "      <td>0.792793</td>\n",
       "    </tr>\n",
       "    <tr>\n",
       "      <th>2</th>\n",
       "      <td>0.685714</td>\n",
       "      <td>0.682353</td>\n",
       "    </tr>\n",
       "    <tr>\n",
       "      <th>3</th>\n",
       "      <td>0.647436</td>\n",
       "      <td>0.619048</td>\n",
       "    </tr>\n",
       "    <tr>\n",
       "      <th>4</th>\n",
       "      <td>0.633333</td>\n",
       "      <td>0.595588</td>\n",
       "    </tr>\n",
       "    <tr>\n",
       "      <th>5</th>\n",
       "      <td>0.544715</td>\n",
       "      <td>0.566929</td>\n",
       "    </tr>\n",
       "    <tr>\n",
       "      <th>6</th>\n",
       "      <td>0.422680</td>\n",
       "      <td>0.504425</td>\n",
       "    </tr>\n",
       "    <tr>\n",
       "      <th>7</th>\n",
       "      <td>0.495413</td>\n",
       "      <td>0.490909</td>\n",
       "    </tr>\n",
       "    <tr>\n",
       "      <th>8</th>\n",
       "      <td>0.445545</td>\n",
       "      <td>0.410526</td>\n",
       "    </tr>\n",
       "    <tr>\n",
       "      <th>9</th>\n",
       "      <td>0.404255</td>\n",
       "      <td>0.456311</td>\n",
       "    </tr>\n",
       "    <tr>\n",
       "      <th>10</th>\n",
       "      <td>0.352941</td>\n",
       "      <td>0.348837</td>\n",
       "    </tr>\n",
       "    <tr>\n",
       "      <th>11</th>\n",
       "      <td>0.500000</td>\n",
       "      <td>0.377778</td>\n",
       "    </tr>\n",
       "    <tr>\n",
       "      <th>12</th>\n",
       "      <td>0.325301</td>\n",
       "      <td>0.428571</td>\n",
       "    </tr>\n",
       "    <tr>\n",
       "      <th>13</th>\n",
       "      <td>0.200000</td>\n",
       "      <td>0.253333</td>\n",
       "    </tr>\n",
       "    <tr>\n",
       "      <th>14</th>\n",
       "      <td>0.125000</td>\n",
       "      <td>0.211268</td>\n",
       "    </tr>\n",
       "    <tr>\n",
       "      <th>15</th>\n",
       "      <td>0.176471</td>\n",
       "      <td>0.081967</td>\n",
       "    </tr>\n",
       "    <tr>\n",
       "      <th>16</th>\n",
       "      <td>0.035714</td>\n",
       "      <td>0.051724</td>\n",
       "    </tr>\n",
       "  </tbody>\n",
       "</table>\n",
       "</div>"
      ],
      "text/plain": [
       "    seed_win_ratio  powerrank_win_ratio\n",
       "1         0.786047             0.792793\n",
       "2         0.685714             0.682353\n",
       "3         0.647436             0.619048\n",
       "4         0.633333             0.595588\n",
       "5         0.544715             0.566929\n",
       "6         0.422680             0.504425\n",
       "7         0.495413             0.490909\n",
       "8         0.445545             0.410526\n",
       "9         0.404255             0.456311\n",
       "10        0.352941             0.348837\n",
       "11        0.500000             0.377778\n",
       "12        0.325301             0.428571\n",
       "13        0.200000             0.253333\n",
       "14        0.125000             0.211268\n",
       "15        0.176471             0.081967\n",
       "16        0.035714             0.051724"
      ]
     },
     "execution_count": 18,
     "metadata": {},
     "output_type": "execute_result"
    }
   ],
   "source": [
    "mean_win_ratio = pd.DataFrame({'seed_win_ratio': tourney_results.groupby('T1_seed')['win'].mean(),\n",
    "                               'powerrank_win_ratio': tourney_results.groupby('T1_powerrank')['win'].mean()})\n",
    "mean_win_ratio"
   ]
  },
  {
   "cell_type": "code",
   "execution_count": null,
   "metadata": {},
   "outputs": [
    {
     "data": {
      "text/plain": [
       "<Axes: ylabel='seed_win_ratio'>"
      ]
     },
     "execution_count": 19,
     "metadata": {},
     "output_type": "execute_result"
    },
    {
     "data": {
      "image/png": "[encoded data removed]",
      "text/plain": [
       "<Figure size 640x480 with 1 Axes>"
      ]
     },
     "metadata": {},
     "output_type": "display_data"
    }
   ],
   "source": [
    "sns.set_style('whitegrid')\n",
    "sns.lineplot(mean_win_ratio['seed_win_ratio']) # Blue\n",
    "sns.lineplot(mean_win_ratio['powerrank_win_ratio']) # Orange"
   ]
  },
  {
   "cell_type": "code",
   "execution_count": null,
   "metadata": {},
   "outputs": [
    {
     "name": "stdout",
     "output_type": "stream",
     "text": [
      "seed AUC: 0.7182401589360969\n",
      "powerrank AUC: 0.714445843066065\n",
      "team quality AUC: 0.7164834357820091\n"
     ]
    }
   ],
   "source": [
    "from sklearn.metrics import roc_auc_score\n",
    "\n",
    "print(f\"seed AUC: {roc_auc_score(tourney_results['win'],-tourney_results['T1_seed'])}\")\n",
    "print(f\"powerrank AUC: {roc_auc_score(tourney_results['win'],-tourney_results['T1_powerrank'])}\")\n",
    "print(f\"team quality AUC: {roc_auc_score(tourney_results['win'],tourney_results['T1_quality'])}\")"
   ]
  }
 ],
 "metadata": {
  "kernelspec": {
   "display_name": "base",
   "language": "python",
   "name": "python3"
  },
  "language_info": {
   "codemirror_mode": {
    "name": "ipython",
    "version": 3
   },
   "file_extension": ".py",
   "mimetype": "text/x-python",
   "name": "python",
   "nbconvert_exporter": "python",
   "pygments_lexer": "ipython3",
   "version": "3.12.2"
  }
 },
 "nbformat": 4,
 "nbformat_minor": 2
}
