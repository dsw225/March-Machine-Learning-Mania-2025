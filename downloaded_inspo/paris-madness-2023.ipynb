{
 "cells": [
  {
   "cell_type": "code",
   "execution_count": 11,
   "metadata": {
    "_cell_guid": "b1076dfc-b9ad-4769-8c92-a6c4dae69d19",
    "_uuid": "8f2839f25d086af736a60e9eeb907d3b93b6e0e5",
    "execution": {
     "iopub.execute_input": "2023-03-14T23:50:07.234100Z",
     "iopub.status.busy": "2023-03-14T23:50:07.233560Z",
     "iopub.status.idle": "2023-03-14T23:50:08.983773Z",
     "shell.execute_reply": "2023-03-14T23:50:08.983001Z",
     "shell.execute_reply.started": "2023-03-14T23:50:07.234039Z"
    }
   },
   "outputs": [],
   "source": [
    "import numpy as np\n",
    "import pandas as pd\n",
    "import os\n",
    "import xgboost as xgb\n",
    "from sklearn.model_selection import KFold\n",
    "from sklearn.metrics import log_loss\n",
    "from scipy.interpolate import UnivariateSpline\n",
    "import statsmodels.api as sm\n",
    "import matplotlib.pyplot as plt\n",
    "import collections\n",
    "\n",
    "# pd.set_option(\"display.max_column\", 999)\n",
    "# print(os.listdir(\"../input\"))"
   ]
  },
  {
   "cell_type": "markdown",
   "metadata": {
    "_uuid": "afe4811283fd6778ba3b67f2a469ab12b1b74c43"
   },
   "source": [
    "# Load the data!"
   ]
  },
  {
   "cell_type": "code",
   "execution_count": 12,
   "metadata": {
    "_cell_guid": "79c7e3d0-c299-4dcb-8224-4455121ee9b0",
    "_uuid": "d629ff2d2480ee46fbb7e2d37f6b5fab8052498a",
    "execution": {
     "iopub.execute_input": "2023-03-14T23:50:08.986686Z",
     "iopub.status.busy": "2023-03-14T23:50:08.986285Z",
     "iopub.status.idle": "2023-03-14T23:50:09.735321Z",
     "shell.execute_reply": "2023-03-14T23:50:09.734749Z",
     "shell.execute_reply.started": "2023-03-14T23:50:08.986623Z"
    }
   },
   "outputs": [],
   "source": [
    "# DATA_PATH = '../data/'\n",
    "\n",
    "# tourney_results = pd.concat([\n",
    "#     pd.read_csv(DATA_PATH + \"mens/MNCAATourneyDetailedResults.csv\"),\n",
    "#     pd.read_csv(DATA_PATH + \"womens/WNCAATourneyDetailedResults.csv\"),\n",
    "# ], ignore_index=True)\n",
    "\n",
    "# seeds = pd.concat([\n",
    "#     pd.read_csv(DATA_PATH + \"mens/MNCAATourneySeeds.csv\"),\n",
    "#     pd.read_csv(DATA_PATH + \"womens/WNCAATourneySeeds.csv\"),\n",
    "# ], ignore_index=True)\n",
    "\n",
    "# regular_results = pd.concat([\n",
    "#     pd.read_csv(DATA_PATH + \"mens/MRegularSeasonDetailedResults.csv\"),\n",
    "#     pd.read_csv(DATA_PATH + \"womens/WRegularSeasonDetailedResults.csv\"),\n",
    "# ], ignore_index=True)\n"
   ]
  },
  {
   "cell_type": "code",
   "execution_count": 13,
   "metadata": {
    "_uuid": "68268ded6cc4d6c7e7e7a2223f5d52f53249d4f8",
    "execution": {
     "iopub.execute_input": "2023-03-14T23:50:09.807940Z",
     "iopub.status.busy": "2023-03-14T23:50:09.807571Z",
     "iopub.status.idle": "2023-03-14T23:50:09.955555Z",
     "shell.execute_reply": "2023-03-14T23:50:09.954802Z",
     "shell.execute_reply.started": "2023-03-14T23:50:09.807888Z"
    }
   },
   "outputs": [],
   "source": [
    "# regular_results.groupby('Season').mean()"
   ]
  },
  {
   "cell_type": "code",
   "execution_count": 14,
   "metadata": {
    "_uuid": "ddb880d395bdf960a6fac399590048a62b00e0a1",
    "execution": {
     "iopub.execute_input": "2023-03-14T23:50:09.957146Z",
     "iopub.status.busy": "2023-03-14T23:50:09.956746Z",
     "iopub.status.idle": "2023-03-14T23:50:10.004165Z",
     "shell.execute_reply": "2023-03-14T23:50:10.003210Z",
     "shell.execute_reply.started": "2023-03-14T23:50:09.957095Z"
    }
   },
   "outputs": [],
   "source": [
    "# tourney_results.groupby('Season').mean()"
   ]
  },
  {
   "cell_type": "code",
   "execution_count": 15,
   "metadata": {
    "_uuid": "9f0b89012882ce8033f9c70e8e0ee450b6dd52c2",
    "execution": {
     "iopub.execute_input": "2023-03-14T23:50:10.048984Z",
     "iopub.status.busy": "2023-03-14T23:50:10.048768Z",
     "iopub.status.idle": "2023-03-14T23:50:10.060170Z",
     "shell.execute_reply": "2023-03-14T23:50:10.059169Z",
     "shell.execute_reply.started": "2023-03-14T23:50:10.048935Z"
    }
   },
   "outputs": [],
   "source": [
    "# all(regular_results.columns == tourney_results.columns)"
   ]
  },
  {
   "cell_type": "markdown",
   "metadata": {
    "_uuid": "20a1490f4d5e0c7916ed661855497604980d2925"
   },
   "source": [
    "# Data preparation!"
   ]
  },
  {
   "cell_type": "code",
   "execution_count": 16,
   "metadata": {
    "_uuid": "c64aa4973491277a0e49828b1c0a1a3c9bf076cd",
    "execution": {
     "iopub.execute_input": "2023-03-14T23:50:10.074173Z",
     "iopub.status.busy": "2023-03-14T23:50:10.073792Z",
     "iopub.status.idle": "2023-03-14T23:50:10.103484Z",
     "shell.execute_reply": "2023-03-14T23:50:10.102947Z",
     "shell.execute_reply.started": "2023-03-14T23:50:10.074126Z"
    }
   },
   "outputs": [],
   "source": [
    "# regular_results_swap = regular_results[[\n",
    "#     'Season', 'DayNum', 'LTeamID', 'LScore', 'WTeamID', 'WScore', 'WLoc', 'NumOT', \n",
    "#     'LFGM', 'LFGA', 'LFGM3', 'LFGA3', 'LFTM', 'LFTA', 'LOR', 'LDR', 'LAst', 'LTO', 'LStl', 'LBlk', 'LPF', \n",
    "#     'WFGM', 'WFGA', 'WFGM3', 'WFGA3', 'WFTM', 'WFTA', 'WOR', 'WDR', 'WAst', 'WTO', 'WStl', 'WBlk', 'WPF']]"
   ]
  },
  {
   "cell_type": "code",
   "execution_count": 17,
   "metadata": {
    "_uuid": "5e1cb14edd0d7c3bda4293fce6de17b9e9c09670",
    "execution": {
     "iopub.execute_input": "2023-03-14T23:50:10.163110Z",
     "iopub.status.busy": "2023-03-14T23:50:10.162796Z",
     "iopub.status.idle": "2023-03-14T23:50:10.273663Z",
     "shell.execute_reply": "2023-03-14T23:50:10.272772Z",
     "shell.execute_reply.started": "2023-03-14T23:50:10.163049Z"
    }
   },
   "outputs": [],
   "source": [
    "# regular_results_swap.loc[regular_results['WLoc'] == 'H', 'WLoc'] = 'A'\n",
    "# regular_results_swap.loc[regular_results['WLoc'] == 'A', 'WLoc'] = 'H'\n",
    "# regular_results.columns.values[6] = 'location'\n",
    "# regular_results_swap.columns.values[6] = 'location'"
   ]
  },
  {
   "cell_type": "code",
   "execution_count": 18,
   "metadata": {
    "_uuid": "7d62870443808d016ec18626c504ef1ab5a2ea5b",
    "execution": {
     "iopub.execute_input": "2023-03-14T23:50:10.321710Z",
     "iopub.status.busy": "2023-03-14T23:50:10.321474Z",
     "iopub.status.idle": "2023-03-14T23:50:10.332928Z",
     "shell.execute_reply": "2023-03-14T23:50:10.331798Z",
     "shell.execute_reply.started": "2023-03-14T23:50:10.321657Z"
    }
   },
   "outputs": [],
   "source": [
    "# regular_results.columns = [x.replace('W','T1_').replace('L','T2_') for x in list(regular_results.columns)]\n",
    "# regular_results_swap.columns = [x.replace('L','T1_').replace('W','T2_') for x in list(regular_results.columns)]"
   ]
  },
  {
   "cell_type": "code",
   "execution_count": 19,
   "metadata": {
    "_uuid": "29b55b8ce793fce07e138a37650d145c5c535522",
    "execution": {
     "iopub.execute_input": "2023-03-14T23:50:10.396237Z",
     "iopub.status.busy": "2023-03-14T23:50:10.395941Z",
     "iopub.status.idle": "2023-03-14T23:50:10.696741Z",
     "shell.execute_reply": "2023-03-14T23:50:10.696148Z",
     "shell.execute_reply.started": "2023-03-14T23:50:10.396166Z"
    }
   },
   "outputs": [],
   "source": [
    "# regular_data = pd.concat([regular_results, regular_results_swap]).sort_index().reset_index(drop = True)"
   ]
  },
  {
   "cell_type": "code",
   "execution_count": 20,
   "metadata": {
    "_uuid": "512dcd34de61fd5e61cd08eccc1c9560362f4178",
    "execution": {
     "iopub.execute_input": "2023-03-14T23:50:10.729373Z",
     "iopub.status.busy": "2023-03-14T23:50:10.728869Z",
     "iopub.status.idle": "2023-03-14T23:50:11.189578Z",
     "shell.execute_reply": "2023-03-14T23:50:11.188462Z",
     "shell.execute_reply.started": "2023-03-14T23:50:10.729322Z"
    }
   },
   "outputs": [],
   "source": [
    "\"\"\"\n",
    "tourney_results = pd.read_csv('../input/WNCAATourneyDetailedResults.csv')\n",
    "seeds = pd.read_csv('../input/WNCAATourneySeeds.csv')\n",
    "regular_results = pd.read_csv('../input/WRegularSeasonDetailedResults.csv')\n",
    "\"\"\"\n",
    "DATA_PATH = '../data/'\n",
    "\n",
    "tourney_results = pd.concat([\n",
    "    pd.read_csv(DATA_PATH + \"mens/MNCAATourneyDetailedResults.csv\"),\n",
    "    pd.read_csv(DATA_PATH + \"womens/WNCAATourneyDetailedResults.csv\"),\n",
    "], ignore_index=True)\n",
    "\n",
    "seeds = pd.concat([\n",
    "    pd.read_csv(DATA_PATH + \"mens/MNCAATourneySeeds.csv\"),\n",
    "    pd.read_csv(DATA_PATH + \"womens/WNCAATourneySeeds.csv\"),\n",
    "], ignore_index=True)\n",
    "\n",
    "regular_results = pd.concat([\n",
    "    pd.read_csv(DATA_PATH + \"mens/MRegularSeasonDetailedResults.csv\"),\n",
    "    pd.read_csv(DATA_PATH + \"womens/WRegularSeasonDetailedResults.csv\"),\n",
    "], ignore_index=True)\n",
    "\n",
    "\n",
    "def prepare_data(df):\n",
    "    dfswap = df[['Season', 'DayNum', 'LTeamID', 'LScore', 'WTeamID', 'WScore', 'WLoc', 'NumOT', \n",
    "    'LFGM', 'LFGA', 'LFGM3', 'LFGA3', 'LFTM', 'LFTA', 'LOR', 'LDR', 'LAst', 'LTO', 'LStl', 'LBlk', 'LPF', \n",
    "    'WFGM', 'WFGA', 'WFGM3', 'WFGA3', 'WFTM', 'WFTA', 'WOR', 'WDR', 'WAst', 'WTO', 'WStl', 'WBlk', 'WPF']]\n",
    "\n",
    "    dfswap.loc[df['WLoc'] == 'H', 'WLoc'] = 'A'\n",
    "    dfswap.loc[df['WLoc'] == 'A', 'WLoc'] = 'H'\n",
    "    df.columns.values[6] = 'location'\n",
    "    dfswap.columns.values[6] = 'location'    \n",
    "      \n",
    "    df.columns = [x.replace('W','T1_').replace('L','T2_') for x in list(df.columns)]\n",
    "    dfswap.columns = [x.replace('L','T1_').replace('W','T2_') for x in list(dfswap.columns)]\n",
    "\n",
    "    output = pd.concat([df, dfswap]).reset_index(drop=True)\n",
    "    output.loc[output.location=='N','location'] = '0'\n",
    "    output.loc[output.location=='H','location'] = '1'\n",
    "    output.loc[output.location=='A','location'] = '-1'\n",
    "    output.location = output.location.astype(int)\n",
    "    \n",
    "    output['PointDiff'] = output['T1_Score'] - output['T2_Score']\n",
    "    \n",
    "    return output"
   ]
  },
  {
   "cell_type": "code",
   "execution_count": 21,
   "metadata": {
    "_uuid": "6a7bf779e16fe27aa89633ff78f89d452794aa84",
    "execution": {
     "iopub.execute_input": "2023-03-14T23:50:11.191620Z",
     "iopub.status.busy": "2023-03-14T23:50:11.191292Z",
     "iopub.status.idle": "2023-03-14T23:50:11.880609Z",
     "shell.execute_reply": "2023-03-14T23:50:11.880014Z",
     "shell.execute_reply.started": "2023-03-14T23:50:11.191559Z"
    }
   },
   "outputs": [],
   "source": [
    "regular_data = prepare_data(regular_results)\n",
    "tourney_data = prepare_data(tourney_results)"
   ]
  },
  {
   "cell_type": "markdown",
   "metadata": {
    "_uuid": "6dbbc08907e17be459f936ed59e6f50a6dade35c"
   },
   "source": [
    "# Feature engineering!"
   ]
  },
  {
   "cell_type": "code",
   "execution_count": 22,
   "metadata": {
    "_uuid": "ca9f902b70fce0de0db21be2e9f047b233e4d65c",
    "execution": {
     "iopub.execute_input": "2023-03-14T23:50:11.970206Z",
     "iopub.status.busy": "2023-03-14T23:50:11.969968Z",
     "iopub.status.idle": "2023-03-14T23:50:11.980894Z",
     "shell.execute_reply": "2023-03-14T23:50:11.979383Z",
     "shell.execute_reply.started": "2023-03-14T23:50:11.970159Z"
    }
   },
   "outputs": [],
   "source": [
    "boxscore_cols = ['T1_Score', 'T2_Score', \n",
    "        'T1_FGM', 'T1_FGA', 'T1_FGM3', 'T1_FGA3', 'T1_FTM', 'T1_FTA', 'T1_OR', 'T1_DR', 'T1_Ast', 'T1_TO', 'T1_Stl', 'T1_Blk', 'T1_PF', \n",
    "        'T2_FGM', 'T2_FGA', 'T2_FGM3', 'T2_FGA3', 'T2_FTM', 'T2_FTA', 'T2_OR', 'T2_DR', 'T2_Ast', 'T2_TO', 'T2_Stl', 'T2_Blk', 'T2_PF', \n",
    "        'PointDiff']\n",
    "\n",
    "boxscore_cols = [\n",
    "        'T1_FGM', 'T1_FGA', 'T1_FGM3', 'T1_FGA3', 'T1_OR', 'T1_Ast', 'T1_TO', 'T1_Stl', 'T1_PF', \n",
    "        'T2_FGM', 'T2_FGA', 'T2_FGM3', 'T2_FGA3', 'T2_OR', 'T2_Ast', 'T2_TO', 'T2_Stl', 'T2_Blk',  \n",
    "        'PointDiff']\n",
    "\n",
    "funcs = [np.mean]"
   ]
  },
  {
   "cell_type": "code",
   "execution_count": 23,
   "metadata": {
    "_uuid": "cf3b9993b75751d5a380afa30b0e9519cf18e639",
    "execution": {
     "iopub.execute_input": "2023-03-14T23:50:11.985138Z",
     "iopub.status.busy": "2023-03-14T23:50:11.984838Z",
     "iopub.status.idle": "2023-03-14T23:50:12.283559Z",
     "shell.execute_reply": "2023-03-14T23:50:12.282911Z",
     "shell.execute_reply.started": "2023-03-14T23:50:11.985082Z"
    },
    "scrolled": true
   },
   "outputs": [
    {
     "name": "stderr",
     "output_type": "stream",
     "text": [
      "/var/folders/ml/c9m4gk2d5j1gjzt21jgb5d3r0000gn/T/ipykernel_60753/1527646356.py:1: FutureWarning: The provided callable <function mean at 0x10d03fd80> is currently using SeriesGroupBy.mean. In a future version of pandas, the provided callable will be used directly. To keep current behavior pass the string \"mean\" instead.\n",
      "  season_statistics = regular_data.groupby([\"Season\", 'T1_TeamID'])[boxscore_cols].agg(funcs)\n",
      "/var/folders/ml/c9m4gk2d5j1gjzt21jgb5d3r0000gn/T/ipykernel_60753/1527646356.py:2: FutureWarning: The provided callable <function mean at 0x10d03fd80> is currently using SeriesGroupBy.mean. In a future version of pandas, the provided callable will be used directly. To keep current behavior pass the string \"mean\" instead.\n",
      "  season_statistics = regular_data.groupby([\"Season\", 'T1_TeamID'])[boxscore_cols].agg(funcs).reset_index()\n"
     ]
    }
   ],
   "source": [
    "season_statistics = regular_data.groupby([\"Season\", 'T1_TeamID'])[boxscore_cols].agg(funcs)\n",
    "season_statistics = regular_data.groupby([\"Season\", 'T1_TeamID'])[boxscore_cols].agg(funcs).reset_index()\n",
    "season_statistics.columns = [''.join(col).strip() for col in season_statistics.columns.values]"
   ]
  },
  {
   "cell_type": "code",
   "execution_count": 24,
   "metadata": {
    "_uuid": "bac629b77123932c43842a10dbbe1ac6e6d5871b",
    "execution": {
     "iopub.execute_input": "2023-03-14T23:50:12.523681Z",
     "iopub.status.busy": "2023-03-14T23:50:12.523324Z",
     "iopub.status.idle": "2023-03-14T23:50:12.531218Z",
     "shell.execute_reply": "2023-03-14T23:50:12.529847Z",
     "shell.execute_reply.started": "2023-03-14T23:50:12.523614Z"
    }
   },
   "outputs": [],
   "source": [
    "season_statistics_T1 = season_statistics.copy()\n",
    "season_statistics_T2 = season_statistics.copy()\n",
    "\n",
    "season_statistics_T1.columns = [\"T1_\" + x.replace(\"T1_\",\"\").replace(\"T2_\",\"opponent_\") for x in list(season_statistics_T1.columns)]\n",
    "season_statistics_T2.columns = [\"T2_\" + x.replace(\"T1_\",\"\").replace(\"T2_\",\"opponent_\") for x in list(season_statistics_T2.columns)]\n",
    "season_statistics_T1.columns.values[0] = \"Season\"\n",
    "season_statistics_T2.columns.values[0] = \"Season\""
   ]
  },
  {
   "cell_type": "code",
   "execution_count": 25,
   "metadata": {
    "_uuid": "632f6a9c61b60ed1ea391aa784589356a228c429",
    "execution": {
     "iopub.execute_input": "2023-03-14T23:50:12.614322Z",
     "iopub.status.busy": "2023-03-14T23:50:12.614098Z",
     "iopub.status.idle": "2023-03-14T23:50:12.626991Z",
     "shell.execute_reply": "2023-03-14T23:50:12.626259Z",
     "shell.execute_reply.started": "2023-03-14T23:50:12.614271Z"
    }
   },
   "outputs": [],
   "source": [
    "tourney_data = tourney_data[['Season', 'DayNum', 'T1_TeamID', 'T1_Score', 'T2_TeamID' ,'T2_Score']]"
   ]
  },
  {
   "cell_type": "code",
   "execution_count": 26,
   "metadata": {
    "_uuid": "b695d847f457c01b16ca4649d5219fb326ee180e",
    "execution": {
     "iopub.execute_input": "2023-03-14T23:50:12.628255Z",
     "iopub.status.busy": "2023-03-14T23:50:12.628026Z",
     "iopub.status.idle": "2023-03-14T23:50:12.652413Z",
     "shell.execute_reply": "2023-03-14T23:50:12.651444Z",
     "shell.execute_reply.started": "2023-03-14T23:50:12.628209Z"
    }
   },
   "outputs": [],
   "source": [
    "tourney_data = pd.merge(tourney_data, season_statistics_T1, on = ['Season', 'T1_TeamID'], how = 'left')\n",
    "tourney_data = pd.merge(tourney_data, season_statistics_T2, on = ['Season', 'T2_TeamID'], how = 'left')"
   ]
  },
  {
   "cell_type": "code",
   "execution_count": 27,
   "metadata": {
    "_uuid": "bbe5b07505a16c7fa38e486c11089dd68122ae56",
    "execution": {
     "iopub.execute_input": "2023-03-14T23:50:12.693564Z",
     "iopub.status.busy": "2023-03-14T23:50:12.693240Z",
     "iopub.status.idle": "2023-03-14T23:50:12.730248Z",
     "shell.execute_reply": "2023-03-14T23:50:12.728831Z",
     "shell.execute_reply.started": "2023-03-14T23:50:12.693507Z"
    }
   },
   "outputs": [],
   "source": [
    "last14days_stats_T1 = regular_data.loc[regular_data.DayNum>118].reset_index(drop=True)\n",
    "last14days_stats_T1['win'] = np.where(last14days_stats_T1['PointDiff']>0,1,0)\n",
    "last14days_stats_T1 = last14days_stats_T1.groupby(['Season','T1_TeamID'])['win'].mean().reset_index(name='T1_win_ratio_14d')\n",
    "\n",
    "last14days_stats_T2 = regular_data.loc[regular_data.DayNum>118].reset_index(drop=True)\n",
    "last14days_stats_T2['win'] = np.where(last14days_stats_T2['PointDiff']<0,1,0)\n",
    "last14days_stats_T2 = last14days_stats_T2.groupby(['Season','T2_TeamID'])['win'].mean().reset_index(name='T2_win_ratio_14d')"
   ]
  },
  {
   "cell_type": "code",
   "execution_count": 28,
   "metadata": {
    "_uuid": "45043a5cdadb497bd284956908a8d6e7053d7f71",
    "execution": {
     "iopub.execute_input": "2023-03-14T23:50:12.732105Z",
     "iopub.status.busy": "2023-03-14T23:50:12.731485Z",
     "iopub.status.idle": "2023-03-14T23:50:12.748275Z",
     "shell.execute_reply": "2023-03-14T23:50:12.747071Z",
     "shell.execute_reply.started": "2023-03-14T23:50:12.732003Z"
    }
   },
   "outputs": [],
   "source": [
    "tourney_data = pd.merge(tourney_data, last14days_stats_T1, on = ['Season', 'T1_TeamID'], how = 'left')\n",
    "tourney_data = pd.merge(tourney_data, last14days_stats_T2, on = ['Season', 'T2_TeamID'], how = 'left')"
   ]
  },
  {
   "cell_type": "code",
   "execution_count": 29,
   "metadata": {
    "_uuid": "0119bb397cea0028aeb4247034ef6096e738becf",
    "execution": {
     "iopub.execute_input": "2023-03-14T23:50:12.750237Z",
     "iopub.status.busy": "2023-03-14T23:50:12.749855Z",
     "iopub.status.idle": "2023-03-14T23:50:13.818472Z",
     "shell.execute_reply": "2023-03-14T23:50:13.817734Z",
     "shell.execute_reply.started": "2023-03-14T23:50:12.750121Z"
    }
   },
   "outputs": [
    {
     "data": {
      "text/plain": [
       "(20268, 5)"
      ]
     },
     "execution_count": 29,
     "metadata": {},
     "output_type": "execute_result"
    }
   ],
   "source": [
    "regular_season_effects = regular_data[['Season','T1_TeamID','T2_TeamID','PointDiff']].copy()\n",
    "regular_season_effects['T1_TeamID'] = regular_season_effects['T1_TeamID'].astype(str)\n",
    "regular_season_effects['T2_TeamID'] = regular_season_effects['T2_TeamID'].astype(str)\n",
    "regular_season_effects['win'] = np.where(regular_season_effects['PointDiff']>0,1,0)\n",
    "march_madness = pd.merge(seeds[['Season','TeamID']],seeds[['Season','TeamID']],on='Season')\n",
    "march_madness.columns = ['Season', 'T1_TeamID', 'T2_TeamID']\n",
    "march_madness.T1_TeamID = march_madness.T1_TeamID.astype(str)\n",
    "march_madness.T2_TeamID = march_madness.T2_TeamID.astype(str)\n",
    "regular_season_effects = pd.merge(regular_season_effects, march_madness, on = ['Season','T1_TeamID','T2_TeamID'])\n",
    "regular_season_effects.shape"
   ]
  },
  {
   "cell_type": "code",
   "execution_count": 30,
   "metadata": {
    "_uuid": "4d9b04a51db542edb705c94ed145d90af2ad2f15",
    "execution": {
     "iopub.execute_input": "2023-03-14T23:50:13.833818Z",
     "iopub.status.busy": "2023-03-14T23:50:13.833547Z",
     "iopub.status.idle": "2023-03-14T23:50:13.839517Z",
     "shell.execute_reply": "2023-03-14T23:50:13.838540Z",
     "shell.execute_reply.started": "2023-03-14T23:50:13.833769Z"
    }
   },
   "outputs": [],
   "source": [
    "def team_quality(season):\n",
    "    formula = 'win~-1+T1_TeamID+T2_TeamID'\n",
    "    glm = sm.GLM.from_formula(formula=formula, \n",
    "                              data=regular_season_effects.loc[regular_season_effects.Season==season,:], \n",
    "                              family=sm.families.Binomial()).fit()\n",
    "    \n",
    "    quality = pd.DataFrame(glm.params).reset_index()\n",
    "    quality.columns = ['TeamID','quality']\n",
    "    quality['Season'] = season\n",
    "    #quality['quality'] = np.exp(quality['quality'])\n",
    "    quality = quality.loc[quality.TeamID.str.contains('T1_')].reset_index(drop=True)\n",
    "    quality['TeamID'] = quality['TeamID'].apply(lambda x: x[10:14]).astype(int)\n",
    "    return quality"
   ]
  },
  {
   "cell_type": "code",
   "execution_count": 31,
   "metadata": {
    "execution": {
     "iopub.execute_input": "2023-03-14T23:50:13.841102Z",
     "iopub.status.busy": "2023-03-14T23:50:13.840674Z",
     "iopub.status.idle": "2023-03-14T23:50:16.627633Z",
     "shell.execute_reply": "2023-03-14T23:50:16.627058Z",
     "shell.execute_reply.started": "2023-03-14T23:50:13.840911Z"
    }
   },
   "outputs": [
    {
     "name": "stderr",
     "output_type": "stream",
     "text": [
      "/opt/anaconda3/lib/python3.12/site-packages/statsmodels/genmod/families/links.py:198: RuntimeWarning: overflow encountered in exp\n",
      "  t = np.exp(-z)\n"
     ]
    }
   ],
   "source": [
    "formula = 'win~-1+T1_TeamID+T2_TeamID'\n",
    "glm = sm.GLM.from_formula(formula=formula, \n",
    "                          data=regular_season_effects.loc[regular_season_effects.Season==2010,:], \n",
    "                          family=sm.families.Binomial()).fit()\n",
    "\n",
    "quality = pd.DataFrame(glm.params).reset_index()"
   ]
  },
  {
   "cell_type": "code",
   "execution_count": 32,
   "metadata": {
    "execution": {
     "iopub.execute_input": "2023-03-14T23:50:16.639798Z",
     "iopub.status.busy": "2023-03-14T23:50:16.639254Z",
     "iopub.status.idle": "2023-03-14T23:50:16.644179Z",
     "shell.execute_reply": "2023-03-14T23:50:16.643545Z",
     "shell.execute_reply.started": "2023-03-14T23:50:16.639760Z"
    }
   },
   "outputs": [
    {
     "data": {
      "text/plain": [
       "7.38905609893065"
      ]
     },
     "execution_count": 32,
     "metadata": {},
     "output_type": "execute_result"
    }
   ],
   "source": [
    "np.exp(2)"
   ]
  },
  {
   "cell_type": "code",
   "execution_count": 33,
   "metadata": {
    "_uuid": "d805268806a47d1af7d4d614809e883819847df9",
    "execution": {
     "iopub.execute_input": "2023-03-14T23:50:16.645554Z",
     "iopub.status.busy": "2023-03-14T23:50:16.645125Z",
     "iopub.status.idle": "2023-03-14T23:50:52.332118Z",
     "shell.execute_reply": "2023-03-14T23:50:52.331348Z",
     "shell.execute_reply.started": "2023-03-14T23:50:16.645514Z"
    }
   },
   "outputs": [
    {
     "name": "stderr",
     "output_type": "stream",
     "text": [
      "/opt/anaconda3/lib/python3.12/site-packages/statsmodels/genmod/families/links.py:198: RuntimeWarning: overflow encountered in exp\n",
      "  t = np.exp(-z)\n",
      "/opt/anaconda3/lib/python3.12/site-packages/statsmodels/genmod/families/links.py:198: RuntimeWarning: overflow encountered in exp\n",
      "  t = np.exp(-z)\n",
      "/opt/anaconda3/lib/python3.12/site-packages/statsmodels/genmod/families/links.py:198: RuntimeWarning: overflow encountered in exp\n",
      "  t = np.exp(-z)\n",
      "/opt/anaconda3/lib/python3.12/site-packages/statsmodels/genmod/families/links.py:198: RuntimeWarning: overflow encountered in exp\n",
      "  t = np.exp(-z)\n",
      "/opt/anaconda3/lib/python3.12/site-packages/statsmodels/genmod/families/links.py:198: RuntimeWarning: overflow encountered in exp\n",
      "  t = np.exp(-z)\n",
      "/opt/anaconda3/lib/python3.12/site-packages/statsmodels/genmod/families/links.py:198: RuntimeWarning: overflow encountered in exp\n",
      "  t = np.exp(-z)\n",
      "/opt/anaconda3/lib/python3.12/site-packages/statsmodels/genmod/families/links.py:198: RuntimeWarning: overflow encountered in exp\n",
      "  t = np.exp(-z)\n",
      "/opt/anaconda3/lib/python3.12/site-packages/statsmodels/genmod/families/links.py:198: RuntimeWarning: overflow encountered in exp\n",
      "  t = np.exp(-z)\n",
      "/opt/anaconda3/lib/python3.12/site-packages/statsmodels/genmod/families/links.py:198: RuntimeWarning: overflow encountered in exp\n",
      "  t = np.exp(-z)\n",
      "/opt/anaconda3/lib/python3.12/site-packages/statsmodels/genmod/families/links.py:198: RuntimeWarning: overflow encountered in exp\n",
      "  t = np.exp(-z)\n",
      "/opt/anaconda3/lib/python3.12/site-packages/statsmodels/genmod/families/links.py:198: RuntimeWarning: overflow encountered in exp\n",
      "  t = np.exp(-z)\n",
      "/opt/anaconda3/lib/python3.12/site-packages/statsmodels/genmod/families/links.py:198: RuntimeWarning: overflow encountered in exp\n",
      "  t = np.exp(-z)\n",
      "/opt/anaconda3/lib/python3.12/site-packages/statsmodels/genmod/families/links.py:198: RuntimeWarning: overflow encountered in exp\n",
      "  t = np.exp(-z)\n"
     ]
    }
   ],
   "source": [
    "glm_quality = pd.concat([team_quality(2010),\n",
    "                         team_quality(2011),\n",
    "                         team_quality(2012),\n",
    "                         team_quality(2013),\n",
    "                         team_quality(2014),\n",
    "                         team_quality(2015),\n",
    "                         team_quality(2016),\n",
    "                         team_quality(2017),\n",
    "                         team_quality(2018),\n",
    "                         team_quality(2019),\n",
    "                         ##team_quality(2020),\n",
    "                         team_quality(2021),\n",
    "                         team_quality(2022),\n",
    "                         team_quality(2023)\n",
    "                         ]).reset_index(drop=True)"
   ]
  },
  {
   "cell_type": "code",
   "execution_count": 34,
   "metadata": {
    "_uuid": "b67f4e36dd77a6d7b781f33572e19c2a90e8f184",
    "execution": {
     "iopub.execute_input": "2023-03-14T23:50:52.347156Z",
     "iopub.status.busy": "2023-03-14T23:50:52.346759Z",
     "iopub.status.idle": "2023-03-14T23:50:52.354184Z",
     "shell.execute_reply": "2023-03-14T23:50:52.353601Z",
     "shell.execute_reply.started": "2023-03-14T23:50:52.347115Z"
    }
   },
   "outputs": [],
   "source": [
    "glm_quality_T1 = glm_quality.copy()\n",
    "glm_quality_T2 = glm_quality.copy()\n",
    "glm_quality_T1.columns = ['T1_TeamID','T1_quality','Season']\n",
    "glm_quality_T2.columns = ['T2_TeamID','T2_quality','Season']"
   ]
  },
  {
   "cell_type": "code",
   "execution_count": 35,
   "metadata": {
    "_uuid": "1b667442750b3fd5dd24c41d75e3bb7a0ed28f8a",
    "execution": {
     "iopub.execute_input": "2023-03-14T23:50:52.373543Z",
     "iopub.status.busy": "2023-03-14T23:50:52.373305Z",
     "iopub.status.idle": "2023-03-14T23:50:52.394301Z",
     "shell.execute_reply": "2023-03-14T23:50:52.393489Z",
     "shell.execute_reply.started": "2023-03-14T23:50:52.373498Z"
    }
   },
   "outputs": [],
   "source": [
    "tourney_data = pd.merge(tourney_data, glm_quality_T1, on = ['Season', 'T1_TeamID'], how = 'left')\n",
    "tourney_data = pd.merge(tourney_data, glm_quality_T2, on = ['Season', 'T2_TeamID'], how = 'left')"
   ]
  },
  {
   "cell_type": "code",
   "execution_count": 36,
   "metadata": {
    "_uuid": "f2ce28123dfc563a8b1fb58f98401c927e2eb7c2",
    "execution": {
     "iopub.execute_input": "2023-03-14T23:50:52.469520Z",
     "iopub.status.busy": "2023-03-14T23:50:52.469177Z",
     "iopub.status.idle": "2023-03-14T23:50:52.493328Z",
     "shell.execute_reply": "2023-03-14T23:50:52.491855Z",
     "shell.execute_reply.started": "2023-03-14T23:50:52.469445Z"
    }
   },
   "outputs": [],
   "source": [
    "seeds['seed'] = seeds['Seed'].apply(lambda x: int(x[1:3]))"
   ]
  },
  {
   "cell_type": "code",
   "execution_count": 37,
   "metadata": {
    "_uuid": "e2d6a4e33b062401088f472b698cc9cabff3a612",
    "execution": {
     "iopub.execute_input": "2023-03-14T23:50:52.495820Z",
     "iopub.status.busy": "2023-03-14T23:50:52.495089Z",
     "iopub.status.idle": "2023-03-14T23:50:52.507334Z",
     "shell.execute_reply": "2023-03-14T23:50:52.506692Z",
     "shell.execute_reply.started": "2023-03-14T23:50:52.495717Z"
    }
   },
   "outputs": [],
   "source": [
    "seeds_T1 = seeds[['Season','TeamID','seed']].copy()\n",
    "seeds_T2 = seeds[['Season','TeamID','seed']].copy()\n",
    "seeds_T1.columns = ['Season','T1_TeamID','T1_seed']\n",
    "seeds_T2.columns = ['Season','T2_TeamID','T2_seed']"
   ]
  },
  {
   "cell_type": "code",
   "execution_count": 38,
   "metadata": {
    "_uuid": "3ce355578d9881346602388e2df329cafd1f24e7",
    "execution": {
     "iopub.execute_input": "2023-03-14T23:50:52.509295Z",
     "iopub.status.busy": "2023-03-14T23:50:52.508847Z",
     "iopub.status.idle": "2023-03-14T23:50:52.529318Z",
     "shell.execute_reply": "2023-03-14T23:50:52.528286Z",
     "shell.execute_reply.started": "2023-03-14T23:50:52.509246Z"
    }
   },
   "outputs": [],
   "source": [
    "tourney_data = pd.merge(tourney_data, seeds_T1, on = ['Season', 'T1_TeamID'], how = 'left')\n",
    "tourney_data = pd.merge(tourney_data, seeds_T2, on = ['Season', 'T2_TeamID'], how = 'left')"
   ]
  },
  {
   "cell_type": "code",
   "execution_count": 39,
   "metadata": {
    "_uuid": "b4785045b4d0619a80a71e7bc66831341a187b7b",
    "execution": {
     "iopub.execute_input": "2023-03-14T23:50:52.530855Z",
     "iopub.status.busy": "2023-03-14T23:50:52.530547Z",
     "iopub.status.idle": "2023-03-14T23:50:52.536108Z",
     "shell.execute_reply": "2023-03-14T23:50:52.535307Z",
     "shell.execute_reply.started": "2023-03-14T23:50:52.530794Z"
    }
   },
   "outputs": [],
   "source": [
    "tourney_data[\"Seed_diff\"] = tourney_data[\"T1_seed\"] - tourney_data[\"T2_seed\"]"
   ]
  },
  {
   "cell_type": "markdown",
   "metadata": {
    "_uuid": "c2ba59b62b09fc5b5514a2cca4ca5408e9a2b71a"
   },
   "source": [
    "# Time to build some models!"
   ]
  },
  {
   "cell_type": "code",
   "execution_count": 40,
   "metadata": {
    "_uuid": "9981fb89482e120adc3c014b1607c160383081f8",
    "execution": {
     "iopub.execute_input": "2023-03-14T23:50:52.537496Z",
     "iopub.status.busy": "2023-03-14T23:50:52.537160Z",
     "iopub.status.idle": "2023-03-14T23:50:52.554692Z",
     "shell.execute_reply": "2023-03-14T23:50:52.554028Z",
     "shell.execute_reply.started": "2023-03-14T23:50:52.537451Z"
    }
   },
   "outputs": [
    {
     "data": {
      "text/plain": [
       "count    4552.000000\n",
       "mean        0.000000\n",
       "std        17.479045\n",
       "min       -89.000000\n",
       "25%       -11.000000\n",
       "50%         0.000000\n",
       "75%        11.000000\n",
       "max        89.000000\n",
       "dtype: float64"
      ]
     },
     "execution_count": 40,
     "metadata": {},
     "output_type": "execute_result"
    }
   ],
   "source": [
    "y = tourney_data['T1_Score'] - tourney_data['T2_Score']\n",
    "y.describe()"
   ]
  },
  {
   "cell_type": "code",
   "execution_count": 41,
   "metadata": {
    "_uuid": "5c39d0b7d4cb59068bdb90065181390ca86f095d",
    "execution": {
     "iopub.execute_input": "2023-03-14T23:50:52.555767Z",
     "iopub.status.busy": "2023-03-14T23:50:52.555443Z",
     "iopub.status.idle": "2023-03-14T23:50:52.564294Z",
     "shell.execute_reply": "2023-03-14T23:50:52.563563Z",
     "shell.execute_reply.started": "2023-03-14T23:50:52.555734Z"
    }
   },
   "outputs": [
    {
     "data": {
      "text/plain": [
       "45"
      ]
     },
     "execution_count": 41,
     "metadata": {},
     "output_type": "execute_result"
    }
   ],
   "source": [
    "features = list(season_statistics_T1.columns[2:999]) + \\\n",
    "    list(season_statistics_T2.columns[2:999]) + \\\n",
    "    list(seeds_T1.columns[2:999]) + \\\n",
    "    list(seeds_T2.columns[2:999]) + \\\n",
    "    list(last14days_stats_T1.columns[2:999]) + \\\n",
    "    list(last14days_stats_T2.columns[2:999]) + \\\n",
    "    [\"Seed_diff\"] + [\"T1_quality\",\"T2_quality\"]\n",
    "\n",
    "len(features)"
   ]
  },
  {
   "cell_type": "code",
   "execution_count": 42,
   "metadata": {
    "_uuid": "a0632be8ffefd40903c86e266a3848ef39d3571a",
    "execution": {
     "iopub.execute_input": "2023-03-14T23:50:52.565802Z",
     "iopub.status.busy": "2023-03-14T23:50:52.565371Z",
     "iopub.status.idle": "2023-03-14T23:50:52.587035Z",
     "shell.execute_reply": "2023-03-14T23:50:52.586175Z",
     "shell.execute_reply.started": "2023-03-14T23:50:52.565741Z"
    }
   },
   "outputs": [],
   "source": [
    "X = tourney_data[features].values\n",
    "dtrain = xgb.DMatrix(X, label = y)"
   ]
  },
  {
   "cell_type": "code",
   "execution_count": 43,
   "metadata": {
    "_uuid": "1816ebbcb0c348919e7ceeb0fd6509e8601ad567",
    "execution": {
     "iopub.execute_input": "2023-03-14T23:50:52.589769Z",
     "iopub.status.busy": "2023-03-14T23:50:52.588900Z",
     "iopub.status.idle": "2023-03-14T23:50:52.595931Z",
     "shell.execute_reply": "2023-03-14T23:50:52.594859Z",
     "shell.execute_reply.started": "2023-03-14T23:50:52.589682Z"
    }
   },
   "outputs": [],
   "source": [
    "def cauchyobj(preds, dtrain):\n",
    "    labels = dtrain.get_label()\n",
    "    c = 5000 \n",
    "    x =  preds-labels    \n",
    "    grad = x / (x**2/c**2+1)\n",
    "    hess = -c**2*(x**2-c**2)/(x**2+c**2)**2\n",
    "    return grad, hess"
   ]
  },
  {
   "cell_type": "code",
   "execution_count": 44,
   "metadata": {
    "_uuid": "7b726f9fa289643e02c5b4eb837443d83f00a831",
    "execution": {
     "iopub.execute_input": "2023-03-14T23:50:52.597264Z",
     "iopub.status.busy": "2023-03-14T23:50:52.596993Z",
     "iopub.status.idle": "2023-03-14T23:50:52.607109Z",
     "shell.execute_reply": "2023-03-14T23:50:52.606570Z",
     "shell.execute_reply.started": "2023-03-14T23:50:52.597215Z"
    },
    "scrolled": true
   },
   "outputs": [
    {
     "name": "stdout",
     "output_type": "stream",
     "text": [
      "{'eval_metric': 'mae', 'booster': 'gbtree', 'eta': 0.05, 'subsample': 0.35, 'colsample_bytree': 0.7, 'num_parallel_tree': 3, 'min_child_weight': 40, 'gamma': 10, 'max_depth': 3, 'silent': 1}\n"
     ]
    }
   ],
   "source": [
    "param = {} \n",
    "#param['objective'] = 'reg:linear'\n",
    "param['eval_metric'] =  'mae'\n",
    "param['booster'] = 'gbtree'\n",
    "param['eta'] = 0.05 #change to ~0.02 for final run\n",
    "param['subsample'] = 0.35\n",
    "param['colsample_bytree'] = 0.7\n",
    "param['num_parallel_tree'] = 3 #recommend 10\n",
    "param['min_child_weight'] = 40\n",
    "param['gamma'] = 10\n",
    "param['max_depth'] =  3\n",
    "param['silent'] = 1\n",
    "\n",
    "print(param)"
   ]
  },
  {
   "cell_type": "code",
   "execution_count": 45,
   "metadata": {
    "_uuid": "ac7c1d166298eeb3c06d884ecb7874a5ef618d27",
    "execution": {
     "iopub.execute_input": "2023-03-14T23:50:52.608441Z",
     "iopub.status.busy": "2023-03-14T23:50:52.608067Z",
     "iopub.status.idle": "2023-03-14T23:51:18.914068Z",
     "shell.execute_reply": "2023-03-14T23:51:18.913336Z",
     "shell.execute_reply.started": "2023-03-14T23:50:52.608398Z"
    }
   },
   "outputs": [
    {
     "name": "stdout",
     "output_type": "stream",
     "text": [
      "Fold repeater 0\n",
      "[0]\ttrain-mae:13.40894+0.05953\ttest-mae:13.41326+0.23926\n"
     ]
    },
    {
     "name": "stderr",
     "output_type": "stream",
     "text": [
      "/opt/anaconda3/lib/python3.12/site-packages/xgboost/core.py:158: UserWarning: [18:41:51] WARNING: /Users/runner/work/xgboost/xgboost/src/learner.cc:740: \n",
      "Parameters: { \"silent\" } are not used.\n",
      "\n",
      "  warnings.warn(smsg, UserWarning)\n"
     ]
    },
    {
     "name": "stdout",
     "output_type": "stream",
     "text": [
      "[50]\ttrain-mae:9.47240+0.03685\ttest-mae:9.72067+0.17239\n",
      "[100]\ttrain-mae:9.09705+0.04170\ttest-mae:9.56916+0.16537\n",
      "[150]\ttrain-mae:8.86261+0.04494\ttest-mae:9.54165+0.16977\n",
      "[200]\ttrain-mae:8.66621+0.04716\ttest-mae:9.52474+0.16887\n",
      "[214]\ttrain-mae:8.61407+0.04869\ttest-mae:9.52777+0.17063\n",
      "Fold repeater 1\n",
      "[0]\ttrain-mae:13.40732+0.07736\ttest-mae:13.41009+0.30047\n"
     ]
    },
    {
     "name": "stderr",
     "output_type": "stream",
     "text": [
      "/opt/anaconda3/lib/python3.12/site-packages/xgboost/core.py:158: UserWarning: [18:41:54] WARNING: /Users/runner/work/xgboost/xgboost/src/learner.cc:740: \n",
      "Parameters: { \"silent\" } are not used.\n",
      "\n",
      "  warnings.warn(smsg, UserWarning)\n"
     ]
    },
    {
     "name": "stdout",
     "output_type": "stream",
     "text": [
      "[50]\ttrain-mae:9.46375+0.05124\ttest-mae:9.71679+0.18506\n",
      "[100]\ttrain-mae:9.09089+0.05206\ttest-mae:9.57243+0.22497\n",
      "[150]\ttrain-mae:8.85566+0.04912\ttest-mae:9.55278+0.23977\n",
      "[200]\ttrain-mae:8.65915+0.05278\ttest-mae:9.55513+0.24956\n",
      "[204]\ttrain-mae:8.64465+0.05088\ttest-mae:9.55527+0.24627\n",
      "Fold repeater 2\n",
      "[0]\ttrain-mae:13.41214+0.05334\ttest-mae:13.41973+0.23319\n"
     ]
    },
    {
     "name": "stderr",
     "output_type": "stream",
     "text": [
      "/opt/anaconda3/lib/python3.12/site-packages/xgboost/core.py:158: UserWarning: [18:41:57] WARNING: /Users/runner/work/xgboost/xgboost/src/learner.cc:740: \n",
      "Parameters: { \"silent\" } are not used.\n",
      "\n",
      "  warnings.warn(smsg, UserWarning)\n"
     ]
    },
    {
     "name": "stdout",
     "output_type": "stream",
     "text": [
      "[50]\ttrain-mae:9.46931+0.04771\ttest-mae:9.71781+0.17626\n",
      "[100]\ttrain-mae:9.09359+0.06076\ttest-mae:9.54807+0.21980\n",
      "[150]\ttrain-mae:8.86015+0.06067\ttest-mae:9.51946+0.22914\n",
      "[186]\ttrain-mae:8.71459+0.06564\ttest-mae:9.51669+0.22851\n"
     ]
    }
   ],
   "source": [
    "xgb_cv = []\n",
    "repeat_cv = 3 # recommend 10\n",
    "\n",
    "for i in range(repeat_cv): \n",
    "    print(f\"Fold repeater {i}\")\n",
    "    xgb_cv.append(\n",
    "        xgb.cv(\n",
    "          params = param,\n",
    "          dtrain = dtrain,\n",
    "          obj = cauchyobj,\n",
    "          num_boost_round = 3000,\n",
    "          folds = KFold(n_splits = 5, shuffle = True, random_state = i),\n",
    "          early_stopping_rounds = 25,\n",
    "          verbose_eval = 50\n",
    "        )\n",
    "    )"
   ]
  },
  {
   "cell_type": "code",
   "execution_count": 46,
   "metadata": {
    "_uuid": "e76e9a3c2e209243950fcb0b0ec28cc1c729b40f",
    "execution": {
     "iopub.execute_input": "2023-03-14T23:51:18.916015Z",
     "iopub.status.busy": "2023-03-14T23:51:18.915446Z",
     "iopub.status.idle": "2023-03-14T23:51:18.924334Z",
     "shell.execute_reply": "2023-03-14T23:51:18.923787Z",
     "shell.execute_reply.started": "2023-03-14T23:51:18.915953Z"
    }
   },
   "outputs": [
    {
     "data": {
      "text/plain": [
       "([189, 180, 162], [9.521677649368693, 9.54832231497496, 9.514513555085292])"
      ]
     },
     "execution_count": 46,
     "metadata": {},
     "output_type": "execute_result"
    }
   ],
   "source": [
    "iteration_counts = [np.argmin(x['test-mae-mean'].values) for x in xgb_cv]\n",
    "val_mae = [np.min(x['test-mae-mean'].values) for x in xgb_cv]\n",
    "iteration_counts, val_mae"
   ]
  },
  {
   "cell_type": "code",
   "execution_count": 47,
   "metadata": {
    "_uuid": "005e51b486d6853ede2091bf7dd36bfecc340542",
    "execution": {
     "iopub.execute_input": "2023-03-14T23:51:18.925729Z",
     "iopub.status.busy": "2023-03-14T23:51:18.925333Z",
     "iopub.status.idle": "2023-03-14T23:51:33.847664Z",
     "shell.execute_reply": "2023-03-14T23:51:33.847018Z",
     "shell.execute_reply.started": "2023-03-14T23:51:18.925680Z"
    }
   },
   "outputs": [
    {
     "name": "stdout",
     "output_type": "stream",
     "text": [
      "Fold repeater 0\n"
     ]
    },
    {
     "name": "stderr",
     "output_type": "stream",
     "text": [
      "/opt/anaconda3/lib/python3.12/site-packages/xgboost/core.py:158: UserWarning: [18:41:59] WARNING: /Users/runner/work/xgboost/xgboost/src/learner.cc:740: \n",
      "Parameters: { \"silent\" } are not used.\n",
      "\n",
      "  warnings.warn(smsg, UserWarning)\n",
      "/var/folders/ml/c9m4gk2d5j1gjzt21jgb5d3r0000gn/T/ipykernel_60753/4087228217.py:15: FutureWarning: Setting an item of incompatible dtype is deprecated and will raise an error in a future version of pandas. Value '[ 2.31756306e+01  1.19542475e+01  5.54570246e+00  2.31451340e+01\n",
      "  1.30874510e+01 -8.73710990e-01  1.03224678e+01 -8.77582073e+00\n",
      " -4.94383669e+00 -9.30564880e-01 -2.51314044e+00 -1.64618921e+00\n",
      "  5.77498913e+00  2.39756584e+00  1.79516888e+01  4.00092030e+00\n",
      "  3.13796139e+00  1.64755154e+00 -1.95179653e+00  7.17732477e+00\n",
      "  2.01544971e+01 -7.27670312e-01  3.44393039e+00  3.12407589e+01\n",
      "  8.77628613e+00 -2.80814195e+00  1.77529602e+01  5.98336077e+00\n",
      "  1.08807240e+01  3.56282473e+00  1.34747324e+01 -9.10497904e-01\n",
      "  5.06562424e+00  3.46293402e+00 -3.86620736e+00  2.36142273e+01\n",
      " -6.69560671e+00  1.56801205e+01  2.44449329e+00 -3.42755127e+00\n",
      "  9.43169212e+00  1.49556170e+01  3.61976051e+00  2.10617981e+01\n",
      "  3.95527124e+00  6.75622368e+00 -2.09321284e+00  4.78257179e+00\n",
      "  4.06623983e+00  4.85322380e+00 -1.29084597e+01  4.45929527e+00\n",
      " -7.18800068e-01 -1.54726183e+00  1.17384205e+01  7.09718347e-01\n",
      "  4.16371632e+00  1.34200840e+01  4.30582476e+00  1.10414629e+01\n",
      "  2.06473351e+00 -2.26312160e+00  2.41283965e+00  1.11824875e+01\n",
      " -4.88923693e+00  5.50746155e+00  9.35018158e+00  2.93933144e+01\n",
      " -1.06510515e+01 -9.42048359e+00 -4.31922436e+00  4.70791149e+00\n",
      "  1.28334827e+01 -2.43009001e-01 -1.87627101e+00  2.31561708e+00\n",
      "  9.30731010e+00  1.59596300e+01 -5.01520276e-01 -2.09877825e+00\n",
      "  6.79877758e+00  2.55214100e+01  2.02335606e+01 -1.04277587e+00\n",
      " -1.93833971e+00  2.17655015e+00  9.96194172e+00  7.62077272e-01\n",
      "  3.09694958e+00  1.21422783e-01 -1.11312790e+01  7.04082966e+00\n",
      " -4.45637894e+00 -1.31652153e+00 -4.76393557e+00  9.68559361e+00\n",
      "  4.76289082e+00  5.97736120e+00 -4.54619318e-01  1.30374746e+01\n",
      "  1.83127079e+01 -4.37147188e+00 -4.45067644e+00  2.31814218e+00\n",
      "  4.14857197e+00  7.82981157e+00  2.48653030e+01 -4.07389975e+00\n",
      " -1.48128164e+00  1.32893467e+01  1.52782154e+01  1.36234121e+01\n",
      " -5.38227940e+00  2.78423071e+00  2.21380138e+00 -1.98982775e+00\n",
      "  8.26995850e+00  5.99072170e+00  3.15842509e-01 -4.63967800e+00\n",
      " -1.34564133e+01  9.09598529e-01  3.07732344e+00 -2.04069281e+00\n",
      " -1.61126769e+00 -4.50679541e+00  2.18715525e+00  2.64351058e+00\n",
      "  6.15827131e+00 -2.40544960e-01  6.87404442e+00  6.60808945e+00\n",
      "  1.68863430e+01  5.96885867e-02 -4.39342594e+00 -9.69369709e-02\n",
      "  1.04758811e+00 -3.64721131e+00  1.13550739e+01  4.55111712e-01\n",
      "  1.79911213e+01 -1.65965576e+01  1.58494301e+01  1.39040446e+00\n",
      "  1.13953292e+00  1.03253536e+01  3.09443784e+00  1.73711908e+00\n",
      "  5.14015722e+00  1.66076412e+01 -7.40342259e-01  4.05720186e+00\n",
      "  4.90201426e+00  1.70863020e+00 -4.78813744e+00  1.11762505e+01\n",
      "  1.68723106e+01  1.21436672e+01  6.49427986e+00  4.61977577e+00\n",
      "  9.24818993e+00 -3.42414856e+00 -2.91037703e+00 -2.31986308e+00\n",
      "  6.19006777e+00 -2.83803642e-01  2.65432787e+00  6.68300247e+00\n",
      "  1.18126249e+01  2.00379543e+01  1.61658745e+01  4.85878372e+00\n",
      "  2.63943648e+00  1.07334480e+01  6.31172132e+00  3.44801712e+00\n",
      " -1.42005467e+00 -1.58019066e+00  7.08600187e+00  2.50504246e+01\n",
      " -3.49906182e+00 -8.30832386e+00  3.59904361e+00  1.36921320e+01\n",
      "  1.33574734e+01  1.89622688e+01  5.08080387e+00  2.01077652e+00\n",
      "  4.01577902e+00  3.63012862e+00  7.89842081e+00 -4.17634392e+00\n",
      " -2.57328242e-01  2.86659384e+00 -8.35049629e+00 -7.01971829e-01\n",
      "  1.65798569e+01  6.57891989e+00 -9.60935056e-01  2.04443836e+01\n",
      " -3.50689960e+00  1.57120287e+00  1.11127586e+01  6.03871822e+00\n",
      " -6.79714620e-01 -3.98024774e+00 -1.70342338e+00 -1.44804716e-01\n",
      "  1.94958916e+01  5.81620407e+00  9.45140076e+00 -1.26390076e+00\n",
      " -6.11666262e-01  2.23593831e+00  2.14284420e+01 -2.82785559e+00\n",
      " -6.29338694e+00  3.93359852e+00  4.86652803e+00 -1.00228429e+00\n",
      "  1.19601703e+00 -1.33767378e+00  3.07068653e+01  2.55407963e+01\n",
      "  1.44416189e+01  9.42358303e+00 -4.95361984e-02  3.03243184e+00\n",
      "  1.81811202e+00  1.09994211e+01 -5.50642920e+00  3.65649343e+00\n",
      "  2.53968501e+00  2.86107492e+00  1.49897420e+00  1.12008657e+01\n",
      " -1.47161303e+01  1.63689175e+01  1.25210553e-01  1.50836191e+01\n",
      " -6.42958260e+00  1.23074245e+01 -6.09217119e+00 -4.91544676e+00\n",
      "  8.24752617e+00 -2.22466969e+00 -5.60757160e+00  1.80549107e+01\n",
      "  2.08311157e+01 -4.27491760e+00 -4.97395945e+00  1.31876636e+00\n",
      "  1.68424857e+00  5.11873198e+00 -3.58203053e+00 -5.45081139e+00\n",
      " -5.16317248e-01  1.40976989e+00  6.15275526e+00 -1.16071475e+00\n",
      "  2.32515297e+01 -1.78925629e+01  4.51810271e-01  1.91841850e+01\n",
      "  1.27076731e+01  1.83101063e+01  7.73056936e+00  2.04660749e+00\n",
      "  5.66486025e+00  6.96428537e+00  3.44738293e+00  2.51040478e+01\n",
      "  1.42506247e+01  1.06024389e+01 -1.01169097e+00 -7.64889956e-01\n",
      " -1.35333595e+01  1.67832813e+01  1.37678585e+01 -2.31687760e+00\n",
      "  1.07600212e+01  7.06317854e+00  5.94789124e+00  1.21357164e+01\n",
      "  6.42999363e+00  5.51806688e+00 -9.47115707e+00 -3.38738847e+00\n",
      "  4.68336821e+00  1.01727419e+01  1.13724470e+01  2.14631710e+01\n",
      "  9.93318462e+00  1.18539085e+01  4.31395988e+01 -2.72173119e+00\n",
      " -3.45735502e+00  5.41525316e+00  3.04706268e+01  7.33999634e+00\n",
      "  5.79334068e+00 -8.19518185e+00 -4.72910404e+00  1.43553934e+01\n",
      "  1.56066141e+01 -2.46099520e+00  4.82670212e+00  4.09039795e-01\n",
      "  1.24003983e+01  3.31851120e+01 -1.34594023e+00  3.79543037e+01\n",
      " -3.81975508e+00  3.26149597e+01  2.27758241e+00  2.11439075e+01\n",
      "  6.68116903e+00  6.93331897e-01  3.43715817e-01 -1.80269539e+00\n",
      " -1.00349941e+01 -5.49081326e+00  3.59808016e+00  1.10023708e+01\n",
      "  1.42401237e+01  1.19096308e+01  8.01921725e-01 -8.00340748e+00\n",
      " -1.43213396e+01  2.13286805e+00  2.31856174e+01  2.92418919e+01\n",
      "  1.26983099e+01  3.55498147e+00  2.39972763e+01  5.28062916e+00\n",
      "  1.19488411e+01 -4.73598623e+00 -1.34474573e+01  1.36726761e+01\n",
      "  1.70093937e+01  1.51933622e+01  9.82019901e+00  1.31040134e+01\n",
      "  1.65170078e+01  1.63804913e+00  8.47291276e-02  2.83356934e+01\n",
      "  8.41475964e+00 -9.79642391e+00 -1.71646392e+00  6.82162333e+00\n",
      " -7.81633437e-01  3.04347954e+01  2.36090732e+00  2.22338600e+01\n",
      "  1.41436148e+01 -8.96801376e+00  8.01995468e+00  2.46310787e+01\n",
      "  1.22838907e+01  2.59730339e+00  9.68310833e-01  1.04155607e+01\n",
      "  7.25059927e-01  8.85560131e+00  2.26496525e+01  3.29662704e+01\n",
      "  6.99789858e+00  1.35356236e+01  1.93673840e+01  5.15968227e+00\n",
      "  3.56082702e+00 -8.99810493e-01  3.03142815e+01  4.58897305e+00\n",
      "  9.56867409e+00  2.64112782e+00  2.57973480e+01 -9.01225948e+00\n",
      "  3.31074762e+00 -2.54692602e+00  1.19759645e+01  2.75169544e+01\n",
      " -8.04152393e+00 -5.14864564e-01  1.21062927e+01  3.11522427e+01\n",
      "  2.73018932e+00  1.52559578e+00  6.27110529e+00 -1.19032497e+01\n",
      "  2.63487759e+01  4.36309624e+01  4.43764544e+00 -8.65803909e+00\n",
      "  3.51917171e+00 -2.26784172e+01 -1.37896471e+01  2.65510807e+01\n",
      "  4.11706696e+01  2.72937889e+01  1.77903328e+01  1.04262066e+01\n",
      "  5.17660046e+00 -8.46073341e+00  2.28517570e+01  9.76153278e+00\n",
      "  2.77706566e+01  3.85061288e+00 -1.79477520e+01  1.49117498e+01\n",
      "  7.94476604e+00 -5.96309233e+00  6.56022644e+00  6.48375988e+00\n",
      "  1.48577204e+01  4.03645554e+01  1.92160378e+01 -2.32251811e+00\n",
      "  4.53140450e+00  1.50643539e+01  2.64449096e+00 -1.08477569e+00\n",
      "  2.14288197e+01  2.05676479e+01  6.24218798e+00 -1.05498104e+01\n",
      "  7.15369940e-01 -1.11998510e+00  3.89181137e+01  3.96162643e+01\n",
      "  9.90505314e+00  2.35077691e+00  2.74974060e+00 -1.85556388e+00\n",
      "  1.65860577e+01  5.84525156e+00  2.08062601e+00 -6.99016905e+00\n",
      "  7.61200130e-01 -5.78979921e+00  9.39442921e+00  1.49338827e+01\n",
      "  9.05477619e+00 -1.99060974e+01 -1.35597146e+00 -7.04645455e-01\n",
      " -2.99340272e+00  1.96026802e+01  1.52142763e+01  1.59741907e+01\n",
      " -1.42481794e+01  1.28788948e+01 -6.46967793e+00  6.33809090e-01\n",
      "  4.23319161e-01  2.85462308e+00  2.19649925e+01  2.19158173e+01\n",
      "  1.74547920e+01 -7.03938961e+00  1.46858454e+01  2.21486926e+00\n",
      "  2.04804039e+01 -3.04452181e+00  6.43847942e+00  7.83210897e+00\n",
      "  1.57456474e+01  4.44004917e+00  6.92478657e+00  4.83041430e+00\n",
      "  2.16200519e+00  2.10121498e+01  1.05391150e+01 -2.88999724e+00\n",
      "  6.48061574e-01 -9.41754723e+00  1.01638947e+01  1.20593414e+01\n",
      "  4.21513605e+00 -2.12045631e+01 -3.84697890e+00 -2.87556958e+00\n",
      "  1.06944047e-01 -1.32999134e+01 -7.42383146e+00 -7.46370173e+00\n",
      " -6.82683086e+00 -5.85162592e+00 -2.22051454e+00 -2.45140114e+01\n",
      " -2.17056751e+00 -1.11623287e+01 -1.44301491e+01 -1.35479918e+01\n",
      " -2.77893019e+00  6.87077856e+00 -7.43007374e+00  1.09937537e+00\n",
      " -5.21740389e+00 -2.27675468e-01 -1.09119558e+01 -3.12707853e+00\n",
      "  1.21521795e+00 -1.75343189e+01 -1.69784927e+01 -3.62926984e+00\n",
      " -1.15397167e+01 -7.21729136e+00  4.74835396e+00 -3.38786316e+00\n",
      " -9.50674915e+00  1.33693767e+00 -4.64245272e+00 -6.77183819e+00\n",
      " -3.98445797e+00 -3.66761208e+00  3.81744623e+00 -1.80960808e+01\n",
      "  3.33753824e+00 -2.32572956e+01  4.30248111e-01  1.21962678e+00\n",
      " -5.18949175e+00  2.96042705e+00  3.64202261e+00 -3.50824881e+00\n",
      " -1.79917431e+01 -2.85130215e+01 -1.33410702e+01 -9.74976444e+00\n",
      "  2.71322131e-01 -6.72690535e+00 -2.46018505e+00  3.48723388e+00\n",
      " -3.53844547e+00 -3.46846628e+00 -1.93004169e+01 -6.36251354e+00\n",
      " -6.95519781e+00 -1.33104925e+01 -1.42299623e+01 -1.49044552e+01\n",
      " -3.28749008e+01 -2.71375923e+01  9.44693565e+00 -1.85783157e+01\n",
      " -2.44300270e+00 -4.64936113e+00 -1.06066036e+01 -1.35879965e+01\n",
      " -2.31650090e+00 -2.79805684e+00 -1.51244783e+01 -3.65932155e+00\n",
      " -2.37604942e+01 -1.05445516e+00 -1.07448406e+01 -1.04155664e+01\n",
      "  3.27224493e+00 -4.91643858e+00  3.03253031e+00 -2.20717468e+01\n",
      " -1.84910882e+00  3.49125195e+00 -5.78397799e+00  2.26230216e+00\n",
      "  1.12283444e+00 -1.31383038e+01 -1.29419060e+01 -3.52810979e+00\n",
      "  1.05353546e+00 -2.45275898e+01 -1.43187129e+00 -1.35029507e+00\n",
      "  4.21026802e+00  4.05399847e+00  2.51038003e+00 -1.58070147e+00\n",
      "  6.85277700e-01 -2.45573580e-01  1.31890535e+00 -9.34223747e+00\n",
      " -4.84607935e+00 -2.37074223e+01 -3.11388326e+00 -7.18661928e+00\n",
      " -1.81246829e+00 -8.42710114e+00 -5.44362926e+00  4.43928385e+00\n",
      "  1.40577927e+01 -1.06565037e+01 -1.99735129e+00 -1.69731827e+01\n",
      "  1.67055607e+01 -5.46558046e+00 -2.33023338e+01  3.71750236e+00\n",
      " -9.09408665e+00 -8.18022346e+00 -7.80461133e-01 -1.00130377e+01\n",
      "  2.83805585e+00 -3.19435453e+00  3.26227283e+00  2.53918076e+00\n",
      " -3.84990835e+00 -1.71681080e+01 -2.33083649e+01  1.49301946e-01\n",
      "  6.36718321e+00 -2.15710773e+01 -6.62305641e+00 -6.17877769e+00\n",
      "  2.99872756e+00  1.10588160e+01  3.71097898e+00  4.67231321e+00\n",
      "  2.59342599e+00  1.87856281e+00 -7.90372419e+00  1.26776867e+01\n",
      "  1.05958259e+00 -3.99965715e+00 -2.09935017e+01 -2.33022327e+01\n",
      " -1.40070601e+01 -1.06660070e+01 -5.07771587e+00 -3.44750977e+00\n",
      " -3.98358011e+00 -1.59926767e+01 -6.62533283e+00 -6.16755533e+00\n",
      " -4.65089607e+00 -3.88061237e+00 -9.29479313e+00 -2.07396164e+01\n",
      " -1.47170389e+00 -8.16108763e-01 -4.56558990e+00 -3.66405630e+00\n",
      " -4.44089317e+00 -9.77591753e-01 -1.32259488e+00 -1.18887424e+00\n",
      " -2.82716503e+01 -5.20411611e-01 -6.08491850e+00 -1.45520830e+01\n",
      " -1.99464874e+01  1.90563810e+00 -2.19876623e+00 -1.47721710e+01\n",
      "  6.09258032e+00 -1.08685360e+01  7.56164730e-01  4.53700113e+00\n",
      "  1.78553367e+00  1.73870206e+00 -1.12232804e+00 -2.66968155e+00\n",
      " -8.79241899e-02 -2.23877087e+01 -1.19228096e+01 -4.72994184e+00\n",
      "  6.12325811e+00 -4.83058786e+00  3.66860032e+00 -5.97603178e+00\n",
      " -3.06734695e+01 -1.25047245e+01  2.61649132e+00 -4.57856655e+00\n",
      " -1.93519160e-01  2.81407523e+00 -9.11648273e+00 -1.08560057e+01\n",
      " -2.78236568e-01 -2.56574488e+00  3.39849496e+00  5.31169593e-01\n",
      " -2.75148869e-01  9.53801060e+00 -6.93375587e+00  1.87573204e+01\n",
      "  1.81759322e+00 -2.93801689e+00  1.46972096e+00 -1.69297543e+01\n",
      "  6.94922924e+00  6.34571028e+00 -6.62883472e+00 -6.73080587e+00\n",
      "  6.42202187e+00 -3.60733819e+00  9.44750786e-01 -2.06929455e+01\n",
      " -3.96155667e+00 -1.40367241e+01 -1.16890812e+01  3.37907100e+00\n",
      " -5.02296305e+00 -9.10802937e+00  4.36922789e+00 -9.79925156e+00\n",
      " -6.36177778e+00 -2.26092294e-01 -4.14530754e+00  1.07620058e+01\n",
      " -3.63195038e+00  1.44855320e-01 -7.14071941e+00 -7.25610733e+00\n",
      " -7.29996264e-01 -1.24301410e+00 -2.10867424e+01 -1.54044142e+01\n",
      " -7.01497221e+00 -2.23965859e+00  6.94529295e+00 -2.54006577e+00\n",
      "  5.24978065e+00 -5.63281393e+00 -2.30483747e+00 -2.62155676e+00\n",
      " -2.08502936e+00 -1.95489864e+01 -4.29592419e+00 -3.97216588e-01\n",
      "  3.34950852e+00 -1.54364748e+01  1.25961637e+00  5.36396086e-01\n",
      " -1.70750380e+00  1.06831150e+01 -8.82630157e+00  9.12665665e-01\n",
      " -4.93475580e+00 -9.15665531e+00 -1.35049801e+01 -8.41491222e+00\n",
      " -3.00334430e+00 -3.32047272e+01 -4.38994255e+01 -2.63982430e+01\n",
      "  3.02293730e+00 -1.87279377e+01 -1.99943485e+01 -3.14273968e+01\n",
      " -1.20525827e+01 -1.49565563e+01 -9.13087070e-01  6.11659098e+00\n",
      "  3.25265360e+00 -1.39340773e+01 -9.42203712e+00 -2.01846313e+01\n",
      " -3.96371803e+01  7.79526949e-01  3.04214811e+00  1.73198693e-02\n",
      " -1.58925009e+01  1.57398212e+00  3.65592480e+00 -1.43052063e+01\n",
      " -1.44668026e+01 -1.46919384e+01 -1.48924208e+01 -4.11716747e+00\n",
      " -4.23309555e+01 -3.81228477e-02  5.37880325e+00  1.19869661e+01\n",
      " -1.01610746e+01 -1.01511848e+00 -1.18130910e+00 -1.76076472e+00\n",
      " -1.66166649e+01  5.23710072e-01 -2.66952515e+01 -9.28204536e+00\n",
      "  1.21162262e+01 -8.83840656e+00  9.62977791e+00 -2.91620007e+01\n",
      "  2.56726360e+00 -5.69525385e+00 -1.99931564e+01 -4.60620832e+00\n",
      " -1.11773872e+01 -1.45304003e+01 -9.78979394e-02  3.30924034e+00\n",
      " -4.37581406e+01 -3.87090206e+00 -3.27438021e+00 -9.28849638e-01\n",
      " -2.20422096e+01 -6.24952698e+00 -2.77746067e+01 -9.82332134e+00\n",
      " -4.66109848e+00 -1.35932093e+01 -8.73738956e+00 -9.21475601e+00\n",
      " -1.06781149e+01 -2.95879960e+00 -2.89092178e+01 -1.38680422e+00\n",
      " -3.48816452e+01 -1.14700403e+01 -2.14374218e+01 -1.90725613e+01\n",
      " -3.47619133e+01 -4.37166882e+00 -1.36618481e+01  9.84536052e-01\n",
      " -4.18646622e+00 -3.16951199e+01 -7.16883898e-01 -1.46869860e+01\n",
      " -7.40313530e+00  7.00063896e+00 -4.16751528e+00 -2.16250095e+01\n",
      " -5.04957867e+00 -3.06757698e+01 -1.84268417e+01 -2.57727966e+01\n",
      " -1.03469963e+01 -3.96972156e+00 -2.96375065e+01  1.10617104e+01\n",
      " -1.54948854e+00 -2.21812630e+01  5.21251822e+00 -3.72344375e+00\n",
      " -2.00399113e+00 -3.85628853e+01 -3.21797562e+01 -7.30610800e+00\n",
      "  8.70013237e+00 -1.70695667e+01 -4.14044075e+01 -1.86773396e+01\n",
      " -1.65898609e+00 -1.25856209e+01 -2.26842374e-01 -1.02992477e+01\n",
      " -1.97884769e+01  1.67234974e+01 -1.46445274e+01 -7.03221369e+00\n",
      " -9.23120499e+00 -4.02858009e+01 -9.17552352e-01 -1.26646414e+01\n",
      " -2.62608776e+01 -2.89084511e+01  2.62820625e+00  5.93939781e+00\n",
      " -2.22328901e+00  8.96605551e-01 -1.00052321e+00 -3.85794296e+01\n",
      " -1.67737007e+01  8.93717003e+00 -1.82913151e+01 -9.26173210e+00\n",
      " -2.39369678e+01 -3.05687313e+01 -1.04746008e+01 -1.58622398e+01\n",
      "  3.02444696e+00 -6.28039002e-01 -2.03570976e+01 -8.73442364e+00\n",
      " -6.84011459e+00 -8.57888603e+00 -4.17404443e-01  4.21720362e+00\n",
      " -4.05174589e+00 -6.84509659e+00 -4.65507507e+00 -1.00893440e+01\n",
      " -3.07696486e+00 -2.09701576e+01 -2.18603992e+01 -3.29773307e+00\n",
      " -2.22729874e+01 -3.00448728e+00  3.22252369e+00 -2.59262028e+01\n",
      " -1.10038652e+01 -1.30477848e+01 -1.12150860e+00 -2.25023150e+00\n",
      " -1.42242241e+01  3.49194312e+00 -3.37350388e+01 -1.08974638e+01\n",
      " -3.01728573e+01  6.23634815e-01 -2.32457752e+01 -8.82399559e+00\n",
      " -1.00635815e+01 -1.41587877e+01 -1.06878710e+00]' has dtype incompatible with int64, please explicitly cast to a compatible dtype first.\n",
      "  preds[val_index] = model.predict(dval_i)\n",
      "/opt/anaconda3/lib/python3.12/site-packages/xgboost/core.py:158: UserWarning: [18:42:00] WARNING: /Users/runner/work/xgboost/xgboost/src/learner.cc:740: \n",
      "Parameters: { \"silent\" } are not used.\n",
      "\n",
      "  warnings.warn(smsg, UserWarning)\n",
      "/opt/anaconda3/lib/python3.12/site-packages/xgboost/core.py:158: UserWarning: [18:42:00] WARNING: /Users/runner/work/xgboost/xgboost/src/learner.cc:740: \n",
      "Parameters: { \"silent\" } are not used.\n",
      "\n",
      "  warnings.warn(smsg, UserWarning)\n",
      "/opt/anaconda3/lib/python3.12/site-packages/xgboost/core.py:158: UserWarning: [18:42:00] WARNING: /Users/runner/work/xgboost/xgboost/src/learner.cc:740: \n",
      "Parameters: { \"silent\" } are not used.\n",
      "\n",
      "  warnings.warn(smsg, UserWarning)\n",
      "/opt/anaconda3/lib/python3.12/site-packages/xgboost/core.py:158: UserWarning: [18:42:01] WARNING: /Users/runner/work/xgboost/xgboost/src/learner.cc:740: \n",
      "Parameters: { \"silent\" } are not used.\n",
      "\n",
      "  warnings.warn(smsg, UserWarning)\n"
     ]
    },
    {
     "name": "stdout",
     "output_type": "stream",
     "text": [
      "Fold repeater 1\n"
     ]
    },
    {
     "name": "stderr",
     "output_type": "stream",
     "text": [
      "/opt/anaconda3/lib/python3.12/site-packages/xgboost/core.py:158: UserWarning: [18:42:01] WARNING: /Users/runner/work/xgboost/xgboost/src/learner.cc:740: \n",
      "Parameters: { \"silent\" } are not used.\n",
      "\n",
      "  warnings.warn(smsg, UserWarning)\n",
      "/var/folders/ml/c9m4gk2d5j1gjzt21jgb5d3r0000gn/T/ipykernel_60753/4087228217.py:15: FutureWarning: Setting an item of incompatible dtype is deprecated and will raise an error in a future version of pandas. Value '[ 2.06430187e+01  1.72257023e+01  4.02533627e+00  2.14774303e+01\n",
      " -3.09399676e+00  1.65121708e+01  2.18830929e+01  1.39668808e+01\n",
      "  1.32645721e+01  2.72303200e+00  8.93340397e+00 -2.38226748e+00\n",
      " -4.59146929e+00 -6.23392200e+00 -2.98429966e+00  2.72834468e+00\n",
      "  1.27389030e+01  1.92165012e+01  9.63693500e-01  8.69887948e-01\n",
      "  6.27605343e+00  7.18585825e+00 -7.86863995e+00  7.37282097e-01\n",
      "  5.13604450e+00  4.97829866e+00 -8.38659942e-01  2.90096688e+00\n",
      "  4.17959541e-02 -2.83046508e+00  5.75341749e+00 -3.98768210e+00\n",
      "  1.34280455e+00  2.44172516e+01  1.82066460e+01  1.41588774e+01\n",
      "  5.17035627e+00  4.43122911e+00  4.63234329e+00 -1.50536239e+00\n",
      "  9.10420704e+00  6.51248074e+00  5.74775994e-01  1.17628136e+01\n",
      "  2.44651604e+00  1.07593479e+01  1.58658323e+01  1.84760284e+01\n",
      " -1.10722580e+01  2.15333385e+01 -1.33576670e+01  1.96836243e+01\n",
      "  5.52632904e+00  8.35632992e+00 -7.29111075e-01 -2.94513488e+00\n",
      "  1.58390474e+00  2.03790913e+01  5.52643836e-01  9.03391457e+00\n",
      "  7.02663612e+00  5.39840460e+00  6.49414062e+00  5.64068604e+00\n",
      " -1.71791106e-01  2.07512879e+00  1.35171461e+00 -2.34408617e+00\n",
      "  5.44843578e+00  7.09406900e+00  1.33629322e+01 -1.21305302e-01\n",
      "  2.31714973e+01  3.44590020e+00  3.21234970e+01 -4.71171975e-01\n",
      "  2.51742535e+01  1.79324932e+01  7.30410957e+00  1.07332659e+01\n",
      "  4.63194180e+00  4.92628384e+00  1.87179267e+00  2.19810276e+01\n",
      " -3.42405748e+00  1.57393637e+01  7.64450264e+00  2.12812519e+00\n",
      "  8.68866253e+00  4.31372976e+00  1.12392550e+01  1.03646982e+00\n",
      " -3.30252886e+00  5.56635904e+00  2.06270180e+01 -2.43101597e+00\n",
      " -7.06009746e-01 -5.70442533e+00  5.37419605e+00  3.98155189e+00\n",
      "  3.70130062e+00  1.69650471e+00 -1.33648968e+01 -2.85789895e+00\n",
      "  1.59584503e+01  2.17932200e+00  7.53680766e-01 -2.23247075e+00\n",
      "  1.02063932e+01 -8.71766472e+00  2.13300958e-01 -5.37468863e+00\n",
      " -4.15607309e+00  2.03399658e+00 -1.57952750e+00  2.93774414e+01\n",
      "  3.65709639e+00 -1.08331099e+01 -2.06975060e+01 -6.07230425e+00\n",
      "  3.49110633e-01 -6.70609045e+00  6.45358515e+00  6.93820047e+00\n",
      "  2.72601724e+00  2.52793288e+00  1.06843100e+01 -2.83337092e+00\n",
      "  1.10930815e+01  2.44036942e+01  5.26217556e+00  2.15919900e+00\n",
      " -1.37945086e-01 -5.90028906e+00 -5.56267643e+00  1.83498821e+01\n",
      " -2.70960402e+00  2.21524563e+01 -4.90163660e+00  1.31264839e+01\n",
      " -9.48713720e-01  2.14462910e+01 -4.32571745e+00  3.03071308e+00\n",
      " -2.93978333e+00 -6.26064444e+00  5.18239117e+00 -2.68603730e+00\n",
      "  6.36010075e+00 -2.69558144e+00  9.78929138e+00 -3.95769978e+00\n",
      "  8.01102579e-01  2.63865070e+01  4.56908131e+00 -9.35979307e-01\n",
      "  2.24182272e+00  1.01508007e+01 -1.53841102e+00 -1.42219200e+01\n",
      " -2.67456794e+00  1.58022320e+00  1.45341501e+01  5.66781044e+00\n",
      "  7.70784950e+00  9.89071548e-01  5.52399635e+00  8.41777897e+00\n",
      " -5.88083744e-01  7.17991590e+00 -2.29612656e+01  1.89766560e+01\n",
      "  2.50050306e+00  6.90980959e+00  4.39650249e+00  3.70835495e+00\n",
      "  3.76132917e+00  4.56606531e+00  6.33809137e+00 -8.06946468e+00\n",
      " -1.16742742e+00  1.10204468e+01  1.61306858e+01  7.22685623e+00\n",
      "  1.82332726e+01  3.24616909e+00  2.20014496e+01  1.52802544e+01\n",
      "  7.89816284e+00 -4.95030069e+00  7.42876530e+00  3.38905692e+00\n",
      "  3.61943746e+00  1.87267208e+01  3.22296095e+00  3.49819398e+00\n",
      " -3.21207309e+00  1.43366737e+01  6.47878408e+00  1.17434130e+01\n",
      "  3.98424459e+00  1.53517599e+01  2.09532070e+01  2.03309174e+01\n",
      "  8.31103992e+00 -5.28425741e+00 -9.82472801e+00 -3.26589060e+00\n",
      "  4.52719402e+00  5.01822329e+00  8.38640273e-01  4.91055155e+00\n",
      "  1.16650546e+00  2.11001468e+00 -2.57170272e+00 -2.70264697e+00\n",
      "  2.23824978e+01  1.38996887e+01 -1.76193368e+00  2.53343067e+01\n",
      "  1.08100061e+01  1.15391607e+01  1.55218875e+00  6.04982185e+00\n",
      "  1.75265560e+01  8.04569054e+00 -4.78254747e+00  2.99597912e+01\n",
      " -1.29474866e+00  3.58435607e+00 -4.73742485e+00  8.45481205e+00\n",
      "  8.14451504e+00 -6.48141384e+00  9.85953617e+00 -5.55117989e+00\n",
      "  1.50828791e+01  7.36335135e+00  9.22936916e+00 -3.44352818e+00\n",
      "  5.90238333e+00  8.66206455e+00  3.22625351e+00  2.29174352e+00\n",
      "  3.01126361e+00  4.26335955e+00  3.91689563e+00  1.12367380e+00\n",
      " -3.86005902e+00  4.61265135e+00  2.00045061e+00  2.58390832e+00\n",
      "  1.69020903e+00  4.03763676e+00  1.18244524e+01  2.72381759e+00\n",
      "  1.64286479e-01  5.08752632e+00 -2.99290091e-01  1.93856010e+01\n",
      "  3.21213841e+00  4.88024569e+00  2.39470978e+01  1.72989349e+01\n",
      "  9.06957436e+00  7.65316439e+00  6.38388968e+00  3.31933570e+00\n",
      "  2.96835184e+00  1.03400497e+01  3.55311823e+00  4.48769283e+00\n",
      "  3.36585121e+01  3.34055252e+01  4.74601250e+01  2.62461300e+01\n",
      "  2.44551849e+01  2.79451275e+00 -2.57693744e+00 -3.00992918e+00\n",
      "  1.73796690e+00 -8.40652049e-01 -1.08312130e+01  4.32080507e+00\n",
      "  1.45667820e+01  5.29665804e+00 -5.39107704e+00 -1.19074643e+00\n",
      "  6.48893785e+00  5.43948793e+00  3.58738441e+01  5.00590420e+00\n",
      " -1.98194921e+00  1.26349697e+01  1.88522828e+00 -3.89103413e+00\n",
      "  3.36772537e+00  3.32546735e+00  2.57146225e+01  1.91810150e+01\n",
      " -6.26050854e+00  2.07087111e+00  1.59845629e+01  5.65740061e+00\n",
      "  2.93894215e+01  2.71955776e+00  6.67125750e+00  1.89268169e+01\n",
      "  7.16278410e+00  2.97821760e+00  1.94941616e+01  1.39818487e+01\n",
      "  3.26186848e+00 -8.95237160e+00  1.54420986e+01  1.88461792e+00\n",
      "  1.73522968e+01  5.86846650e-01  4.68955917e+01  8.73916340e+00\n",
      " -4.23310328e+00  4.29510355e+00  2.50461273e+01 -2.13494263e+01\n",
      "  7.06217670e+00  4.28914547e+00  2.71024494e+01  4.99423790e+01\n",
      " -1.63948750e+00 -9.97871208e+00  1.39878559e+01  5.68188620e+00\n",
      "  2.87918358e+01  1.19450083e+01  2.72029877e+00  1.24725890e+00\n",
      " -1.34410369e+00  4.56466293e+01  1.84381485e+01  3.36859989e+00\n",
      " -7.33127165e+00  7.34513140e+00  2.19341230e+00  1.15046158e+01\n",
      "  2.12202053e+01 -3.43666404e-01  7.58800697e+00  9.56226635e+00\n",
      "  1.01415720e+01 -7.90528715e-01  1.44679890e+01 -2.23109102e+00\n",
      "  2.99464169e+01  1.23868675e+01 -1.40899134e+00  1.85291786e+01\n",
      "  1.34161301e+01 -1.81254845e+01 -1.05993760e+00  2.33648376e+01\n",
      "  6.32215118e+00  3.16757755e+01  1.09715500e+01 -1.74816096e+00\n",
      " -5.21878386e+00  6.22121334e+00  1.89689388e+01  7.78855467e+00\n",
      "  3.09356289e+01  2.03380566e+01  2.62101650e+01  2.11575866e+00\n",
      "  5.40660262e-01  4.87697124e+00  6.72748184e+00  4.80501175e+00\n",
      "  2.02305889e+01  2.58431339e+00  1.96408379e+00  2.02936172e+01\n",
      "  1.40026274e+01  1.48857393e+01  1.12723827e+01 -6.07816279e-01\n",
      "  5.78680873e-01  2.34912205e+01  5.56151056e+00  7.96309137e+00\n",
      "  7.40852499e+00  6.31857729e+00  3.38677692e+00  2.68364010e+01\n",
      " -3.61084890e+00 -2.56781197e+00  2.39295769e+01  9.45388603e+00\n",
      "  5.27522993e+00  3.82171593e+01  9.10524178e+00 -3.33669949e+00\n",
      "  1.76757984e+01  1.12910891e+01  8.40830231e+00  3.82447690e-02\n",
      "  1.07452097e+01  3.38913393e+00  2.99445009e+00  7.71468401e+00\n",
      "  1.39619312e+01  3.13591766e+01  2.89991796e-01  1.66308327e+01\n",
      "  3.14355240e+01  5.98545647e+00  6.60781384e+00  1.23909464e+01\n",
      "  2.00595818e+01  1.35987902e+01  1.18661156e+01  7.81733131e+00\n",
      "  1.03472204e+01  3.05347204e+00  4.17036653e-01 -1.00171041e+00\n",
      "  5.20854187e+00  2.32543659e+01  3.91990509e+01  2.22438412e+01\n",
      "  8.72886181e+00  2.11297493e+01  7.65917444e+00 -3.69915342e+00\n",
      "  2.13610668e+01  1.77922134e+01 -5.39529800e-01  2.42640419e+01\n",
      "  2.38593979e+01  7.13632631e+00  3.45079613e+00  1.01663618e+01\n",
      "  1.85973091e+01  1.80642452e+01 -2.68503141e+00 -1.14503183e+01\n",
      "  1.53769636e+00  7.00627851e+00 -1.19026542e-01 -2.81302071e+00\n",
      " -1.34278429e+00  1.30132055e+00 -1.64902573e+01 -8.64125252e+00\n",
      " -2.96718025e+00 -7.86965513e+00  8.95382214e+00  2.13156247e+00\n",
      " -3.55627680e+00  4.54748440e+00  7.24733770e-01 -2.06228375e+00\n",
      " -2.71192532e+01 -7.90196228e+00 -1.27286911e+00 -1.64166164e+01\n",
      " -1.49772081e+01 -7.07227516e+00 -3.97946715e+00 -3.02201104e+00\n",
      "  1.10635650e+00 -4.69466162e+00 -5.81911469e+00  3.69048953e+00\n",
      " -2.42880464e-01 -1.32196894e+01 -2.92514076e+01  1.45250349e+01\n",
      "  2.20347023e+00  3.35353971e+00 -7.54698086e+00  2.34114528e+00\n",
      "  2.72386479e+00 -6.26886415e+00 -8.78496361e+00 -2.09774971e+00\n",
      " -1.64621220e+01  1.20664454e+00 -3.86302400e+00 -1.18797894e+01\n",
      " -2.02735386e+01 -5.59046698e+00 -5.91996765e+00 -7.22388315e+00\n",
      "  3.34146094e+00  3.83742881e+00  3.22735071e+00 -2.45775795e+00\n",
      " -3.04129171e+00 -5.57042360e+00  7.43223488e-01 -2.65416317e+01\n",
      " -1.01337633e+01  2.28360152e+00 -4.26527023e+00  3.86135292e+00\n",
      " -9.39257908e+00 -4.70437813e+00 -1.07103376e+01 -1.13388147e+01\n",
      "  1.43436646e+00 -2.25695114e+01 -2.49093580e+00 -6.17236078e-01\n",
      "  9.91540241e+00 -1.84026146e+01  3.59761429e+00 -5.00322628e+00\n",
      "  2.05533433e+00 -4.28181505e+00 -2.38782578e+01 -1.51249733e+01\n",
      "  3.80565238e+00  5.30066824e+00  4.37711954e+00  1.20275564e+01\n",
      " -2.40850945e+01 -2.17808151e+01 -1.23463602e+01 -9.65078449e+00\n",
      " -1.04753518e+00 -9.10769165e-01  5.47155619e-01  2.38790178e+00\n",
      "  3.62651110e+00 -5.78739738e+00 -3.54545164e+00 -2.83453178e+00\n",
      "  3.74357772e+00 -2.12840796e+00  3.55325103e+00 -2.12367868e+00\n",
      "  8.89591813e-01 -1.62122517e+01  1.00881786e+01 -1.32895696e+00\n",
      " -1.45881355e+00 -1.04196463e+01  2.55677128e+00 -1.92665505e+00\n",
      " -1.59919863e+01 -1.96942177e+01 -3.70072818e+00 -2.48281593e+01\n",
      " -2.50391722e-01  1.67597413e+00  5.48431206e+00 -8.35838258e-01\n",
      " -4.37655592e+00 -1.26137936e+00 -1.00357018e+01 -8.20957088e+00\n",
      "  5.81828308e+00 -1.28908134e+00 -1.77299511e+00 -2.81707525e+00\n",
      "  3.91864729e+00  8.75296402e+00 -4.27921629e+00 -8.67021179e+00\n",
      " -1.16613274e+01  9.77833569e-02 -7.34337425e+00 -1.03005133e+01\n",
      " -3.71135426e+00 -6.14938354e+00 -1.77977791e+01  2.18099093e+00\n",
      " -3.26645064e+00 -2.66883068e+01 -9.59980297e+00 -2.12112999e+01\n",
      " -5.17255640e+00  1.04640627e+01  1.36737347e+00 -2.57817912e+00\n",
      "  6.81264496e+00 -2.28689432e+00 -1.13932395e+00  6.16641343e-01\n",
      "  1.71464491e+00 -1.71293533e+00  2.76919842e+00 -1.10657673e+01\n",
      "  2.50546384e+00 -5.63810015e+00 -2.83352852e-01 -2.76430702e+00\n",
      "  5.96357584e+00 -1.03365064e+00  2.13484573e+00 -4.05630082e-01\n",
      " -2.40548534e+01 -2.15372491e+00 -9.39995956e+00 -1.48942518e+00\n",
      " -3.42117906e+00 -8.97543049e+00 -4.80032492e+00 -8.26586342e+00\n",
      " -8.52160990e-01  2.31900692e+00  1.47279811e+00 -4.74173576e-02\n",
      " -2.16030254e+01 -8.16313934e+00  1.07807636e+00 -3.22958732e+00\n",
      "  3.53861117e+00 -1.86101723e+01 -2.24733964e-01 -1.07668591e+00\n",
      " -3.26600814e+00 -7.56425762e+00 -2.71855593e+00 -7.01181078e+00\n",
      "  8.73572159e+00  2.59557962e-01  3.39825249e+00 -1.38447447e+01\n",
      "  4.03355598e+00 -2.32803941e+00  2.08014512e+00 -2.58106184e+00\n",
      " -1.02680743e-01 -5.83849430e+00 -2.44043374e+00 -6.29590797e+00\n",
      " -3.81913352e+00  2.70079899e+00 -6.93089902e-01  9.51794052e+00\n",
      " -1.18284178e+01 -3.68061757e+00 -1.10298147e+01  4.97811347e-01\n",
      "  1.96376133e+01 -3.23068738e+00 -2.19473481e+00  3.44703507e+00\n",
      "  6.40808487e+00 -3.55234146e+00  3.78264141e+00 -3.31137300e+00\n",
      "  8.24991763e-01 -7.11085737e-01 -3.18242311e+00 -2.65416622e+00\n",
      "  2.85591578e+00 -4.13256884e+00 -1.39467840e+01 -1.40447273e+01\n",
      " -2.39935265e+01 -1.11055155e+01 -6.69045389e-01 -6.83010387e+00\n",
      " -1.33545818e+01 -5.01700306e+00 -4.26963472e+00  4.97387916e-01\n",
      " -3.95546079e+00  1.20372931e-02 -2.27606697e+01 -5.01412439e+00\n",
      "  9.16867161e+00 -5.16684914e+00  2.30064178e+00  6.09764004e+00\n",
      " -3.29301715e+00 -1.19130735e+01  8.55778217e+00  7.06319952e+00\n",
      " -1.05411530e+01 -7.57474136e+00 -2.80144234e+01 -2.92694783e+00\n",
      " -6.78447151e+00 -1.18867474e+01 -2.44994850e+01 -2.55986333e-01\n",
      " -1.37352238e+01 -8.53645897e+00  6.23095274e+00 -5.32398796e+00\n",
      " -4.80986804e-01  2.11645794e+00 -2.96748710e+00 -6.14829206e+00\n",
      " -1.06083813e+01 -1.70886993e+01 -1.54141111e+01 -6.42437601e+00\n",
      "  3.84742236e+00 -1.34451809e+01  8.42066002e+00 -5.77978325e+00\n",
      " -1.60160315e+00  2.87955928e+00  2.72004128e-01  1.05746973e+00\n",
      " -4.64895916e+00 -5.97076952e-01  7.50427186e-01  5.66302395e+00\n",
      "  7.08435357e-01 -1.86772990e+00 -7.39143467e+00 -1.12880096e+01\n",
      " -9.69591713e+00 -4.11138487e+00  1.63890779e+00 -4.36294174e+00\n",
      "  4.10992098e+00 -4.26947212e+00 -9.75077057e+00  8.16510963e+00\n",
      "  5.17484486e-01  7.47091484e+00 -1.63392186e+00 -2.86370373e+00\n",
      " -3.57139931e+01 -3.00395737e+01 -4.68124533e+00  9.18340504e-01\n",
      " -1.99318051e+00 -4.52202606e+00 -1.32904091e+01 -1.09163465e+01\n",
      "  8.03633022e+00 -1.55759163e+01 -5.75500345e+00  5.08779907e+00\n",
      " -1.19472218e+01 -2.83829613e+01 -1.12792501e+01 -2.52138376e+00\n",
      " -9.30024624e+00 -2.29100666e+01 -1.75351486e+01 -1.25282497e+01\n",
      " -3.09944439e+01 -6.95879459e+00  2.55379033e+00  3.01715159e+00\n",
      "  7.39742041e+00 -1.44934740e+01 -2.34307594e+01 -1.38806725e+01\n",
      " -4.94453192e+00 -3.16534948e+00 -2.72921886e+01 -2.17944012e+01\n",
      " -2.14412327e+01  7.65234900e+00 -3.28024368e+01  9.76500928e-01\n",
      " -2.91513872e+00 -1.94493401e+00 -1.46718836e+01 -1.05044041e+01\n",
      " -2.15845528e+01 -3.44602623e+01 -1.05290194e+01 -4.66529894e+00\n",
      " -1.09740419e+01 -7.76509047e+00 -1.00994122e+00 -1.66640568e+01\n",
      " -2.44508018e+01  2.49311876e+00 -3.60603600e+01 -7.69295788e+00\n",
      "  2.95670295e+00 -2.92743659e+00  1.22669339e+00 -1.06880398e+01\n",
      " -3.04987869e+01 -4.17832613e+00 -1.66414928e+01  2.97341079e-01\n",
      " -1.59100556e+00  6.65043879e+00  6.84213209e+00 -7.63988495e+00\n",
      "  6.15856767e-01 -6.54867506e+00 -2.66086388e+01 -2.00144672e+01\n",
      " -1.11801291e+01 -9.85484123e+00 -1.35606270e+01  7.93748856e+00\n",
      " -1.94382977e+00  4.10552025e-02 -1.24811811e+01 -1.72742233e-01\n",
      " -1.54206972e+01  5.85864830e+00 -5.04434156e+00 -1.64880204e+00\n",
      "  2.84031272e+00 -1.45098343e+01  1.92257631e+00 -3.19158840e+00\n",
      " -2.37072506e+01 -3.44183426e+01  5.21034336e+00 -4.26070175e+01\n",
      " -1.56474438e+01 -4.86638188e-01 -3.31853405e-02 -2.53161392e+01\n",
      " -1.56275368e+01  9.21275997e+00 -1.04764194e+01 -2.09274979e+01\n",
      " -2.04720592e+01  1.35668974e+01  3.76738310e+00 -7.63805151e+00\n",
      "  9.01998329e+00 -3.84775238e+01  3.35401940e+00 -5.79303503e+00\n",
      " -2.61149082e+01 -2.54738178e+01  5.06804085e+00 -7.24214077e+00\n",
      " -3.04916531e-01 -4.05166016e+01 -1.20809174e+01  8.30554813e-02\n",
      " -1.34564075e+01 -1.29885435e+01 -5.06823111e+00 -3.81858516e+00\n",
      "  1.32853359e-01 -1.55421293e+00 -8.82421672e-01 -5.10341311e+00\n",
      " -1.21825323e+01 -4.04975204e+01  1.50910640e+00 -9.61751747e+00\n",
      " -2.89982468e-01 -2.33868904e+01 -3.80959511e+01 -1.98865104e+00\n",
      " -2.50605106e+01 -3.69119692e+00 -3.06348095e+01  9.38010693e-01\n",
      " -2.09423752e+01 -1.42105303e+01  1.82221580e+00  6.47252274e+00\n",
      " -5.63152266e+00 -1.95075645e+01  1.86411345e+00 -1.09172096e+01\n",
      " -1.28867121e+01  1.93387723e+00 -3.16348648e+01 -3.21742177e-01\n",
      " -1.76630669e+01 -1.79936657e+01 -1.04082365e+01 -7.34027433e+00\n",
      " -3.60955906e+00 -5.69493771e+00  7.09949255e+00 -1.33671465e+01\n",
      " -7.03857517e+00  4.84900331e+00 -7.32004166e+00 -1.00135078e+01\n",
      " -2.81959152e+00  5.56862974e+00 -2.30726299e+01 -2.36983948e+01\n",
      " -2.32069945e+00 -2.27849979e+01  3.35355973e+00 -7.38103056e+00\n",
      " -7.20987082e+00 -5.72577858e+00 -2.09824562e+00 -1.17096615e+01\n",
      " -2.28403306e+00  1.62170429e+01  2.46465802e-01 -2.78146172e+00\n",
      " -6.66292906e+00 -1.66761379e+01 -1.08634186e+00 -8.60873222e-01\n",
      "  3.48739529e+00  8.51630211e+00 -9.32568359e+00 -1.06018286e+01\n",
      " -2.47492880e-01 -4.10998487e+00 -6.53422785e+00]' has dtype incompatible with int64, please explicitly cast to a compatible dtype first.\n",
      "  preds[val_index] = model.predict(dval_i)\n",
      "/opt/anaconda3/lib/python3.12/site-packages/xgboost/core.py:158: UserWarning: [18:42:01] WARNING: /Users/runner/work/xgboost/xgboost/src/learner.cc:740: \n",
      "Parameters: { \"silent\" } are not used.\n",
      "\n",
      "  warnings.warn(smsg, UserWarning)\n",
      "/opt/anaconda3/lib/python3.12/site-packages/xgboost/core.py:158: UserWarning: [18:42:02] WARNING: /Users/runner/work/xgboost/xgboost/src/learner.cc:740: \n",
      "Parameters: { \"silent\" } are not used.\n",
      "\n",
      "  warnings.warn(smsg, UserWarning)\n",
      "/opt/anaconda3/lib/python3.12/site-packages/xgboost/core.py:158: UserWarning: [18:42:02] WARNING: /Users/runner/work/xgboost/xgboost/src/learner.cc:740: \n",
      "Parameters: { \"silent\" } are not used.\n",
      "\n",
      "  warnings.warn(smsg, UserWarning)\n",
      "/opt/anaconda3/lib/python3.12/site-packages/xgboost/core.py:158: UserWarning: [18:42:02] WARNING: /Users/runner/work/xgboost/xgboost/src/learner.cc:740: \n",
      "Parameters: { \"silent\" } are not used.\n",
      "\n",
      "  warnings.warn(smsg, UserWarning)\n"
     ]
    },
    {
     "name": "stdout",
     "output_type": "stream",
     "text": [
      "Fold repeater 2\n"
     ]
    },
    {
     "name": "stderr",
     "output_type": "stream",
     "text": [
      "/opt/anaconda3/lib/python3.12/site-packages/xgboost/core.py:158: UserWarning: [18:42:03] WARNING: /Users/runner/work/xgboost/xgboost/src/learner.cc:740: \n",
      "Parameters: { \"silent\" } are not used.\n",
      "\n",
      "  warnings.warn(smsg, UserWarning)\n",
      "/var/folders/ml/c9m4gk2d5j1gjzt21jgb5d3r0000gn/T/ipykernel_60753/4087228217.py:15: FutureWarning: Setting an item of incompatible dtype is deprecated and will raise an error in a future version of pandas. Value '[-3.40129924e+00 -7.60032940e+00  1.77186593e-01  4.23154783e+00\n",
      " -9.90886211e+00  1.40022647e+00 -2.63934159e+00 -1.48773932e+00\n",
      "  8.35546875e+00 -5.06340551e+00 -8.29804122e-01  3.59507227e+00\n",
      " -2.79286623e+00 -2.34115553e+00  2.15838032e+01  8.39658546e+00\n",
      " -2.98346186e+00  2.54556489e+00  1.32605572e+01  6.83803034e+00\n",
      "  4.22734499e+00  1.64169769e+01 -8.27457047e+00  3.04272151e+00\n",
      "  3.69954610e+00 -7.74933910e+00 -1.89638793e+00  4.12498617e+00\n",
      "  3.21739435e-01  6.31048012e+00 -7.33817160e-01  4.09661722e+00\n",
      "  1.32765265e+01  6.19986248e+00  3.10920215e+00  2.51461468e+01\n",
      " -1.48116887e+00  4.11142302e+00  2.68861427e+01  2.56177578e+01\n",
      "  6.58122396e+00  6.14293289e+00  4.93808794e+00  8.22494793e+00\n",
      " -2.82893181e+00 -2.43569946e+00  8.42195225e+00  1.10067883e+01\n",
      " -5.08774710e+00  3.30673766e+00 -1.37460828e+00  1.16769733e+01\n",
      "  3.71615267e+00  7.12292528e+00 -1.65099072e+00 -4.43836880e+00\n",
      "  1.04453440e+01  7.17044592e+00  3.92029738e+00  2.49849129e+00\n",
      " -1.79690862e+00  1.74822903e+01  2.82566488e-01 -1.65674579e+00\n",
      " -1.17164707e+00  2.61388135e+00 -1.70827937e+00  6.71222687e+00\n",
      "  9.36679077e+00  3.55624652e+00  3.89622211e+00  1.03918428e+01\n",
      " -1.51390994e+00  7.97955656e+00  6.19159508e+00  1.35794783e+00\n",
      "  2.46072102e+00  2.79584751e+01  3.87318516e+00 -2.02674985e+00\n",
      "  1.51335421e+01  1.59173851e+01  2.15586567e+00  1.44466619e+01\n",
      "  3.69951391e+00  1.41939327e-01  7.87771130e+00  1.43797684e+01\n",
      "  9.75788307e+00  5.85090017e+00  6.50153446e+00 -6.08241200e-01\n",
      "  2.25916443e+01 -3.80393839e+00  3.15316944e+01  2.67952895e+00\n",
      "  5.08118820e+00  9.88994789e+00  3.42424107e+00  5.39642286e+00\n",
      " -8.51938069e-01  2.63317680e+01  2.08559914e+01 -1.91364622e+00\n",
      " -3.88209414e+00 -4.69142771e+00  1.10275154e+01  1.83617096e+01\n",
      "  8.19736481e+00  2.36612606e+01  3.96505333e-02  2.64241195e+00\n",
      " -7.50719500e+00 -6.19675636e+00 -9.11324143e-01 -8.78070259e+00\n",
      "  1.05714684e+01  4.25878000e+00 -4.85930777e+00 -2.58056641e+00\n",
      "  1.67648849e+01  2.56666398e+00 -1.17433186e+01  1.62885685e+01\n",
      "  1.37890327e+00  2.44122314e+01 -3.73380017e+00  6.14928579e+00\n",
      "  3.90652037e+00 -6.02535868e+00  8.75396919e+00 -6.34739113e+00\n",
      "  1.93281388e+00 -1.97022092e+00  4.39248413e-01  1.28746402e+00\n",
      "  7.78571129e+00  2.30035610e+01  2.27115574e+01 -8.12281609e+00\n",
      "  4.32259274e+00  3.12716389e+00  1.10708570e+01  1.47810718e-02\n",
      "  2.45992732e+00  8.49195480e+00  4.11662370e-01  4.13698101e+00\n",
      "  7.22831583e+00  4.32747662e-01  1.11854994e+00 -1.57035980e+01\n",
      "  1.13357477e+01  2.29889278e+01 -1.09677467e+01 -3.35926151e+00\n",
      " -5.87414837e+00  8.87309170e+00  1.52360463e+00 -5.83248806e+00\n",
      "  1.91208954e+01 -4.89241457e+00  1.34888477e+01  1.24279652e+01\n",
      "  6.86098993e-01  2.56163669e+00 -3.36286736e+00  2.02168674e+01\n",
      " -3.22711420e+00 -6.19881773e+00  6.83428144e+00  7.82130861e+00\n",
      "  6.70966911e+00  6.33553457e+00 -3.61022019e+00  7.54725277e-01\n",
      "  2.07119102e+01  7.66160607e-01  4.49421072e+00  1.22330036e+01\n",
      "  8.71210217e-01  8.02323532e+00  8.29701900e-01  9.60464239e-01\n",
      "  4.20134842e-01  9.99659157e+00  2.10289741e+00  1.28590889e+01\n",
      " -1.47653794e+00  3.80737019e+00  1.66321576e+00 -1.41724277e+00\n",
      "  1.29714231e+01 -4.76170969e+00  1.70787182e+01 -1.44184628e+01\n",
      " -4.21891499e+00 -1.20715833e+00  5.62207699e+00  9.19513321e+00\n",
      "  4.60020494e+00  2.79517055e+00  3.78334665e+00 -3.65723610e+00\n",
      "  5.49608517e+00  6.76091194e+00  2.00555744e+01  1.34188623e+01\n",
      "  5.36673594e+00  2.45244265e-01  2.09889674e+00 -5.03719759e+00\n",
      " -6.03710413e+00  5.78849077e+00 -1.36937249e+00  4.95368719e+00\n",
      " -7.33328938e-01  1.15004969e+01 -4.96875191e+00  4.65493250e+00\n",
      " -1.67654598e+00  2.08984303e+00 -4.18104696e+00  2.57514644e+00\n",
      " -3.14696789e+00 -6.93688869e+00 -5.80528545e+00 -1.99573278e+00\n",
      " -4.77258635e+00  1.31741791e+01  1.38881474e+01  1.75653629e+01\n",
      " -3.58130908e+00 -3.99188638e+00 -5.18770123e+00  1.60812244e+01\n",
      " -9.13394833e+00 -1.00559187e+00  1.67681444e+00  2.16219425e+00\n",
      "  1.20358734e+01  3.20199037e+00 -2.91912222e+00 -6.23043728e+00\n",
      "  1.70583191e+01 -2.61636138e-01  1.74423809e+01  1.43805685e+01\n",
      " -6.62589979e+00 -1.06363287e+01  2.12557030e+00 -7.07150364e+00\n",
      "  6.80516911e+00  6.85046291e+00  1.83705750e+01  1.00764894e+01\n",
      "  3.80463576e+00 -5.08544207e+00  1.09173479e+01 -6.74126816e+00\n",
      " -1.21987319e+00  1.30081761e+00  2.14591084e+01 -1.99733472e+00\n",
      " -7.02416134e+00  1.70899086e+01  5.63070822e+00 -1.63674080e+00\n",
      "  2.70453191e+00 -1.50270157e+01  3.76619887e+00  2.21837959e+01\n",
      "  8.16960716e+00  1.41933832e+01  5.33833885e+00  6.85174990e+00\n",
      " -1.23424673e+00  7.58967400e+00  1.12475026e+00  8.52970886e+00\n",
      " -9.08104229e+00  2.58754671e-01  3.23756289e+00  1.66536407e+01\n",
      " -1.51793375e+01 -6.52608728e+00  2.36816368e+01 -1.04841356e+01\n",
      "  5.34933329e+00 -4.95509243e+00 -9.69517040e+00  9.06117058e+00\n",
      "  9.10341644e+00  9.50520611e+00  1.44183788e+01  2.56035590e+00\n",
      "  2.24151731e+00  3.42883720e+01 -2.42198277e+00  1.13837757e+01\n",
      "  2.80063190e+01  1.83844986e+01  3.46720672e+00  1.94412823e+01\n",
      "  4.20489836e+00  1.28546057e+01  3.56955566e+01  2.11057491e+01\n",
      "  2.07399731e+01 -4.63809633e+00  1.18992205e+01  1.66015263e+01\n",
      "  1.15857589e+00 -1.18992195e+01  1.59513760e+00  1.53438997e+00\n",
      "  2.28706288e+00  3.18045330e+01  1.08535748e+01  1.05144014e+01\n",
      " -3.01407361e+00  1.53039634e-01  1.79031200e+01  8.91769981e+00\n",
      "  1.31455326e+00 -1.07110615e+01  1.70395374e+01  7.95300186e-01\n",
      "  9.56662178e+00  2.29480076e+01  2.92326488e+01 -9.65180218e-01\n",
      "  8.15583324e+00  3.27203331e+01  3.02863503e+01 -1.11149912e+01\n",
      "  1.10073519e+01  2.64681518e-01  2.93963575e+00  8.56360245e+00\n",
      "  2.30138912e+01  8.46608448e+00  3.62935829e+00  7.38416147e+00\n",
      " -3.17564201e+00 -3.99120957e-01  2.37018948e+01  1.35021715e+01\n",
      "  2.73820953e+01  3.54217911e+01  7.08283484e-02  1.30163546e+01\n",
      "  5.37664127e+00  1.67562084e+01  7.94720268e+00  2.16376853e+00\n",
      " -4.86842585e+00  1.92984295e+01  8.55908930e-01  1.39809799e+01\n",
      "  4.33449554e+01  7.77102184e+00  3.33152723e+00  5.15860939e+00\n",
      "  2.63607121e+01  5.20643234e+00  6.68061781e+00  1.61860418e+00\n",
      "  1.09546070e+01  1.14199934e+01  6.11564922e+00  2.92003632e+00\n",
      "  1.13411264e+01  1.86489029e+01 -7.06305504e+00  9.70969772e+00\n",
      "  1.87175214e+00  4.57407608e+01 -1.26318347e+00  1.51066673e+00\n",
      "  2.00606079e+01  5.90923929e+00  1.02420530e+01 -7.01922464e+00\n",
      " -4.16684103e+00 -1.02140656e+01 -1.43054378e+00  7.90629053e+00\n",
      "  2.00951157e+01 -6.83596277e+00  2.73476162e+01  2.63939133e+01\n",
      " -2.39678478e+00  2.53904400e+01  6.63945723e+00  2.70051384e+01\n",
      "  7.61734438e+00  2.50703907e+01  1.84340267e+01  9.21532631e+00\n",
      " -1.32513466e+01  3.33990021e+01  3.71582642e+01 -4.44589281e+00\n",
      " -3.65920520e+00  7.43715286e-01  1.98985577e+01  1.49972858e+01\n",
      "  8.41602504e-01  1.95680275e+01  1.46323423e+01  6.85951042e+00\n",
      " -4.61818504e+00 -4.35665417e+00 -5.68007803e+00 -4.61283064e+00\n",
      "  3.20579071e+01  4.20317459e+01  8.60344982e+00  5.01996613e+00\n",
      "  3.72122908e+00 -8.42946529e+00  1.59393013e+00  4.87883759e+00\n",
      "  2.15471039e+01 -6.25161901e-02  8.77626419e+00  9.68771076e+00\n",
      " -1.01330318e+01  2.20796051e+01  1.07996178e+01  4.98356390e+00\n",
      "  1.71940460e+01  1.20984850e+01  1.52257748e+01 -3.50469255e+00\n",
      "  1.60696583e+01  1.35938492e+01 -2.43414450e+00 -4.44727230e+00\n",
      " -1.99304688e+00  2.13032742e+01  1.85450497e+01  2.26859856e+00\n",
      "  1.95893307e+01 -1.50966482e+01  3.93296576e+00 -7.81151533e+00\n",
      "  8.36181259e+00 -5.33235693e+00  1.01004324e+01  8.18708324e+00\n",
      "  6.36058140e+00  1.18990278e+00  4.64623928e+00  3.61221962e+01\n",
      "  2.56688957e+01  2.96715593e+00  2.46646576e+01  6.48828268e+00\n",
      "  1.38104601e+01  1.11950960e+01  8.27594948e+00  9.94758797e+00\n",
      "  5.90953112e+00 -4.19944429e+00  8.86931705e+00  1.94600582e+00\n",
      "  5.15682602e+00 -1.47138214e+01  1.24397326e+00  4.90888238e-01\n",
      "  3.02995720e+01 -5.87636805e+00  3.06030083e+01 -2.68854260e+00\n",
      "  2.48413868e+01  1.69936543e+01  5.95929337e+00 -3.64307451e+00\n",
      "  2.73514390e+00  1.72537460e+01 -2.11100712e+01 -6.82017922e-01\n",
      " -9.00095463e+00 -1.12876625e+01 -1.09476318e+01  8.38212299e+00\n",
      " -7.70553350e+00 -5.88121939e+00  9.43635523e-01 -2.27441349e+01\n",
      " -1.13113861e+01 -1.18517027e+01 -7.51259851e+00 -3.30523658e+00\n",
      " -5.50321341e+00 -5.04208755e+00 -5.96520329e+00  1.16049051e+00\n",
      " -3.74232769e+00 -3.24047184e+00 -1.33934326e+01 -1.56938000e+01\n",
      " -1.97139378e+01  6.72490597e+00 -4.92906904e+00 -1.43081532e+01\n",
      " -5.40933943e+00 -1.13591509e+01 -1.14791718e+01 -3.28352904e+00\n",
      " -1.14419174e+01 -1.60123997e+01  2.40567422e+00 -2.82938671e+00\n",
      " -8.18327618e+00  3.98156524e+00 -1.04588690e+01 -6.34915972e+00\n",
      "  3.30269957e+00 -5.56128693e+00 -1.73846197e+00 -5.79824877e+00\n",
      " -1.83419533e+01 -2.61957493e+01 -4.13949919e+00 -1.78944130e+01\n",
      " -2.26679373e+00 -6.34508038e+00  1.87984550e+00 -4.33544278e-01\n",
      " -1.14837770e+01  3.81097364e+00  6.03926611e+00 -1.76343337e-01\n",
      " -2.15632582e+00 -2.19278660e+01 -6.35954380e+00 -7.20313597e+00\n",
      " -6.14808893e+00 -1.43277235e+01 -2.40815563e+01 -1.77706301e+00\n",
      " -1.49988022e+01  8.27735901e-01 -3.23061600e+01 -3.81049466e+00\n",
      " -1.24341879e+01 -2.72181988e+00 -1.23809137e+01  3.60176802e-01\n",
      " -1.62239342e+01 -7.19493628e+00 -1.09379606e+01  3.52928758e+00\n",
      "  1.93087542e+00 -1.26881161e+01  1.32023895e+00  3.92500710e+00\n",
      "  2.97634315e+00  4.52895425e-02  1.61360097e+00  1.23436677e+00\n",
      " -1.11244040e+01 -3.75172567e+00  3.37922311e+00 -3.34546995e+00\n",
      " -7.34000874e+00  4.40807009e+00  9.84739959e-01 -9.44620323e+00\n",
      " -9.48269081e+00  6.37309504e+00  4.93108892e+00  2.51837075e-01\n",
      "  1.19841604e+01 -2.82567644e+00  2.01434875e+00 -1.06071520e+00\n",
      " -2.36597824e+01 -1.71117344e+01  2.17414171e-01 -6.45440769e+00\n",
      " -9.16849709e+00  5.99007940e+00 -5.88937664e+00 -2.97688246e-01\n",
      " -5.44678450e-01 -5.73061943e-01  1.40648766e+01 -1.13863249e+01\n",
      " -1.45565166e+01  3.39387035e+00 -9.74610138e+00 -1.30662718e+01\n",
      " -3.75171828e+00  3.35919905e+00 -2.12706146e+01  4.80548954e+00\n",
      " -9.16454029e+00  6.42976046e+00 -7.22085714e-01 -2.62247205e+00\n",
      " -3.30812240e+00 -2.39645157e+01 -2.29562545e+00 -1.64578590e+01\n",
      " -8.06546021e+00 -2.41712880e+00  2.41418719e+00  5.14313889e+00\n",
      "  1.43899903e-01 -2.95660233e+00 -8.12424564e+00 -1.92331657e+01\n",
      " -5.37671518e+00 -6.35413599e+00 -1.87724328e+00 -5.75647449e+00\n",
      " -3.34473157e+00 -2.67680383e+00 -7.98589420e+00 -1.88769455e+01\n",
      "  7.69166112e-01 -1.00148954e+01 -1.88443718e+01  9.39182186e+00\n",
      "  2.25109806e+01 -5.08159256e+00 -1.79838314e+01  3.72870111e+00\n",
      " -3.27858090e+00 -1.51821203e+01  6.61627412e-01 -2.02329273e+01\n",
      "  2.42572618e+00 -2.37326641e+01 -2.01607075e+01 -5.00836277e+00\n",
      " -3.88783646e+00  5.22184849e-01 -4.83531332e+00 -6.03441572e+00\n",
      " -4.92347336e+00 -5.43062449e+00 -6.63741112e-01 -3.97595215e+00\n",
      " -2.27779312e+01 -6.29951620e+00 -3.74486804e+00 -1.19944563e+01\n",
      " -4.88068771e+00 -8.24938202e+00 -5.58406830e+00 -2.21668458e+00\n",
      " -2.03400879e+01  2.81042409e+00 -1.26807606e+00 -2.39723778e+01\n",
      " -1.57908850e+01  5.61396885e+00  1.44683826e+00  3.05681992e+00\n",
      " -5.29965639e+00 -2.97477269e+00 -9.16402817e+00  7.17164218e-01\n",
      " -1.33725986e+01 -5.28445244e+00 -1.84300005e+00 -3.79372740e+00\n",
      "  4.24708939e+00  1.30835056e+00 -1.51196623e+01 -1.62089539e+01\n",
      "  2.43099403e+00 -2.83343744e+00 -6.96555376e+00 -2.18734264e+00\n",
      " -1.32819166e+01  6.30654097e+00  4.72333241e+00  4.80013704e+00\n",
      " -3.44066453e+00 -1.52473955e+01  2.06513405e-01  2.25340080e+00\n",
      "  5.86601377e-01  2.52223396e+00 -2.86323285e+00 -1.09437895e+01\n",
      " -2.49327393e+01 -1.96877289e+01  4.47467375e+00  2.29045367e+00\n",
      " -1.54143858e+00 -4.95778799e+00 -3.81614137e+00 -3.62527800e+00\n",
      " -5.14702022e-01  4.59688044e+00  1.74729767e+01 -7.42738676e+00\n",
      " -5.54268539e-01 -3.65617633e+00 -3.38114589e-01 -6.03303623e+00\n",
      " -2.20605106e+01 -6.81953478e+00  3.07547092e+00  6.68530464e+00\n",
      " -4.57531595e+00 -6.76684856e+00  6.29781675e+00  2.73885679e+00\n",
      " -1.61150532e+01  3.82397604e+00  3.33853912e+00 -2.67821941e+01\n",
      "  8.98837376e+00  1.86675763e+00 -5.60417414e+00 -7.56288671e+00\n",
      "  5.36170912e+00  2.51903701e+00  5.18816757e+00  7.54294574e-01\n",
      " -8.39702892e+00 -2.80589104e+01  1.06536543e+00 -5.82341957e+00\n",
      " -1.57843113e+01 -9.79879665e+00 -1.26624603e+01 -1.19467945e+01\n",
      " -5.50467920e+00 -7.78877735e+00 -7.18641901e+00 -2.12829351e-01\n",
      " -1.38359308e+01 -1.87534070e+00 -2.67979050e+01 -9.45815849e+00\n",
      " -6.52459812e+00 -9.04462910e+00 -5.55674322e-02  4.63838530e+00\n",
      " -1.94163668e+00 -1.07592916e+01 -2.23441219e+01  4.68594933e+00\n",
      " -1.11015844e+00 -3.63646531e+00 -2.65444469e+01 -1.14780188e+00\n",
      " -2.68603153e+01 -2.99182434e+01 -2.18080139e+01 -2.74412079e+01\n",
      "  1.00698195e+01 -1.73131599e+01 -6.10593891e+00 -1.98987522e+01\n",
      " -9.44040680e+00 -1.82445946e+01 -1.89447708e+01 -5.26224899e+00\n",
      "  4.63142967e+00 -4.78948250e+01 -1.54386606e+01 -1.55533485e+01\n",
      " -3.15851173e+01 -3.47865028e+01  7.74928474e+00 -4.42909813e+00\n",
      "  8.03484440e+00 -6.89686060e+00  2.28427086e+01 -2.65167313e+01\n",
      " -7.31682682e+00  1.08414543e+00 -3.00780373e+01 -2.73835158e+00\n",
      " -7.35107279e+00 -1.36726198e+01 -1.06144304e+01 -1.94331112e+01\n",
      "  9.19887161e+00 -1.08950329e+01 -5.77693796e+00 -9.29893589e+00\n",
      "  1.23837605e-01 -3.56207752e+00 -2.54035354e+00 -3.59141006e+01\n",
      " -4.91150045e+00 -1.57100210e+01  5.79655266e+00  1.71740317e+00\n",
      " -7.82946301e+00 -1.43015003e+00 -8.41687202e+00 -2.46287003e+01\n",
      "  8.99421501e+00 -9.50880623e+00 -1.19059432e+00 -2.79981518e+01\n",
      " -3.79624820e+00 -1.05078812e+01 -3.40929680e+01  8.94258976e-01\n",
      " -1.18109341e+01  5.31001687e-01 -4.34052420e+00 -1.14036903e+01\n",
      " -4.89464855e+00 -1.37724752e+01 -1.21033602e+01  3.08595705e+00\n",
      " -2.24205265e+01 -2.79142666e+01 -6.03299379e+00 -1.75046806e+01\n",
      "  2.29368544e+00 -8.26351738e+00 -8.80533028e+00 -4.86271858e+00\n",
      "  9.18703938e+00 -9.44196320e+00 -1.89706528e+00 -1.96770916e+01\n",
      "  6.05923605e+00 -1.56984186e+00 -6.55928516e+00 -3.77151794e+01\n",
      " -1.02213640e+01  3.34037519e+00  4.52933311e+00 -4.13924065e+01\n",
      " -2.10544453e+01  9.88588512e-01  1.07599926e+01  1.26197319e+01\n",
      " -2.99419594e+00 -9.99922657e+00  5.79473400e+00 -6.14545631e+00\n",
      " -1.80048409e+01  1.28451061e+01  7.14419937e+00 -2.20703201e+01\n",
      " -8.76379013e+00 -4.35353584e+01 -1.49848604e+01 -1.98336563e+01\n",
      "  4.03886557e+00 -2.38193369e+00  4.16413516e-01 -6.91298294e+00\n",
      " -9.33959484e-01 -4.09890175e+01  9.40427899e-01 -1.30549991e+00\n",
      " -9.79540634e+00 -8.14529228e+00 -2.20075035e+01  1.27289104e+01\n",
      "  2.89956880e+00 -2.22194099e+01 -8.98789501e+00 -1.37219181e+01\n",
      "  2.99657464e+00 -5.07865000e+00 -2.20773625e+00  7.14961350e-01\n",
      " -1.81331158e+01 -3.25479355e+01  3.59426856e+00 -1.49437943e+01\n",
      " -1.05035257e+01 -8.96805346e-01 -1.93417501e+00 -7.28357315e+00\n",
      " -1.54562054e+01 -3.91783562e+01 -2.83429317e+01 -3.88334203e+00\n",
      " -2.72418804e+01 -2.14519262e+00 -3.51670289e+00 -1.93914108e+01\n",
      " -2.09842491e+01  8.20928001e+00 -1.02762699e+01  6.50593567e+00\n",
      " -6.59328699e+00 -3.42565513e+00  2.56648540e+00  4.30313289e-01\n",
      " -3.21018219e+01 -3.40937843e+01 -2.86433811e+01 -1.96385212e+01\n",
      " -2.65280294e+00 -3.00208831e+00 -2.72231083e+01 -2.53858089e+01\n",
      "  3.15011859e-01 -1.81955414e+01 -7.75509787e+00]' has dtype incompatible with int64, please explicitly cast to a compatible dtype first.\n",
      "  preds[val_index] = model.predict(dval_i)\n",
      "/opt/anaconda3/lib/python3.12/site-packages/xgboost/core.py:158: UserWarning: [18:42:03] WARNING: /Users/runner/work/xgboost/xgboost/src/learner.cc:740: \n",
      "Parameters: { \"silent\" } are not used.\n",
      "\n",
      "  warnings.warn(smsg, UserWarning)\n",
      "/opt/anaconda3/lib/python3.12/site-packages/xgboost/core.py:158: UserWarning: [18:42:03] WARNING: /Users/runner/work/xgboost/xgboost/src/learner.cc:740: \n",
      "Parameters: { \"silent\" } are not used.\n",
      "\n",
      "  warnings.warn(smsg, UserWarning)\n",
      "/opt/anaconda3/lib/python3.12/site-packages/xgboost/core.py:158: UserWarning: [18:42:04] WARNING: /Users/runner/work/xgboost/xgboost/src/learner.cc:740: \n",
      "Parameters: { \"silent\" } are not used.\n",
      "\n",
      "  warnings.warn(smsg, UserWarning)\n",
      "/opt/anaconda3/lib/python3.12/site-packages/xgboost/core.py:158: UserWarning: [18:42:04] WARNING: /Users/runner/work/xgboost/xgboost/src/learner.cc:740: \n",
      "Parameters: { \"silent\" } are not used.\n",
      "\n",
      "  warnings.warn(smsg, UserWarning)\n"
     ]
    }
   ],
   "source": [
    "oof_preds = []\n",
    "for i in range(repeat_cv):\n",
    "    print(f\"Fold repeater {i}\")\n",
    "    preds = y.copy()\n",
    "    kfold = KFold(n_splits = 5, shuffle = True, random_state = i)    \n",
    "    for train_index, val_index in kfold.split(X,y):\n",
    "        dtrain_i = xgb.DMatrix(X[train_index], label = y[train_index])\n",
    "        dval_i = xgb.DMatrix(X[val_index], label = y[val_index])  \n",
    "        model = xgb.train(\n",
    "              params = param,\n",
    "              dtrain = dtrain_i,\n",
    "              num_boost_round = iteration_counts[i],\n",
    "              verbose_eval = 50\n",
    "        )\n",
    "        preds[val_index] = model.predict(dval_i)\n",
    "    oof_preds.append(np.clip(preds,-30,30))"
   ]
  },
  {
   "cell_type": "code",
   "execution_count": 48,
   "metadata": {
    "_uuid": "27281822aa36656d962d855d1791914b8d51a0e6",
    "execution": {
     "iopub.execute_input": "2023-03-14T23:51:33.850829Z",
     "iopub.status.busy": "2023-03-14T23:51:33.850435Z",
     "iopub.status.idle": "2023-03-14T23:51:34.019432Z",
     "shell.execute_reply": "2023-03-14T23:51:34.018446Z",
     "shell.execute_reply.started": "2023-03-14T23:51:33.850757Z"
    }
   },
   "outputs": [
    {
     "data": {
      "text/plain": [
       "[<matplotlib.lines.Line2D at 0x3376e2840>]"
      ]
     },
     "execution_count": 48,
     "metadata": {},
     "output_type": "execute_result"
    },
    {
     "data": {
      "image/png": "[encoded data removed]",
      "text/plain": [
       "<Figure size 640x480 with 1 Axes>"
      ]
     },
     "metadata": {},
     "output_type": "display_data"
    }
   ],
   "source": [
    "plot_df = pd.DataFrame({\"pred\":oof_preds[0], \"label\":np.where(y>0,1,0)})\n",
    "plot_df[\"pred_int\"] = plot_df[\"pred\"].astype(int)\n",
    "plot_df = plot_df.groupby('pred_int')['label'].mean().reset_index(name='average_win_pct')\n",
    "\n",
    "plt.figure()\n",
    "plt.plot(plot_df.pred_int,plot_df.average_win_pct)"
   ]
  },
  {
   "cell_type": "code",
   "execution_count": 49,
   "metadata": {
    "_uuid": "80131eb61294dd14c9a4b84f59b54f173d37a605",
    "execution": {
     "iopub.execute_input": "2023-03-14T23:51:34.020958Z",
     "iopub.status.busy": "2023-03-14T23:51:34.020716Z",
     "iopub.status.idle": "2023-03-14T23:51:34.056294Z",
     "shell.execute_reply": "2023-03-14T23:51:34.055212Z",
     "shell.execute_reply.started": "2023-03-14T23:51:34.020907Z"
    }
   },
   "outputs": [
    {
     "name": "stdout",
     "output_type": "stream",
     "text": [
      "logloss of cvsplit 0: 0.5119777391775344\n",
      "logloss of cvsplit 1: 0.5137680324011386\n",
      "logloss of cvsplit 2: 0.5124309527896247\n"
     ]
    }
   ],
   "source": [
    "spline_model = []\n",
    "\n",
    "for i in range(repeat_cv):\n",
    "    dat = list(zip(oof_preds[i],np.where(y>0,1,0)))\n",
    "    dat = sorted(dat, key = lambda x: x[0])\n",
    "    datdict = {}\n",
    "    for k in range(len(dat)):\n",
    "        datdict[dat[k][0]]= dat[k][1]\n",
    "        \n",
    "    spline_model.append(UnivariateSpline(list(datdict.keys()), list(datdict.values())))\n",
    "    spline_fit = spline_model[i](oof_preds[i])\n",
    "    \n",
    "    print(f\"logloss of cvsplit {i}: {log_loss(np.where(y>0,1,0),spline_fit)}\") "
   ]
  },
  {
   "cell_type": "code",
   "execution_count": 51,
   "metadata": {
    "_uuid": "5c5313989cfa1fb2cfa57e4ddb1e2a22ab290423",
    "execution": {
     "iopub.execute_input": "2023-03-14T23:51:34.057798Z",
     "iopub.status.busy": "2023-03-14T23:51:34.057520Z",
     "iopub.status.idle": "2023-03-14T23:51:34.222576Z",
     "shell.execute_reply": "2023-03-14T23:51:34.221449Z",
     "shell.execute_reply.started": "2023-03-14T23:51:34.057746Z"
    }
   },
   "outputs": [
    {
     "data": {
      "text/plain": [
       "[<matplotlib.lines.Line2D at 0x3376b7230>]"
      ]
     },
     "execution_count": 51,
     "metadata": {},
     "output_type": "execute_result"
    },
    {
     "data": {
      "image/png": "[encoded data removed]",
      "text/plain": [
       "<Figure size 640x480 with 1 Axes>"
      ]
     },
     "metadata": {},
     "output_type": "display_data"
    }
   ],
   "source": [
    "plot_df = pd.DataFrame({\"pred\":oof_preds[0], \"label\":np.where(y>0,1,0), \"spline\":spline_model[0](oof_preds[0])})\n",
    "plot_df[\"pred_int\"] = (plot_df[\"pred\"]).astype(int)\n",
    "plot_df = plot_df.groupby('pred_int')[['spline', 'label']].mean().reset_index()\n",
    "\n",
    "plt.figure()\n",
    "plt.plot(plot_df.pred_int,plot_df.spline)\n",
    "plt.plot(plot_df.pred_int,plot_df.label)"
   ]
  },
  {
   "cell_type": "code",
   "execution_count": 52,
   "metadata": {
    "_uuid": "2b06344b5c968cfcd5c5840db36db184de311f96",
    "execution": {
     "iopub.execute_input": "2023-03-14T23:51:34.224176Z",
     "iopub.status.busy": "2023-03-14T23:51:34.223918Z",
     "iopub.status.idle": "2023-03-14T23:51:34.263023Z",
     "shell.execute_reply": "2023-03-14T23:51:34.262139Z",
     "shell.execute_reply.started": "2023-03-14T23:51:34.224125Z"
    }
   },
   "outputs": [
    {
     "name": "stdout",
     "output_type": "stream",
     "text": [
      "adjusted logloss of cvsplit 0: 0.5108409166382848\n",
      "adjusted logloss of cvsplit 1: 0.512929234192677\n",
      "adjusted logloss of cvsplit 2: 0.510702974293594\n"
     ]
    }
   ],
   "source": [
    "spline_model = []\n",
    "\n",
    "for i in range(repeat_cv):\n",
    "    dat = list(zip(oof_preds[i],np.where(y>0,1,0)))\n",
    "    dat = sorted(dat, key = lambda x: x[0])\n",
    "    datdict = {}\n",
    "    for k in range(len(dat)):\n",
    "        datdict[dat[k][0]]= dat[k][1]\n",
    "    spline_model.append(UnivariateSpline(list(datdict.keys()), list(datdict.values())))\n",
    "    spline_fit = spline_model[i](oof_preds[i])\n",
    "    spline_fit = np.clip(spline_fit,0.025,0.975)\n",
    "    \n",
    "    print(f\"adjusted logloss of cvsplit {i}: {log_loss(np.where(y>0,1,0),spline_fit)}\") "
   ]
  },
  {
   "cell_type": "code",
   "execution_count": 53,
   "metadata": {
    "_uuid": "701351545f58a26cbd8afe55196df383f570517d",
    "execution": {
     "iopub.execute_input": "2023-03-14T23:51:34.264367Z",
     "iopub.status.busy": "2023-03-14T23:51:34.264135Z",
     "iopub.status.idle": "2023-03-14T23:51:34.319363Z",
     "shell.execute_reply": "2023-03-14T23:51:34.318349Z",
     "shell.execute_reply.started": "2023-03-14T23:51:34.264323Z"
    }
   },
   "outputs": [
    {
     "name": "stdout",
     "output_type": "stream",
     "text": [
      "adjusted logloss of cvsplit 0: 1.0700892952510073\n",
      "adjusted logloss of cvsplit 1: 1.0717212828192109\n",
      "adjusted logloss of cvsplit 2: 1.070457936248981\n"
     ]
    }
   ],
   "source": [
    "spline_model = []\n",
    "\n",
    "for i in range(repeat_cv):\n",
    "    dat = list(zip(oof_preds[i],np.where(y>0,1,0)))\n",
    "    dat = sorted(dat, key = lambda x: x[0])\n",
    "    datdict = {}\n",
    "    for k in range(len(dat)):\n",
    "        datdict[dat[k][0]]= dat[k][1]\n",
    "    spline_model.append(UnivariateSpline(list(datdict.keys()), list(datdict.values())))\n",
    "    spline_fit = spline_model[i](oof_preds[i])\n",
    "    spline_fit = np.clip(spline_fit,0.025,0.975)\n",
    "    spline_fit[(tourney_data.T1_seed==1) & (tourney_data.T2_seed==16)] = 1.0\n",
    "    spline_fit[(tourney_data.T1_seed==2) & (tourney_data.T2_seed==15)] = 1.0\n",
    "    spline_fit[(tourney_data.T1_seed==3) & (tourney_data.T2_seed==14)] = 1.0\n",
    "    spline_fit[(tourney_data.T1_seed==4) & (tourney_data.T2_seed==13)] = 1.0\n",
    "    spline_fit[(tourney_data.T1_seed==16) & (tourney_data.T2_seed==1)] = 0.0\n",
    "    spline_fit[(tourney_data.T1_seed==15) & (tourney_data.T2_seed==2)] = 0.0\n",
    "    spline_fit[(tourney_data.T1_seed==14) & (tourney_data.T2_seed==3)] = 0.0\n",
    "    spline_fit[(tourney_data.T1_seed==13) & (tourney_data.T2_seed==4)] = 0.0\n",
    "    \n",
    "    print(f\"adjusted logloss of cvsplit {i}: {log_loss(np.where(y>0,1,0),spline_fit)}\") "
   ]
  },
  {
   "cell_type": "code",
   "execution_count": 54,
   "metadata": {
    "_uuid": "575ae5e165fcde8fecec21f0df0d27fd8fa0726a",
    "execution": {
     "iopub.execute_input": "2023-03-14T23:51:34.320619Z",
     "iopub.status.busy": "2023-03-14T23:51:34.320398Z",
     "iopub.status.idle": "2023-03-14T23:51:34.465875Z",
     "shell.execute_reply": "2023-03-14T23:51:34.464725Z",
     "shell.execute_reply.started": "2023-03-14T23:51:34.320579Z"
    }
   },
   "outputs": [
    {
     "data": {
      "text/html": [
       "<div>\n",
       "<style scoped>\n",
       "    .dataframe tbody tr th:only-of-type {\n",
       "        vertical-align: middle;\n",
       "    }\n",
       "\n",
       "    .dataframe tbody tr th {\n",
       "        vertical-align: top;\n",
       "    }\n",
       "\n",
       "    .dataframe thead th {\n",
       "        text-align: right;\n",
       "    }\n",
       "</style>\n",
       "<table border=\"1\" class=\"dataframe\">\n",
       "  <thead>\n",
       "    <tr style=\"text-align: right;\">\n",
       "      <th></th>\n",
       "      <th>Season</th>\n",
       "      <th>DayNum</th>\n",
       "      <th>T1_TeamID</th>\n",
       "      <th>T1_Score</th>\n",
       "      <th>T2_TeamID</th>\n",
       "      <th>T2_Score</th>\n",
       "      <th>T1_FGMmean</th>\n",
       "      <th>T1_FGAmean</th>\n",
       "      <th>T1_FGM3mean</th>\n",
       "      <th>T1_FGA3mean</th>\n",
       "      <th>...</th>\n",
       "      <th>T2_opponent_Stlmean</th>\n",
       "      <th>T2_opponent_Blkmean</th>\n",
       "      <th>T2_PointDiffmean</th>\n",
       "      <th>T1_win_ratio_14d</th>\n",
       "      <th>T2_win_ratio_14d</th>\n",
       "      <th>T1_quality</th>\n",
       "      <th>T2_quality</th>\n",
       "      <th>T1_seed</th>\n",
       "      <th>T2_seed</th>\n",
       "      <th>Seed_diff</th>\n",
       "    </tr>\n",
       "  </thead>\n",
       "  <tbody>\n",
       "    <tr>\n",
       "      <th>3290</th>\n",
       "      <td>2018</td>\n",
       "      <td>137</td>\n",
       "      <td>1438</td>\n",
       "      <td>54</td>\n",
       "      <td>1420</td>\n",
       "      <td>74</td>\n",
       "      <td>25.000000</td>\n",
       "      <td>54.181818</td>\n",
       "      <td>7.363636</td>\n",
       "      <td>18.878788</td>\n",
       "      <td>...</td>\n",
       "      <td>6.258065</td>\n",
       "      <td>2.806452</td>\n",
       "      <td>1.516129</td>\n",
       "      <td>1.000000</td>\n",
       "      <td>1.000000</td>\n",
       "      <td>2.309278e+15</td>\n",
       "      <td>-9.843722e+15</td>\n",
       "      <td>1</td>\n",
       "      <td>16</td>\n",
       "      <td>-15</td>\n",
       "    </tr>\n",
       "    <tr>\n",
       "      <th>3547</th>\n",
       "      <td>2023</td>\n",
       "      <td>137</td>\n",
       "      <td>1345</td>\n",
       "      <td>58</td>\n",
       "      <td>1192</td>\n",
       "      <td>63</td>\n",
       "      <td>25.441176</td>\n",
       "      <td>55.382353</td>\n",
       "      <td>6.882353</td>\n",
       "      <td>21.088235</td>\n",
       "      <td>...</td>\n",
       "      <td>5.593750</td>\n",
       "      <td>3.875000</td>\n",
       "      <td>0.312500</td>\n",
       "      <td>1.000000</td>\n",
       "      <td>0.666667</td>\n",
       "      <td>1.137215e+15</td>\n",
       "      <td>-2.469505e+15</td>\n",
       "      <td>1</td>\n",
       "      <td>16</td>\n",
       "      <td>-15</td>\n",
       "    </tr>\n",
       "    <tr>\n",
       "      <th>2881</th>\n",
       "      <td>2012</td>\n",
       "      <td>137</td>\n",
       "      <td>1181</td>\n",
       "      <td>70</td>\n",
       "      <td>1250</td>\n",
       "      <td>75</td>\n",
       "      <td>25.757576</td>\n",
       "      <td>56.272727</td>\n",
       "      <td>8.121212</td>\n",
       "      <td>21.606061</td>\n",
       "      <td>...</td>\n",
       "      <td>5.687500</td>\n",
       "      <td>3.843750</td>\n",
       "      <td>10.218750</td>\n",
       "      <td>0.500000</td>\n",
       "      <td>1.000000</td>\n",
       "      <td>3.696398e+14</td>\n",
       "      <td>-1.265036e+16</td>\n",
       "      <td>2</td>\n",
       "      <td>15</td>\n",
       "      <td>-13</td>\n",
       "    </tr>\n",
       "    <tr>\n",
       "      <th>2884</th>\n",
       "      <td>2012</td>\n",
       "      <td>137</td>\n",
       "      <td>1281</td>\n",
       "      <td>84</td>\n",
       "      <td>1313</td>\n",
       "      <td>86</td>\n",
       "      <td>28.000000</td>\n",
       "      <td>55.588235</td>\n",
       "      <td>8.235294</td>\n",
       "      <td>20.823529</td>\n",
       "      <td>...</td>\n",
       "      <td>6.593750</td>\n",
       "      <td>3.125000</td>\n",
       "      <td>2.812500</td>\n",
       "      <td>1.000000</td>\n",
       "      <td>1.000000</td>\n",
       "      <td>3.997905e+14</td>\n",
       "      <td>-2.722308e+15</td>\n",
       "      <td>2</td>\n",
       "      <td>15</td>\n",
       "      <td>-13</td>\n",
       "    </tr>\n",
       "    <tr>\n",
       "      <th>2944</th>\n",
       "      <td>2013</td>\n",
       "      <td>137</td>\n",
       "      <td>1207</td>\n",
       "      <td>68</td>\n",
       "      <td>1195</td>\n",
       "      <td>78</td>\n",
       "      <td>23.000000</td>\n",
       "      <td>50.419355</td>\n",
       "      <td>5.870968</td>\n",
       "      <td>16.419355</td>\n",
       "      <td>...</td>\n",
       "      <td>6.937500</td>\n",
       "      <td>3.031250</td>\n",
       "      <td>5.031250</td>\n",
       "      <td>0.500000</td>\n",
       "      <td>1.000000</td>\n",
       "      <td>1.058677e+15</td>\n",
       "      <td>2.731983e+14</td>\n",
       "      <td>2</td>\n",
       "      <td>15</td>\n",
       "      <td>-13</td>\n",
       "    </tr>\n",
       "    <tr>\n",
       "      <th>...</th>\n",
       "      <td>...</td>\n",
       "      <td>...</td>\n",
       "      <td>...</td>\n",
       "      <td>...</td>\n",
       "      <td>...</td>\n",
       "      <td>...</td>\n",
       "      <td>...</td>\n",
       "      <td>...</td>\n",
       "      <td>...</td>\n",
       "      <td>...</td>\n",
       "      <td>...</td>\n",
       "      <td>...</td>\n",
       "      <td>...</td>\n",
       "      <td>...</td>\n",
       "      <td>...</td>\n",
       "      <td>...</td>\n",
       "      <td>...</td>\n",
       "      <td>...</td>\n",
       "      <td>...</td>\n",
       "      <td>...</td>\n",
       "      <td>...</td>\n",
       "    </tr>\n",
       "    <tr>\n",
       "      <th>1146</th>\n",
       "      <td>2021</td>\n",
       "      <td>138</td>\n",
       "      <td>1325</td>\n",
       "      <td>62</td>\n",
       "      <td>1438</td>\n",
       "      <td>58</td>\n",
       "      <td>29.545455</td>\n",
       "      <td>60.681818</td>\n",
       "      <td>8.590909</td>\n",
       "      <td>23.500000</td>\n",
       "      <td>...</td>\n",
       "      <td>5.125000</td>\n",
       "      <td>2.333333</td>\n",
       "      <td>8.166667</td>\n",
       "      <td>1.000000</td>\n",
       "      <td>1.000000</td>\n",
       "      <td>-6.064842e+16</td>\n",
       "      <td>2.351241e+15</td>\n",
       "      <td>13</td>\n",
       "      <td>4</td>\n",
       "      <td>9</td>\n",
       "    </tr>\n",
       "    <tr>\n",
       "      <th>1256</th>\n",
       "      <td>2023</td>\n",
       "      <td>136</td>\n",
       "      <td>1202</td>\n",
       "      <td>68</td>\n",
       "      <td>1438</td>\n",
       "      <td>67</td>\n",
       "      <td>28.000000</td>\n",
       "      <td>58.774194</td>\n",
       "      <td>9.387097</td>\n",
       "      <td>27.290323</td>\n",
       "      <td>...</td>\n",
       "      <td>4.843750</td>\n",
       "      <td>3.750000</td>\n",
       "      <td>7.562500</td>\n",
       "      <td>1.000000</td>\n",
       "      <td>0.800000</td>\n",
       "      <td>-4.631761e+15</td>\n",
       "      <td>-1.572191e+14</td>\n",
       "      <td>13</td>\n",
       "      <td>4</td>\n",
       "      <td>9</td>\n",
       "    </tr>\n",
       "    <tr>\n",
       "      <th>1350</th>\n",
       "      <td>2024</td>\n",
       "      <td>137</td>\n",
       "      <td>1463</td>\n",
       "      <td>78</td>\n",
       "      <td>1120</td>\n",
       "      <td>76</td>\n",
       "      <td>27.482759</td>\n",
       "      <td>59.517241</td>\n",
       "      <td>7.275862</td>\n",
       "      <td>21.034483</td>\n",
       "      <td>...</td>\n",
       "      <td>6.558824</td>\n",
       "      <td>3.235294</td>\n",
       "      <td>15.294118</td>\n",
       "      <td>0.666667</td>\n",
       "      <td>1.000000</td>\n",
       "      <td>NaN</td>\n",
       "      <td>NaN</td>\n",
       "      <td>13</td>\n",
       "      <td>4</td>\n",
       "      <td>9</td>\n",
       "    </tr>\n",
       "    <tr>\n",
       "      <th>1533</th>\n",
       "      <td>2012</td>\n",
       "      <td>139</td>\n",
       "      <td>3265</td>\n",
       "      <td>76</td>\n",
       "      <td>3208</td>\n",
       "      <td>70</td>\n",
       "      <td>23.156250</td>\n",
       "      <td>55.312500</td>\n",
       "      <td>7.031250</td>\n",
       "      <td>21.968750</td>\n",
       "      <td>...</td>\n",
       "      <td>6.931034</td>\n",
       "      <td>3.482759</td>\n",
       "      <td>10.827586</td>\n",
       "      <td>1.000000</td>\n",
       "      <td>0.000000</td>\n",
       "      <td>-4.454712e+14</td>\n",
       "      <td>3.208287e+13</td>\n",
       "      <td>13</td>\n",
       "      <td>4</td>\n",
       "      <td>9</td>\n",
       "    </tr>\n",
       "    <tr>\n",
       "      <th>2043</th>\n",
       "      <td>2021</td>\n",
       "      <td>140</td>\n",
       "      <td>3460</td>\n",
       "      <td>66</td>\n",
       "      <td>3116</td>\n",
       "      <td>62</td>\n",
       "      <td>24.040000</td>\n",
       "      <td>59.800000</td>\n",
       "      <td>3.960000</td>\n",
       "      <td>14.960000</td>\n",
       "      <td>...</td>\n",
       "      <td>4.185185</td>\n",
       "      <td>3.111111</td>\n",
       "      <td>9.000000</td>\n",
       "      <td>1.000000</td>\n",
       "      <td>0.000000</td>\n",
       "      <td>-1.438762e+16</td>\n",
       "      <td>5.701243e+15</td>\n",
       "      <td>13</td>\n",
       "      <td>4</td>\n",
       "      <td>9</td>\n",
       "    </tr>\n",
       "  </tbody>\n",
       "</table>\n",
       "<p>78 rows × 51 columns</p>\n",
       "</div>"
      ],
      "text/plain": [
       "      Season  DayNum  T1_TeamID  T1_Score  T2_TeamID  T2_Score  T1_FGMmean  \\\n",
       "3290    2018     137       1438        54       1420        74   25.000000   \n",
       "3547    2023     137       1345        58       1192        63   25.441176   \n",
       "2881    2012     137       1181        70       1250        75   25.757576   \n",
       "2884    2012     137       1281        84       1313        86   28.000000   \n",
       "2944    2013     137       1207        68       1195        78   23.000000   \n",
       "...      ...     ...        ...       ...        ...       ...         ...   \n",
       "1146    2021     138       1325        62       1438        58   29.545455   \n",
       "1256    2023     136       1202        68       1438        67   28.000000   \n",
       "1350    2024     137       1463        78       1120        76   27.482759   \n",
       "1533    2012     139       3265        76       3208        70   23.156250   \n",
       "2043    2021     140       3460        66       3116        62   24.040000   \n",
       "\n",
       "      T1_FGAmean  T1_FGM3mean  T1_FGA3mean  ...  T2_opponent_Stlmean  \\\n",
       "3290   54.181818     7.363636    18.878788  ...             6.258065   \n",
       "3547   55.382353     6.882353    21.088235  ...             5.593750   \n",
       "2881   56.272727     8.121212    21.606061  ...             5.687500   \n",
       "2884   55.588235     8.235294    20.823529  ...             6.593750   \n",
       "2944   50.419355     5.870968    16.419355  ...             6.937500   \n",
       "...          ...          ...          ...  ...                  ...   \n",
       "1146   60.681818     8.590909    23.500000  ...             5.125000   \n",
       "1256   58.774194     9.387097    27.290323  ...             4.843750   \n",
       "1350   59.517241     7.275862    21.034483  ...             6.558824   \n",
       "1533   55.312500     7.031250    21.968750  ...             6.931034   \n",
       "2043   59.800000     3.960000    14.960000  ...             4.185185   \n",
       "\n",
       "      T2_opponent_Blkmean  T2_PointDiffmean  T1_win_ratio_14d  \\\n",
       "3290             2.806452          1.516129          1.000000   \n",
       "3547             3.875000          0.312500          1.000000   \n",
       "2881             3.843750         10.218750          0.500000   \n",
       "2884             3.125000          2.812500          1.000000   \n",
       "2944             3.031250          5.031250          0.500000   \n",
       "...                   ...               ...               ...   \n",
       "1146             2.333333          8.166667          1.000000   \n",
       "1256             3.750000          7.562500          1.000000   \n",
       "1350             3.235294         15.294118          0.666667   \n",
       "1533             3.482759         10.827586          1.000000   \n",
       "2043             3.111111          9.000000          1.000000   \n",
       "\n",
       "      T2_win_ratio_14d    T1_quality    T2_quality  T1_seed  T2_seed  \\\n",
       "3290          1.000000  2.309278e+15 -9.843722e+15        1       16   \n",
       "3547          0.666667  1.137215e+15 -2.469505e+15        1       16   \n",
       "2881          1.000000  3.696398e+14 -1.265036e+16        2       15   \n",
       "2884          1.000000  3.997905e+14 -2.722308e+15        2       15   \n",
       "2944          1.000000  1.058677e+15  2.731983e+14        2       15   \n",
       "...                ...           ...           ...      ...      ...   \n",
       "1146          1.000000 -6.064842e+16  2.351241e+15       13        4   \n",
       "1256          0.800000 -4.631761e+15 -1.572191e+14       13        4   \n",
       "1350          1.000000           NaN           NaN       13        4   \n",
       "1533          0.000000 -4.454712e+14  3.208287e+13       13        4   \n",
       "2043          0.000000 -1.438762e+16  5.701243e+15       13        4   \n",
       "\n",
       "      Seed_diff  \n",
       "3290        -15  \n",
       "3547        -15  \n",
       "2881        -13  \n",
       "2884        -13  \n",
       "2944        -13  \n",
       "...         ...  \n",
       "1146          9  \n",
       "1256          9  \n",
       "1350          9  \n",
       "1533          9  \n",
       "2043          9  \n",
       "\n",
       "[78 rows x 51 columns]"
      ]
     },
     "execution_count": 54,
     "metadata": {},
     "output_type": "execute_result"
    }
   ],
   "source": [
    "#looking for upsets\n",
    "pd.concat(\n",
    "    [tourney_data[(tourney_data.T1_seed==1) & (tourney_data.T2_seed==16) & (tourney_data.T1_Score < tourney_data.T2_Score)],\n",
    "     tourney_data[(tourney_data.T1_seed==2) & (tourney_data.T2_seed==15) & (tourney_data.T1_Score < tourney_data.T2_Score)],\n",
    "     tourney_data[(tourney_data.T1_seed==3) & (tourney_data.T2_seed==14) & (tourney_data.T1_Score < tourney_data.T2_Score)],\n",
    "     tourney_data[(tourney_data.T1_seed==4) & (tourney_data.T2_seed==13) & (tourney_data.T1_Score < tourney_data.T2_Score)],\n",
    "     tourney_data[(tourney_data.T1_seed==16) & (tourney_data.T2_seed==1) & (tourney_data.T1_Score > tourney_data.T2_Score)],\n",
    "     tourney_data[(tourney_data.T1_seed==15) & (tourney_data.T2_seed==2) & (tourney_data.T1_Score > tourney_data.T2_Score)],\n",
    "     tourney_data[(tourney_data.T1_seed==14) & (tourney_data.T2_seed==3) & (tourney_data.T1_Score > tourney_data.T2_Score)],\n",
    "     tourney_data[(tourney_data.T1_seed==13) & (tourney_data.T2_seed==4) & (tourney_data.T1_Score > tourney_data.T2_Score)]]\n",
    ")   \n",
    "\n",
    "#https://en.wikipedia.org/wiki/NCAA_Division_I_Women%27s_Basketball_Tournament_upsets"
   ]
  },
  {
   "cell_type": "code",
   "execution_count": 55,
   "metadata": {
    "_uuid": "3aad32289e9d47005b85793d952555104b0e45ad",
    "execution": {
     "iopub.execute_input": "2023-03-14T23:51:34.467557Z",
     "iopub.status.busy": "2023-03-14T23:51:34.467298Z",
     "iopub.status.idle": "2023-03-14T23:51:34.527894Z",
     "shell.execute_reply": "2023-03-14T23:51:34.526714Z",
     "shell.execute_reply.started": "2023-03-14T23:51:34.467513Z"
    }
   },
   "outputs": [
    {
     "name": "stdout",
     "output_type": "stream",
     "text": [
      "adjusted logloss of cvsplit 0: 0.48899288945767794\n",
      "adjusted logloss of cvsplit 1: 0.4904461246908701\n",
      "adjusted logloss of cvsplit 2: 0.48874128313006887\n"
     ]
    }
   ],
   "source": [
    "spline_model = []\n",
    "\n",
    "for i in range(repeat_cv):\n",
    "    dat = list(zip(oof_preds[i],np.where(y>0,1,0)))\n",
    "    dat = sorted(dat, key = lambda x: x[0])\n",
    "    datdict = {}\n",
    "    for k in range(len(dat)):\n",
    "        datdict[dat[k][0]]= dat[k][1]\n",
    "    spline_model.append(UnivariateSpline(list(datdict.keys()), list(datdict.values())))\n",
    "    spline_fit = spline_model[i](oof_preds[i])\n",
    "    spline_fit = np.clip(spline_fit,0.025,0.975)\n",
    "    spline_fit[(tourney_data.T1_seed==1) & (tourney_data.T2_seed==16) & (tourney_data.T1_Score > tourney_data.T2_Score)] = 1.0\n",
    "    spline_fit[(tourney_data.T1_seed==2) & (tourney_data.T2_seed==15) & (tourney_data.T1_Score > tourney_data.T2_Score)] = 1.0\n",
    "    spline_fit[(tourney_data.T1_seed==3) & (tourney_data.T2_seed==14) & (tourney_data.T1_Score > tourney_data.T2_Score)] = 1.0\n",
    "    spline_fit[(tourney_data.T1_seed==4) & (tourney_data.T2_seed==13) & (tourney_data.T1_Score > tourney_data.T2_Score)] = 1.0\n",
    "    spline_fit[(tourney_data.T1_seed==16) & (tourney_data.T2_seed==1) & (tourney_data.T1_Score < tourney_data.T2_Score)] = 0.0\n",
    "    spline_fit[(tourney_data.T1_seed==15) & (tourney_data.T2_seed==2) & (tourney_data.T1_Score < tourney_data.T2_Score)] = 0.0\n",
    "    spline_fit[(tourney_data.T1_seed==14) & (tourney_data.T2_seed==3) & (tourney_data.T1_Score < tourney_data.T2_Score)] = 0.0\n",
    "    spline_fit[(tourney_data.T1_seed==13) & (tourney_data.T2_seed==4) & (tourney_data.T1_Score < tourney_data.T2_Score)] = 0.0\n",
    "    \n",
    "    print(f\"adjusted logloss of cvsplit {i}: {log_loss(np.where(y>0,1,0),spline_fit)}\") "
   ]
  },
  {
   "cell_type": "code",
   "execution_count": 56,
   "metadata": {
    "_uuid": "afc43d2f93dac2fe257e670f952c02e74a0b0bdb",
    "execution": {
     "iopub.execute_input": "2023-03-14T23:51:34.529495Z",
     "iopub.status.busy": "2023-03-14T23:51:34.529091Z",
     "iopub.status.idle": "2023-03-14T23:51:34.618147Z",
     "shell.execute_reply": "2023-03-14T23:51:34.617114Z",
     "shell.execute_reply.started": "2023-03-14T23:51:34.529313Z"
    },
    "scrolled": true
   },
   "outputs": [
    {
     "name": "stdout",
     "output_type": "stream",
     "text": [
      "adjusted logloss of cvsplit 0: 0.48899288945767794\n",
      "adjusted logloss of cvsplit 1: 0.4904461246908701\n",
      "adjusted logloss of cvsplit 2: 0.48874128313006887\n"
     ]
    },
    {
     "name": "stderr",
     "output_type": "stream",
     "text": [
      "/var/folders/ml/c9m4gk2d5j1gjzt21jgb5d3r0000gn/T/ipykernel_60753/1651078057.py:26: DeprecationWarning: DataFrameGroupBy.apply operated on the grouping columns. This behavior is deprecated, and in a future version of pandas the grouping columns will be excluded from the operation. Either pass `include_groups=False` to exclude the groupings or explicitly select the grouping columns after groupby to silence this warning.\n",
      "  val_cv.groupby('season').apply(lambda x: log_loss(x.y, x.pred))\n"
     ]
    },
    {
     "data": {
      "text/plain": [
       "season\n",
       "2003    0.516424\n",
       "2004    0.488288\n",
       "2005    0.493057\n",
       "2006    0.553624\n",
       "2007    0.417508\n",
       "2008    0.456413\n",
       "2009    0.456698\n",
       "2010    0.470165\n",
       "2011    0.482972\n",
       "2012    0.482734\n",
       "2013    0.509126\n",
       "2014    0.487924\n",
       "2015    0.426894\n",
       "2016    0.532239\n",
       "2017    0.466566\n",
       "2018    0.531155\n",
       "2019    0.427624\n",
       "2021    0.529631\n",
       "2022    0.534592\n",
       "2023    0.523129\n",
       "2024    0.466435\n",
       "dtype: float64"
      ]
     },
     "execution_count": 56,
     "metadata": {},
     "output_type": "execute_result"
    }
   ],
   "source": [
    "val_cv = []\n",
    "spline_model = []\n",
    "\n",
    "for i in range(repeat_cv):\n",
    "    dat = list(zip(oof_preds[i],np.where(y>0,1,0)))\n",
    "    dat = sorted(dat, key = lambda x: x[0])\n",
    "    datdict = {}\n",
    "    for k in range(len(dat)):\n",
    "        datdict[dat[k][0]]= dat[k][1]\n",
    "    spline_model.append(UnivariateSpline(list(datdict.keys()), list(datdict.values())))\n",
    "    spline_fit = spline_model[i](oof_preds[i])\n",
    "    spline_fit = np.clip(spline_fit,0.025,0.975)\n",
    "    spline_fit[(tourney_data.T1_seed==1) & (tourney_data.T2_seed==16) & (tourney_data.T1_Score > tourney_data.T2_Score)] = 1.0\n",
    "    spline_fit[(tourney_data.T1_seed==2) & (tourney_data.T2_seed==15) & (tourney_data.T1_Score > tourney_data.T2_Score)] = 1.0\n",
    "    spline_fit[(tourney_data.T1_seed==3) & (tourney_data.T2_seed==14) & (tourney_data.T1_Score > tourney_data.T2_Score)] = 1.0\n",
    "    spline_fit[(tourney_data.T1_seed==4) & (tourney_data.T2_seed==13) & (tourney_data.T1_Score > tourney_data.T2_Score)] = 1.0\n",
    "    spline_fit[(tourney_data.T1_seed==16) & (tourney_data.T2_seed==1) & (tourney_data.T1_Score < tourney_data.T2_Score)] = 0.0\n",
    "    spline_fit[(tourney_data.T1_seed==15) & (tourney_data.T2_seed==2) & (tourney_data.T1_Score < tourney_data.T2_Score)] = 0.0\n",
    "    spline_fit[(tourney_data.T1_seed==14) & (tourney_data.T2_seed==3) & (tourney_data.T1_Score < tourney_data.T2_Score)] = 0.0\n",
    "    spline_fit[(tourney_data.T1_seed==13) & (tourney_data.T2_seed==4) & (tourney_data.T1_Score < tourney_data.T2_Score)] = 0.0\n",
    "    \n",
    "    val_cv.append(pd.DataFrame({\"y\":np.where(y>0,1,0), \"pred\":spline_fit, \"season\":tourney_data.Season}))\n",
    "    print(f\"adjusted logloss of cvsplit {i}: {log_loss(np.where(y>0,1,0),spline_fit)}\") \n",
    "    \n",
    "val_cv = pd.concat(val_cv)\n",
    "val_cv.groupby('season').apply(lambda x: log_loss(x.y, x.pred))"
   ]
  },
  {
   "cell_type": "markdown",
   "metadata": {
    "_uuid": "0c06e55e0ed14fd6c3c625e01aca69ae873d74c3"
   },
   "source": [
    "# Submission time!"
   ]
  },
  {
   "cell_type": "code",
   "execution_count": 58,
   "metadata": {
    "_uuid": "f2fb2bbe182ac6d6da98cd5c0086a3089988a62a",
    "execution": {
     "iopub.execute_input": "2023-03-14T23:51:34.619969Z",
     "iopub.status.busy": "2023-03-14T23:51:34.619602Z",
     "iopub.status.idle": "2023-03-14T23:51:35.020583Z",
     "shell.execute_reply": "2023-03-14T23:51:35.019994Z",
     "shell.execute_reply.started": "2023-03-14T23:51:34.619900Z"
    }
   },
   "outputs": [
    {
     "data": {
      "text/html": [
       "<div>\n",
       "<style scoped>\n",
       "    .dataframe tbody tr th:only-of-type {\n",
       "        vertical-align: middle;\n",
       "    }\n",
       "\n",
       "    .dataframe tbody tr th {\n",
       "        vertical-align: top;\n",
       "    }\n",
       "\n",
       "    .dataframe thead th {\n",
       "        text-align: right;\n",
       "    }\n",
       "</style>\n",
       "<table border=\"1\" class=\"dataframe\">\n",
       "  <thead>\n",
       "    <tr style=\"text-align: right;\">\n",
       "      <th></th>\n",
       "      <th>ID</th>\n",
       "      <th>Pred</th>\n",
       "      <th>Season</th>\n",
       "      <th>T1_TeamID</th>\n",
       "      <th>T2_TeamID</th>\n",
       "    </tr>\n",
       "  </thead>\n",
       "  <tbody>\n",
       "    <tr>\n",
       "      <th>0</th>\n",
       "      <td>2021_1101_1102</td>\n",
       "      <td>0.5</td>\n",
       "      <td>2021</td>\n",
       "      <td>1101</td>\n",
       "      <td>1102</td>\n",
       "    </tr>\n",
       "    <tr>\n",
       "      <th>1</th>\n",
       "      <td>2021_1101_1103</td>\n",
       "      <td>0.5</td>\n",
       "      <td>2021</td>\n",
       "      <td>1101</td>\n",
       "      <td>1103</td>\n",
       "    </tr>\n",
       "    <tr>\n",
       "      <th>2</th>\n",
       "      <td>2021_1101_1104</td>\n",
       "      <td>0.5</td>\n",
       "      <td>2021</td>\n",
       "      <td>1101</td>\n",
       "      <td>1104</td>\n",
       "    </tr>\n",
       "    <tr>\n",
       "      <th>3</th>\n",
       "      <td>2021_1101_1105</td>\n",
       "      <td>0.5</td>\n",
       "      <td>2021</td>\n",
       "      <td>1101</td>\n",
       "      <td>1105</td>\n",
       "    </tr>\n",
       "    <tr>\n",
       "      <th>4</th>\n",
       "      <td>2021_1101_1106</td>\n",
       "      <td>0.5</td>\n",
       "      <td>2021</td>\n",
       "      <td>1101</td>\n",
       "      <td>1106</td>\n",
       "    </tr>\n",
       "  </tbody>\n",
       "</table>\n",
       "</div>"
      ],
      "text/plain": [
       "               ID  Pred  Season  T1_TeamID  T2_TeamID\n",
       "0  2021_1101_1102   0.5    2021       1101       1102\n",
       "1  2021_1101_1103   0.5    2021       1101       1103\n",
       "2  2021_1101_1104   0.5    2021       1101       1104\n",
       "3  2021_1101_1105   0.5    2021       1101       1105\n",
       "4  2021_1101_1106   0.5    2021       1101       1106"
      ]
     },
     "execution_count": 58,
     "metadata": {},
     "output_type": "execute_result"
    }
   ],
   "source": [
    "\n",
    "# sub[\"Season\"] = 2018\n",
    "# sub[\"T1_TeamID\"] = sub[\"ID\"].apply(lambda x: x[5:9]).astype(int)\n",
    "# sub[\"T2_TeamID\"] = sub[\"ID\"].apply(lambda x: x[10:14]).astype(int)\n",
    "# sub.head()\n",
    "\n",
    "sub = pd.read_csv(DATA_PATH + \"SampleSubmissionStage1.csv\")\n",
    "sub['Season'] = sub['ID'].apply(lambda x: int(x.split('_')[0]))\n",
    "sub[\"T1_TeamID\"] = sub['ID'].apply(lambda x: int(x.split('_')[1]))\n",
    "sub[\"T2_TeamID\"] = sub['ID'].apply(lambda x: int(x.split('_')[2]))\n",
    "sub.head()\n"
   ]
  },
  {
   "cell_type": "code",
   "execution_count": 59,
   "metadata": {
    "_uuid": "861d6c4c12a094804f9cf0ea2c14c0c5136d164c",
    "execution": {
     "iopub.execute_input": "2023-03-14T23:51:35.032673Z",
     "iopub.status.busy": "2023-03-14T23:51:35.032428Z",
     "iopub.status.idle": "2023-03-14T23:51:35.264751Z",
     "shell.execute_reply": "2023-03-14T23:51:35.263675Z",
     "shell.execute_reply.started": "2023-03-14T23:51:35.032612Z"
    }
   },
   "outputs": [
    {
     "data": {
      "text/html": [
       "<div>\n",
       "<style scoped>\n",
       "    .dataframe tbody tr th:only-of-type {\n",
       "        vertical-align: middle;\n",
       "    }\n",
       "\n",
       "    .dataframe tbody tr th {\n",
       "        vertical-align: top;\n",
       "    }\n",
       "\n",
       "    .dataframe thead th {\n",
       "        text-align: right;\n",
       "    }\n",
       "</style>\n",
       "<table border=\"1\" class=\"dataframe\">\n",
       "  <thead>\n",
       "    <tr style=\"text-align: right;\">\n",
       "      <th></th>\n",
       "      <th>ID</th>\n",
       "      <th>Pred</th>\n",
       "      <th>Season</th>\n",
       "      <th>T1_TeamID</th>\n",
       "      <th>T2_TeamID</th>\n",
       "      <th>T1_FGMmean</th>\n",
       "      <th>T1_FGAmean</th>\n",
       "      <th>T1_FGM3mean</th>\n",
       "      <th>T1_FGA3mean</th>\n",
       "      <th>T1_ORmean</th>\n",
       "      <th>...</th>\n",
       "      <th>T2_opponent_Stlmean</th>\n",
       "      <th>T2_opponent_Blkmean</th>\n",
       "      <th>T2_PointDiffmean</th>\n",
       "      <th>T1_quality</th>\n",
       "      <th>T2_quality</th>\n",
       "      <th>T1_seed</th>\n",
       "      <th>T2_seed</th>\n",
       "      <th>T1_win_ratio_14d</th>\n",
       "      <th>T2_win_ratio_14d</th>\n",
       "      <th>Seed_diff</th>\n",
       "    </tr>\n",
       "  </thead>\n",
       "  <tbody>\n",
       "    <tr>\n",
       "      <th>0</th>\n",
       "      <td>2021_1101_1102</td>\n",
       "      <td>0.5</td>\n",
       "      <td>2021</td>\n",
       "      <td>1101</td>\n",
       "      <td>1102</td>\n",
       "      <td>27.173913</td>\n",
       "      <td>59.043478</td>\n",
       "      <td>8.130435</td>\n",
       "      <td>21.565217</td>\n",
       "      <td>9.608696</td>\n",
       "      <td>...</td>\n",
       "      <td>6.000000</td>\n",
       "      <td>2.120000</td>\n",
       "      <td>-13.200000</td>\n",
       "      <td>-1.513973e+15</td>\n",
       "      <td>NaN</td>\n",
       "      <td>14.0</td>\n",
       "      <td>NaN</td>\n",
       "      <td>1.0</td>\n",
       "      <td>0.000000</td>\n",
       "      <td>NaN</td>\n",
       "    </tr>\n",
       "    <tr>\n",
       "      <th>1</th>\n",
       "      <td>2021_1101_1103</td>\n",
       "      <td>0.5</td>\n",
       "      <td>2021</td>\n",
       "      <td>1101</td>\n",
       "      <td>1103</td>\n",
       "      <td>27.173913</td>\n",
       "      <td>59.043478</td>\n",
       "      <td>8.130435</td>\n",
       "      <td>21.565217</td>\n",
       "      <td>9.608696</td>\n",
       "      <td>...</td>\n",
       "      <td>5.714286</td>\n",
       "      <td>2.428571</td>\n",
       "      <td>3.809524</td>\n",
       "      <td>-1.513973e+15</td>\n",
       "      <td>NaN</td>\n",
       "      <td>14.0</td>\n",
       "      <td>NaN</td>\n",
       "      <td>1.0</td>\n",
       "      <td>0.333333</td>\n",
       "      <td>NaN</td>\n",
       "    </tr>\n",
       "    <tr>\n",
       "      <th>2</th>\n",
       "      <td>2021_1101_1104</td>\n",
       "      <td>0.5</td>\n",
       "      <td>2021</td>\n",
       "      <td>1101</td>\n",
       "      <td>1104</td>\n",
       "      <td>27.173913</td>\n",
       "      <td>59.043478</td>\n",
       "      <td>8.130435</td>\n",
       "      <td>21.565217</td>\n",
       "      <td>9.608696</td>\n",
       "      <td>...</td>\n",
       "      <td>8.000000</td>\n",
       "      <td>4.833333</td>\n",
       "      <td>9.800000</td>\n",
       "      <td>-1.513973e+15</td>\n",
       "      <td>2.307394e+15</td>\n",
       "      <td>14.0</td>\n",
       "      <td>2.0</td>\n",
       "      <td>1.0</td>\n",
       "      <td>1.000000</td>\n",
       "      <td>12.0</td>\n",
       "    </tr>\n",
       "    <tr>\n",
       "      <th>3</th>\n",
       "      <td>2021_1101_1105</td>\n",
       "      <td>0.5</td>\n",
       "      <td>2021</td>\n",
       "      <td>1101</td>\n",
       "      <td>1105</td>\n",
       "      <td>27.173913</td>\n",
       "      <td>59.043478</td>\n",
       "      <td>8.130435</td>\n",
       "      <td>21.565217</td>\n",
       "      <td>9.608696</td>\n",
       "      <td>...</td>\n",
       "      <td>8.066667</td>\n",
       "      <td>2.666667</td>\n",
       "      <td>-3.866667</td>\n",
       "      <td>-1.513973e+15</td>\n",
       "      <td>NaN</td>\n",
       "      <td>14.0</td>\n",
       "      <td>NaN</td>\n",
       "      <td>1.0</td>\n",
       "      <td>0.000000</td>\n",
       "      <td>NaN</td>\n",
       "    </tr>\n",
       "    <tr>\n",
       "      <th>4</th>\n",
       "      <td>2021_1101_1106</td>\n",
       "      <td>0.5</td>\n",
       "      <td>2021</td>\n",
       "      <td>1101</td>\n",
       "      <td>1106</td>\n",
       "      <td>27.173913</td>\n",
       "      <td>59.043478</td>\n",
       "      <td>8.130435</td>\n",
       "      <td>21.565217</td>\n",
       "      <td>9.608696</td>\n",
       "      <td>...</td>\n",
       "      <td>7.722222</td>\n",
       "      <td>4.166667</td>\n",
       "      <td>-7.333333</td>\n",
       "      <td>-1.513973e+15</td>\n",
       "      <td>NaN</td>\n",
       "      <td>14.0</td>\n",
       "      <td>NaN</td>\n",
       "      <td>1.0</td>\n",
       "      <td>0.000000</td>\n",
       "      <td>NaN</td>\n",
       "    </tr>\n",
       "  </tbody>\n",
       "</table>\n",
       "<p>5 rows × 50 columns</p>\n",
       "</div>"
      ],
      "text/plain": [
       "               ID  Pred  Season  T1_TeamID  T2_TeamID  T1_FGMmean  T1_FGAmean  \\\n",
       "0  2021_1101_1102   0.5    2021       1101       1102   27.173913   59.043478   \n",
       "1  2021_1101_1103   0.5    2021       1101       1103   27.173913   59.043478   \n",
       "2  2021_1101_1104   0.5    2021       1101       1104   27.173913   59.043478   \n",
       "3  2021_1101_1105   0.5    2021       1101       1105   27.173913   59.043478   \n",
       "4  2021_1101_1106   0.5    2021       1101       1106   27.173913   59.043478   \n",
       "\n",
       "   T1_FGM3mean  T1_FGA3mean  T1_ORmean  ...  T2_opponent_Stlmean  \\\n",
       "0     8.130435    21.565217   9.608696  ...             6.000000   \n",
       "1     8.130435    21.565217   9.608696  ...             5.714286   \n",
       "2     8.130435    21.565217   9.608696  ...             8.000000   \n",
       "3     8.130435    21.565217   9.608696  ...             8.066667   \n",
       "4     8.130435    21.565217   9.608696  ...             7.722222   \n",
       "\n",
       "   T2_opponent_Blkmean  T2_PointDiffmean    T1_quality    T2_quality  T1_seed  \\\n",
       "0             2.120000        -13.200000 -1.513973e+15           NaN     14.0   \n",
       "1             2.428571          3.809524 -1.513973e+15           NaN     14.0   \n",
       "2             4.833333          9.800000 -1.513973e+15  2.307394e+15     14.0   \n",
       "3             2.666667         -3.866667 -1.513973e+15           NaN     14.0   \n",
       "4             4.166667         -7.333333 -1.513973e+15           NaN     14.0   \n",
       "\n",
       "   T2_seed  T1_win_ratio_14d  T2_win_ratio_14d  Seed_diff  \n",
       "0      NaN               1.0          0.000000        NaN  \n",
       "1      NaN               1.0          0.333333        NaN  \n",
       "2      2.0               1.0          1.000000       12.0  \n",
       "3      NaN               1.0          0.000000        NaN  \n",
       "4      NaN               1.0          0.000000        NaN  \n",
       "\n",
       "[5 rows x 50 columns]"
      ]
     },
     "execution_count": 59,
     "metadata": {},
     "output_type": "execute_result"
    }
   ],
   "source": [
    "sub = pd.merge(sub, season_statistics_T1, on = ['Season', 'T1_TeamID'], how = 'left')\n",
    "sub = pd.merge(sub, season_statistics_T2, on = ['Season', 'T2_TeamID'], how = 'left')\n",
    "\n",
    "sub = pd.merge(sub, glm_quality_T1, on = ['Season', 'T1_TeamID'], how = 'left')\n",
    "\n",
    "sub = pd.merge(sub, glm_quality_T2, on = ['Season', 'T2_TeamID'], how = 'left')\n",
    "\n",
    "sub = pd.merge(sub, seeds_T1, on = ['Season', 'T1_TeamID'], how = 'left')\n",
    "sub = pd.merge(sub, seeds_T2, on = ['Season', 'T2_TeamID'], how = 'left')\n",
    "sub = pd.merge(sub, last14days_stats_T1, on = ['Season', 'T1_TeamID'], how = 'left')\n",
    "sub = pd.merge(sub, last14days_stats_T2, on = ['Season', 'T2_TeamID'], how = 'left')\n",
    "\n",
    "sub[\"Seed_diff\"] = sub[\"T1_seed\"] - sub[\"T2_seed\"]\n",
    "\n",
    "sub.head()"
   ]
  },
  {
   "cell_type": "code",
   "execution_count": 60,
   "metadata": {
    "_uuid": "cb1627abe53f9db9fdb5be2e45a739e0f78ede83",
    "execution": {
     "iopub.execute_input": "2023-03-14T23:51:35.276465Z",
     "iopub.status.busy": "2023-03-14T23:51:35.276239Z",
     "iopub.status.idle": "2023-03-14T23:51:35.352866Z",
     "shell.execute_reply": "2023-03-14T23:51:35.351978Z",
     "shell.execute_reply.started": "2023-03-14T23:51:35.276409Z"
    }
   },
   "outputs": [],
   "source": [
    "Xsub = sub[features].values\n",
    "dtest = xgb.DMatrix(Xsub)"
   ]
  },
  {
   "cell_type": "code",
   "execution_count": 61,
   "metadata": {
    "_uuid": "a700a993c601d9692f2374f11c8eadb234979086",
    "execution": {
     "iopub.execute_input": "2023-03-14T23:51:35.354128Z",
     "iopub.status.busy": "2023-03-14T23:51:35.353898Z",
     "iopub.status.idle": "2023-03-14T23:51:39.125281Z",
     "shell.execute_reply": "2023-03-14T23:51:39.124690Z",
     "shell.execute_reply.started": "2023-03-14T23:51:35.354081Z"
    }
   },
   "outputs": [
    {
     "name": "stdout",
     "output_type": "stream",
     "text": [
      "Fold repeater 0\n"
     ]
    },
    {
     "name": "stderr",
     "output_type": "stream",
     "text": [
      "/opt/anaconda3/lib/python3.12/site-packages/xgboost/core.py:158: UserWarning: [18:49:31] WARNING: /Users/runner/work/xgboost/xgboost/src/learner.cc:740: \n",
      "Parameters: { \"silent\" } are not used.\n",
      "\n",
      "  warnings.warn(smsg, UserWarning)\n"
     ]
    },
    {
     "name": "stdout",
     "output_type": "stream",
     "text": [
      "Fold repeater 1\n",
      "Fold repeater 2\n"
     ]
    },
    {
     "name": "stderr",
     "output_type": "stream",
     "text": [
      "/opt/anaconda3/lib/python3.12/site-packages/xgboost/core.py:158: UserWarning: [18:49:32] WARNING: /Users/runner/work/xgboost/xgboost/src/learner.cc:740: \n",
      "Parameters: { \"silent\" } are not used.\n",
      "\n",
      "  warnings.warn(smsg, UserWarning)\n"
     ]
    }
   ],
   "source": [
    "sub_models = []\n",
    "for i in range(repeat_cv):\n",
    "    print(f\"Fold repeater {i}\")\n",
    "    sub_models.append(\n",
    "        xgb.train(\n",
    "          params = param,\n",
    "          dtrain = dtrain,\n",
    "          num_boost_round = int(iteration_counts[i] * 1.05),\n",
    "          verbose_eval = 50\n",
    "        )\n",
    "    )"
   ]
  },
  {
   "cell_type": "code",
   "execution_count": 82,
   "metadata": {
    "_uuid": "01757a38a0ad222dec31bf062ceee7cfb61a6b16",
    "execution": {
     "iopub.execute_input": "2023-03-14T23:51:39.126405Z",
     "iopub.status.busy": "2023-03-14T23:51:39.126124Z",
     "iopub.status.idle": "2023-03-14T23:51:45.625662Z",
     "shell.execute_reply": "2023-03-14T23:51:45.624777Z",
     "shell.execute_reply.started": "2023-03-14T23:51:39.126369Z"
    }
   },
   "outputs": [],
   "source": [
    "sub_preds = []\n",
    "for i in range(repeat_cv):\n",
    "    sub_preds.append(np.clip(spline_model[i](np.clip(sub_models[i].predict(dtest),-30,30)),0.025,0.975))\n",
    "    \n",
    "sub[\"Pred\"] = pd.DataFrame(sub_preds).mean(axis=0)\n",
    "\n",
    "sub.loc[(sub.T1_seed==1) & (sub.T2_seed==16), 'Pred'] = 1.0\n",
    "sub.loc[(sub.T1_seed==2) & (sub.T2_seed==15), 'Pred'] = 1.0\n",
    "sub.loc[(sub.T1_seed==3) & (sub.T2_seed==14), 'Pred'] = 1.0\n",
    "sub.loc[(sub.T1_seed==4) & (sub.T2_seed==13), 'Pred'] = 1.0\n",
    "sub.loc[(sub.T1_seed==16) & (sub.T2_seed==1), 'Pred'] = 0.0\n",
    "sub.loc[(sub.T1_seed==15) & (sub.T2_seed==2), 'Pred'] = 0.0\n",
    "sub.loc[(sub.T1_seed==14) & (sub.T2_seed==3), 'Pred'] = 0.0\n",
    "sub.loc[(sub.T1_seed==13) & (sub.T2_seed==4), 'Pred'] = 0.0\n",
    "\n",
    "sub[['ID','Pred']].to_csv(\"submission.csv\", index = None)"
   ]
  },
  {
   "cell_type": "code",
   "execution_count": 84,
   "metadata": {
    "_uuid": "ce959e232dd5c58f5748e74e7a5fe0c5d2d6ef6f",
    "execution": {
     "iopub.execute_input": "2023-03-14T23:51:45.673524Z",
     "iopub.status.busy": "2023-03-14T23:51:45.673309Z",
     "iopub.status.idle": "2023-03-14T23:51:45.678854Z",
     "shell.execute_reply": "2023-03-14T23:51:45.677920Z",
     "shell.execute_reply.started": "2023-03-14T23:51:45.673479Z"
    }
   },
   "outputs": [
    {
     "data": {
      "text/plain": [
       "\"\\ntourney_results2018 = pd.read_csv('../input/NCAA_2018_Solution_Womens.csv')\\ntourney_results2018 = tourney_results2018[tourney_results2018.Pred!=-1].reset_index(drop=True)\\ntourney_results2018.columns = ['ID', 'label']\\ntourney_results2018 = pd.merge(tourney_results2018, sub, on = 'ID')\\nlog_loss(tourney_results2018.label, tourney_results2018.Pred)\\n\""
      ]
     },
     "execution_count": 84,
     "metadata": {},
     "output_type": "execute_result"
    }
   ],
   "source": [
    "\"\"\"\n",
    "tourney_results2018 = pd.read_csv('../input/NCAA_2018_Solution_Womens.csv')\n",
    "tourney_results2018 = tourney_results2018[tourney_results2018.Pred!=-1].reset_index(drop=True)\n",
    "tourney_results2018.columns = ['ID', 'label']\n",
    "tourney_results2018 = pd.merge(tourney_results2018, sub, on = 'ID')\n",
    "log_loss(tourney_results2018.label, tourney_results2018.Pred)\n",
    "\"\"\""
   ]
  }
 ],
 "metadata": {
  "kernelspec": {
   "display_name": "base",
   "language": "python",
   "name": "python3"
  },
  "language_info": {
   "codemirror_mode": {
    "name": "ipython",
    "version": 3
   },
   "file_extension": ".py",
   "mimetype": "text/x-python",
   "name": "python",
   "nbconvert_exporter": "python",
   "pygments_lexer": "ipython3",
   "version": "3.12.4"
  }
 },
 "nbformat": 4,
 "nbformat_minor": 4
}
