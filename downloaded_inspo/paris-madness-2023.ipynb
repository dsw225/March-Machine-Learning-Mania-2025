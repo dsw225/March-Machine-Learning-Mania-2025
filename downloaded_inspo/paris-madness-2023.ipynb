{
 "cells": [
  {
   "cell_type": "code",
   "execution_count": null,
   "metadata": {
    "_cell_guid": "b1076dfc-b9ad-4769-8c92-a6c4dae69d19",
    "_uuid": "8f2839f25d086af736a60e9eeb907d3b93b6e0e5",
    "execution": {
     "iopub.execute_input": "2023-03-14T23:50:07.234100Z",
     "iopub.status.busy": "2023-03-14T23:50:07.233560Z",
     "iopub.status.idle": "2023-03-14T23:50:08.983773Z",
     "shell.execute_reply": "2023-03-14T23:50:08.983001Z",
     "shell.execute_reply.started": "2023-03-14T23:50:07.234039Z"
    }
   },
   "outputs": [],
   "source": [
    "import numpy as np\n",
    "import pandas as pd\n",
    "import os\n",
    "import xgboost as xgb\n",
    "from sklearn.model_selection import KFold\n",
    "from sklearn.metrics import log_loss\n",
    "from scipy.interpolate import UnivariateSpline\n",
    "import statsmodels.api as sm\n",
    "import matplotlib.pyplot as plt\n",
    "import collections\n",
    "\n",
    "# pd.set_option(\"display.max_column\", 999)\n",
    "# print(os.listdir(\"../input\"))"
   ]
  },
  {
   "cell_type": "markdown",
   "metadata": {
    "_uuid": "afe4811283fd6778ba3b67f2a469ab12b1b74c43"
   },
   "source": [
    "# Load the data!"
   ]
  },
  {
   "cell_type": "code",
   "execution_count": 1,
   "metadata": {
    "_cell_guid": "79c7e3d0-c299-4dcb-8224-4455121ee9b0",
    "_uuid": "d629ff2d2480ee46fbb7e2d37f6b5fab8052498a",
    "execution": {
     "iopub.execute_input": "2023-03-14T23:50:08.986686Z",
     "iopub.status.busy": "2023-03-14T23:50:08.986285Z",
     "iopub.status.idle": "2023-03-14T23:50:09.735321Z",
     "shell.execute_reply": "2023-03-14T23:50:09.734749Z",
     "shell.execute_reply.started": "2023-03-14T23:50:08.986623Z"
    }
   },
   "outputs": [],
   "source": [
    "# DATA_PATH = '../data/'\n",
    "\n",
    "# tourney_results = pd.concat([\n",
    "#     pd.read_csv(DATA_PATH + \"mens/MNCAATourneyDetailedResults.csv\"),\n",
    "#     pd.read_csv(DATA_PATH + \"womens/WNCAATourneyDetailedResults.csv\"),\n",
    "# ], ignore_index=True)\n",
    "\n",
    "# seeds = pd.concat([\n",
    "#     pd.read_csv(DATA_PATH + \"mens/MNCAATourneySeeds.csv\"),\n",
    "#     pd.read_csv(DATA_PATH + \"womens/WNCAATourneySeeds.csv\"),\n",
    "# ], ignore_index=True)\n",
    "\n",
    "# regular_results = pd.concat([\n",
    "#     pd.read_csv(DATA_PATH + \"mens/MRegularSeasonDetailedResults.csv\"),\n",
    "#     pd.read_csv(DATA_PATH + \"womens/WRegularSeasonDetailedResults.csv\"),\n",
    "# ], ignore_index=True)\n"
   ]
  },
  {
   "cell_type": "code",
   "execution_count": 2,
   "metadata": {
    "_uuid": "68268ded6cc4d6c7e7e7a2223f5d52f53249d4f8",
    "execution": {
     "iopub.execute_input": "2023-03-14T23:50:09.807940Z",
     "iopub.status.busy": "2023-03-14T23:50:09.807571Z",
     "iopub.status.idle": "2023-03-14T23:50:09.955555Z",
     "shell.execute_reply": "2023-03-14T23:50:09.954802Z",
     "shell.execute_reply.started": "2023-03-14T23:50:09.807888Z"
    }
   },
   "outputs": [],
   "source": [
    "# regular_results.groupby('Season').mean()"
   ]
  },
  {
   "cell_type": "code",
   "execution_count": 3,
   "metadata": {
    "_uuid": "ddb880d395bdf960a6fac399590048a62b00e0a1",
    "execution": {
     "iopub.execute_input": "2023-03-14T23:50:09.957146Z",
     "iopub.status.busy": "2023-03-14T23:50:09.956746Z",
     "iopub.status.idle": "2023-03-14T23:50:10.004165Z",
     "shell.execute_reply": "2023-03-14T23:50:10.003210Z",
     "shell.execute_reply.started": "2023-03-14T23:50:09.957095Z"
    }
   },
   "outputs": [],
   "source": [
    "# tourney_results.groupby('Season').mean()"
   ]
  },
  {
   "cell_type": "code",
   "execution_count": 4,
   "metadata": {
    "_uuid": "9f0b89012882ce8033f9c70e8e0ee450b6dd52c2",
    "execution": {
     "iopub.execute_input": "2023-03-14T23:50:10.048984Z",
     "iopub.status.busy": "2023-03-14T23:50:10.048768Z",
     "iopub.status.idle": "2023-03-14T23:50:10.060170Z",
     "shell.execute_reply": "2023-03-14T23:50:10.059169Z",
     "shell.execute_reply.started": "2023-03-14T23:50:10.048935Z"
    }
   },
   "outputs": [],
   "source": [
    "# all(regular_results.columns == tourney_results.columns)"
   ]
  },
  {
   "cell_type": "markdown",
   "metadata": {
    "_uuid": "20a1490f4d5e0c7916ed661855497604980d2925"
   },
   "source": [
    "# Data preparation!"
   ]
  },
  {
   "cell_type": "code",
   "execution_count": 5,
   "metadata": {
    "_uuid": "c64aa4973491277a0e49828b1c0a1a3c9bf076cd",
    "execution": {
     "iopub.execute_input": "2023-03-14T23:50:10.074173Z",
     "iopub.status.busy": "2023-03-14T23:50:10.073792Z",
     "iopub.status.idle": "2023-03-14T23:50:10.103484Z",
     "shell.execute_reply": "2023-03-14T23:50:10.102947Z",
     "shell.execute_reply.started": "2023-03-14T23:50:10.074126Z"
    }
   },
   "outputs": [],
   "source": [
    "# regular_results_swap = regular_results[[\n",
    "#     'Season', 'DayNum', 'LTeamID', 'LScore', 'WTeamID', 'WScore', 'WLoc', 'NumOT', \n",
    "#     'LFGM', 'LFGA', 'LFGM3', 'LFGA3', 'LFTM', 'LFTA', 'LOR', 'LDR', 'LAst', 'LTO', 'LStl', 'LBlk', 'LPF', \n",
    "#     'WFGM', 'WFGA', 'WFGM3', 'WFGA3', 'WFTM', 'WFTA', 'WOR', 'WDR', 'WAst', 'WTO', 'WStl', 'WBlk', 'WPF']]"
   ]
  },
  {
   "cell_type": "code",
   "execution_count": 6,
   "metadata": {
    "_uuid": "5e1cb14edd0d7c3bda4293fce6de17b9e9c09670",
    "execution": {
     "iopub.execute_input": "2023-03-14T23:50:10.163110Z",
     "iopub.status.busy": "2023-03-14T23:50:10.162796Z",
     "iopub.status.idle": "2023-03-14T23:50:10.273663Z",
     "shell.execute_reply": "2023-03-14T23:50:10.272772Z",
     "shell.execute_reply.started": "2023-03-14T23:50:10.163049Z"
    }
   },
   "outputs": [],
   "source": [
    "# regular_results_swap.loc[regular_results['WLoc'] == 'H', 'WLoc'] = 'A'\n",
    "# regular_results_swap.loc[regular_results['WLoc'] == 'A', 'WLoc'] = 'H'\n",
    "# regular_results.columns.values[6] = 'location'\n",
    "# regular_results_swap.columns.values[6] = 'location'"
   ]
  },
  {
   "cell_type": "code",
   "execution_count": 7,
   "metadata": {
    "_uuid": "7d62870443808d016ec18626c504ef1ab5a2ea5b",
    "execution": {
     "iopub.execute_input": "2023-03-14T23:50:10.321710Z",
     "iopub.status.busy": "2023-03-14T23:50:10.321474Z",
     "iopub.status.idle": "2023-03-14T23:50:10.332928Z",
     "shell.execute_reply": "2023-03-14T23:50:10.331798Z",
     "shell.execute_reply.started": "2023-03-14T23:50:10.321657Z"
    }
   },
   "outputs": [],
   "source": [
    "# regular_results.columns = [x.replace('W','T1_').replace('L','T2_') for x in list(regular_results.columns)]\n",
    "# regular_results_swap.columns = [x.replace('L','T1_').replace('W','T2_') for x in list(regular_results.columns)]"
   ]
  },
  {
   "cell_type": "code",
   "execution_count": 8,
   "metadata": {
    "_uuid": "29b55b8ce793fce07e138a37650d145c5c535522",
    "execution": {
     "iopub.execute_input": "2023-03-14T23:50:10.396237Z",
     "iopub.status.busy": "2023-03-14T23:50:10.395941Z",
     "iopub.status.idle": "2023-03-14T23:50:10.696741Z",
     "shell.execute_reply": "2023-03-14T23:50:10.696148Z",
     "shell.execute_reply.started": "2023-03-14T23:50:10.396166Z"
    }
   },
   "outputs": [],
   "source": [
    "# regular_data = pd.concat([regular_results, regular_results_swap]).sort_index().reset_index(drop = True)"
   ]
  },
  {
   "cell_type": "code",
   "execution_count": 9,
   "metadata": {
    "_uuid": "512dcd34de61fd5e61cd08eccc1c9560362f4178",
    "execution": {
     "iopub.execute_input": "2023-03-14T23:50:10.729373Z",
     "iopub.status.busy": "2023-03-14T23:50:10.728869Z",
     "iopub.status.idle": "2023-03-14T23:50:11.189578Z",
     "shell.execute_reply": "2023-03-14T23:50:11.188462Z",
     "shell.execute_reply.started": "2023-03-14T23:50:10.729322Z"
    }
   },
   "outputs": [
    {
     "ename": "NameError",
     "evalue": "name 'pd' is not defined",
     "output_type": "error",
     "traceback": [
      "\u001b[0;31m---------------------------------------------------------------------------\u001b[0m",
      "\u001b[0;31mNameError\u001b[0m                                 Traceback (most recent call last)",
      "Cell \u001b[0;32mIn[9], line 8\u001b[0m\n\u001b[1;32m      1\u001b[0m \u001b[38;5;124;03m\"\"\"\u001b[39;00m\n\u001b[1;32m      2\u001b[0m \u001b[38;5;124;03mtourney_results = pd.read_csv('../input/WNCAATourneyDetailedResults.csv')\u001b[39;00m\n\u001b[1;32m      3\u001b[0m \u001b[38;5;124;03mseeds = pd.read_csv('../input/WNCAATourneySeeds.csv')\u001b[39;00m\n\u001b[1;32m      4\u001b[0m \u001b[38;5;124;03mregular_results = pd.read_csv('../input/WRegularSeasonDetailedResults.csv')\u001b[39;00m\n\u001b[1;32m      5\u001b[0m \u001b[38;5;124;03m\"\"\"\u001b[39;00m\n\u001b[1;32m      6\u001b[0m DATA_PATH \u001b[38;5;241m=\u001b[39m \u001b[38;5;124m'\u001b[39m\u001b[38;5;124m../data/\u001b[39m\u001b[38;5;124m'\u001b[39m\n\u001b[0;32m----> 8\u001b[0m tourney_results \u001b[38;5;241m=\u001b[39m pd\u001b[38;5;241m.\u001b[39mconcat([\n\u001b[1;32m      9\u001b[0m     pd\u001b[38;5;241m.\u001b[39mread_csv(DATA_PATH \u001b[38;5;241m+\u001b[39m \u001b[38;5;124m\"\u001b[39m\u001b[38;5;124mmens/MNCAATourneyDetailedResults.csv\u001b[39m\u001b[38;5;124m\"\u001b[39m),\n\u001b[1;32m     10\u001b[0m     \u001b[38;5;66;03m# pd.read_csv(DATA_PATH + \"womens/WNCAATourneyDetailedResults.csv\"),\u001b[39;00m\n\u001b[1;32m     11\u001b[0m ], ignore_index\u001b[38;5;241m=\u001b[39m\u001b[38;5;28;01mTrue\u001b[39;00m)\n\u001b[1;32m     13\u001b[0m seeds \u001b[38;5;241m=\u001b[39m pd\u001b[38;5;241m.\u001b[39mconcat([\n\u001b[1;32m     14\u001b[0m     pd\u001b[38;5;241m.\u001b[39mread_csv(DATA_PATH \u001b[38;5;241m+\u001b[39m \u001b[38;5;124m\"\u001b[39m\u001b[38;5;124mmens/MNCAATourneySeeds.csv\u001b[39m\u001b[38;5;124m\"\u001b[39m),\n\u001b[1;32m     15\u001b[0m     \u001b[38;5;66;03m# pd.read_csv(DATA_PATH + \"womens/WNCAATourneySeeds.csv\"),\u001b[39;00m\n\u001b[1;32m     16\u001b[0m ], ignore_index\u001b[38;5;241m=\u001b[39m\u001b[38;5;28;01mTrue\u001b[39;00m)\n\u001b[1;32m     18\u001b[0m regular_results \u001b[38;5;241m=\u001b[39m pd\u001b[38;5;241m.\u001b[39mconcat([\n\u001b[1;32m     19\u001b[0m     pd\u001b[38;5;241m.\u001b[39mread_csv(DATA_PATH \u001b[38;5;241m+\u001b[39m \u001b[38;5;124m\"\u001b[39m\u001b[38;5;124mmens/MRegularSeasonDetailedResults.csv\u001b[39m\u001b[38;5;124m\"\u001b[39m),\n\u001b[1;32m     20\u001b[0m     \u001b[38;5;66;03m# pd.read_csv(DATA_PATH + \"womens/WRegularSeasonDetailedResults.csv\"),\u001b[39;00m\n\u001b[1;32m     21\u001b[0m ], ignore_index\u001b[38;5;241m=\u001b[39m\u001b[38;5;28;01mTrue\u001b[39;00m)\n",
      "\u001b[0;31mNameError\u001b[0m: name 'pd' is not defined"
     ]
    }
   ],
   "source": [
    "\"\"\"\n",
    "tourney_results = pd.read_csv('../input/WNCAATourneyDetailedResults.csv')\n",
    "seeds = pd.read_csv('../input/WNCAATourneySeeds.csv')\n",
    "regular_results = pd.read_csv('../input/WRegularSeasonDetailedResults.csv')\n",
    "\"\"\"\n",
    "DATA_PATH = '../data/'\n",
    "\n",
    "tourney_results = pd.concat([\n",
    "    pd.read_csv(DATA_PATH + \"mens/MNCAATourneyDetailedResults.csv\"),\n",
    "    # pd.read_csv(DATA_PATH + \"womens/WNCAATourneyDetailedResults.csv\"),\n",
    "], ignore_index=True)\n",
    "\n",
    "seeds = pd.concat([\n",
    "    pd.read_csv(DATA_PATH + \"mens/MNCAATourneySeeds.csv\"),\n",
    "    # pd.read_csv(DATA_PATH + \"womens/WNCAATourneySeeds.csv\"),\n",
    "], ignore_index=True)\n",
    "\n",
    "regular_results = pd.concat([\n",
    "    pd.read_csv(DATA_PATH + \"mens/MRegularSeasonDetailedResults.csv\"),\n",
    "    # pd.read_csv(DATA_PATH + \"womens/WRegularSeasonDetailedResults.csv\"),\n",
    "], ignore_index=True)\n",
    "\n",
    "\n",
    "def prepare_data(df):\n",
    "    dfswap = df[['Season', 'DayNum', 'LTeamID', 'LScore', 'WTeamID', 'WScore', 'WLoc', 'NumOT', \n",
    "    'LFGM', 'LFGA', 'LFGM3', 'LFGA3', 'LFTM', 'LFTA', 'LOR', 'LDR', 'LAst', 'LTO', 'LStl', 'LBlk', 'LPF', \n",
    "    'WFGM', 'WFGA', 'WFGM3', 'WFGA3', 'WFTM', 'WFTA', 'WOR', 'WDR', 'WAst', 'WTO', 'WStl', 'WBlk', 'WPF']]\n",
    "\n",
    "    dfswap.loc[df['WLoc'] == 'H', 'WLoc'] = 'A'\n",
    "    dfswap.loc[df['WLoc'] == 'A', 'WLoc'] = 'H'\n",
    "    df.columns.values[6] = 'location'\n",
    "    dfswap.columns.values[6] = 'location'    \n",
    "      \n",
    "    df.columns = [x.replace('W','T1_').replace('L','T2_') for x in list(df.columns)]\n",
    "    dfswap.columns = [x.replace('L','T1_').replace('W','T2_') for x in list(dfswap.columns)]\n",
    "\n",
    "    output = pd.concat([df, dfswap]).reset_index(drop=True)\n",
    "    output.loc[output.location=='N','location'] = '0'\n",
    "    output.loc[output.location=='H','location'] = '1'\n",
    "    output.loc[output.location=='A','location'] = '-1'\n",
    "    output.location = output.location.astype(int)\n",
    "    \n",
    "    output['PointDiff'] = output['T1_Score'] - output['T2_Score']\n",
    "    \n",
    "    return output"
   ]
  },
  {
   "cell_type": "code",
   "execution_count": null,
   "metadata": {
    "_uuid": "6a7bf779e16fe27aa89633ff78f89d452794aa84",
    "execution": {
     "iopub.execute_input": "2023-03-14T23:50:11.191620Z",
     "iopub.status.busy": "2023-03-14T23:50:11.191292Z",
     "iopub.status.idle": "2023-03-14T23:50:11.880609Z",
     "shell.execute_reply": "2023-03-14T23:50:11.880014Z",
     "shell.execute_reply.started": "2023-03-14T23:50:11.191559Z"
    }
   },
   "outputs": [],
   "source": [
    "regular_data = prepare_data(regular_results)\n",
    "tourney_data = prepare_data(tourney_results)"
   ]
  },
  {
   "cell_type": "markdown",
   "metadata": {
    "_uuid": "6dbbc08907e17be459f936ed59e6f50a6dade35c"
   },
   "source": [
    "# Feature engineering!"
   ]
  },
  {
   "cell_type": "code",
   "execution_count": null,
   "metadata": {
    "_uuid": "ca9f902b70fce0de0db21be2e9f047b233e4d65c",
    "execution": {
     "iopub.execute_input": "2023-03-14T23:50:11.970206Z",
     "iopub.status.busy": "2023-03-14T23:50:11.969968Z",
     "iopub.status.idle": "2023-03-14T23:50:11.980894Z",
     "shell.execute_reply": "2023-03-14T23:50:11.979383Z",
     "shell.execute_reply.started": "2023-03-14T23:50:11.970159Z"
    }
   },
   "outputs": [],
   "source": [
    "boxscore_cols = ['T1_Score', 'T2_Score', \n",
    "        'T1_FGM', 'T1_FGA', 'T1_FGM3', 'T1_FGA3', 'T1_FTM', 'T1_FTA', 'T1_OR', 'T1_DR', 'T1_Ast', 'T1_TO', 'T1_Stl', 'T1_Blk', 'T1_PF', \n",
    "        'T2_FGM', 'T2_FGA', 'T2_FGM3', 'T2_FGA3', 'T2_FTM', 'T2_FTA', 'T2_OR', 'T2_DR', 'T2_Ast', 'T2_TO', 'T2_Stl', 'T2_Blk', 'T2_PF', \n",
    "        'PointDiff']\n",
    "\n",
    "boxscore_cols = [\n",
    "        'T1_FGM', 'T1_FGA', 'T1_FGM3', 'T1_FGA3', 'T1_OR', 'T1_Ast', 'T1_TO', 'T1_Stl', 'T1_PF', \n",
    "        'T2_FGM', 'T2_FGA', 'T2_FGM3', 'T2_FGA3', 'T2_OR', 'T2_Ast', 'T2_TO', 'T2_Stl', 'T2_Blk',  \n",
    "        'PointDiff']\n",
    "\n",
    "funcs = [np.mean]"
   ]
  },
  {
   "cell_type": "code",
   "execution_count": null,
   "metadata": {
    "_uuid": "cf3b9993b75751d5a380afa30b0e9519cf18e639",
    "execution": {
     "iopub.execute_input": "2023-03-14T23:50:11.985138Z",
     "iopub.status.busy": "2023-03-14T23:50:11.984838Z",
     "iopub.status.idle": "2023-03-14T23:50:12.283559Z",
     "shell.execute_reply": "2023-03-14T23:50:12.282911Z",
     "shell.execute_reply.started": "2023-03-14T23:50:11.985082Z"
    },
    "scrolled": true
   },
   "outputs": [
    {
     "name": "stderr",
     "output_type": "stream",
     "text": [
      "/var/folders/ml/c9m4gk2d5j1gjzt21jgb5d3r0000gn/T/ipykernel_60275/1527646356.py:1: FutureWarning: The provided callable <function mean at 0x104f37d80> is currently using SeriesGroupBy.mean. In a future version of pandas, the provided callable will be used directly. To keep current behavior pass the string \"mean\" instead.\n",
      "  season_statistics = regular_data.groupby([\"Season\", 'T1_TeamID'])[boxscore_cols].agg(funcs)\n",
      "/var/folders/ml/c9m4gk2d5j1gjzt21jgb5d3r0000gn/T/ipykernel_60275/1527646356.py:2: FutureWarning: The provided callable <function mean at 0x104f37d80> is currently using SeriesGroupBy.mean. In a future version of pandas, the provided callable will be used directly. To keep current behavior pass the string \"mean\" instead.\n",
      "  season_statistics = regular_data.groupby([\"Season\", 'T1_TeamID'])[boxscore_cols].agg(funcs).reset_index()\n"
     ]
    }
   ],
   "source": [
    "season_statistics = regular_data.groupby([\"Season\", 'T1_TeamID'])[boxscore_cols].agg(funcs)\n",
    "season_statistics = regular_data.groupby([\"Season\", 'T1_TeamID'])[boxscore_cols].agg(funcs).reset_index()\n",
    "season_statistics.columns = [''.join(col).strip() for col in season_statistics.columns.values]"
   ]
  },
  {
   "cell_type": "code",
   "execution_count": null,
   "metadata": {
    "_uuid": "bac629b77123932c43842a10dbbe1ac6e6d5871b",
    "execution": {
     "iopub.execute_input": "2023-03-14T23:50:12.523681Z",
     "iopub.status.busy": "2023-03-14T23:50:12.523324Z",
     "iopub.status.idle": "2023-03-14T23:50:12.531218Z",
     "shell.execute_reply": "2023-03-14T23:50:12.529847Z",
     "shell.execute_reply.started": "2023-03-14T23:50:12.523614Z"
    }
   },
   "outputs": [],
   "source": [
    "season_statistics_T1 = season_statistics.copy()\n",
    "season_statistics_T2 = season_statistics.copy()\n",
    "\n",
    "season_statistics_T1.columns = [\"T1_\" + x.replace(\"T1_\",\"\").replace(\"T2_\",\"opponent_\") for x in list(season_statistics_T1.columns)]\n",
    "season_statistics_T2.columns = [\"T2_\" + x.replace(\"T1_\",\"\").replace(\"T2_\",\"opponent_\") for x in list(season_statistics_T2.columns)]\n",
    "season_statistics_T1.columns.values[0] = \"Season\"\n",
    "season_statistics_T2.columns.values[0] = \"Season\""
   ]
  },
  {
   "cell_type": "code",
   "execution_count": null,
   "metadata": {
    "_uuid": "632f6a9c61b60ed1ea391aa784589356a228c429",
    "execution": {
     "iopub.execute_input": "2023-03-14T23:50:12.614322Z",
     "iopub.status.busy": "2023-03-14T23:50:12.614098Z",
     "iopub.status.idle": "2023-03-14T23:50:12.626991Z",
     "shell.execute_reply": "2023-03-14T23:50:12.626259Z",
     "shell.execute_reply.started": "2023-03-14T23:50:12.614271Z"
    }
   },
   "outputs": [],
   "source": [
    "tourney_data = tourney_data[['Season', 'DayNum', 'T1_TeamID', 'T1_Score', 'T2_TeamID' ,'T2_Score']]"
   ]
  },
  {
   "cell_type": "code",
   "execution_count": null,
   "metadata": {
    "_uuid": "b695d847f457c01b16ca4649d5219fb326ee180e",
    "execution": {
     "iopub.execute_input": "2023-03-14T23:50:12.628255Z",
     "iopub.status.busy": "2023-03-14T23:50:12.628026Z",
     "iopub.status.idle": "2023-03-14T23:50:12.652413Z",
     "shell.execute_reply": "2023-03-14T23:50:12.651444Z",
     "shell.execute_reply.started": "2023-03-14T23:50:12.628209Z"
    }
   },
   "outputs": [],
   "source": [
    "tourney_data = pd.merge(tourney_data, season_statistics_T1, on = ['Season', 'T1_TeamID'], how = 'left')\n",
    "tourney_data = pd.merge(tourney_data, season_statistics_T2, on = ['Season', 'T2_TeamID'], how = 'left')"
   ]
  },
  {
   "cell_type": "code",
   "execution_count": null,
   "metadata": {
    "_uuid": "bbe5b07505a16c7fa38e486c11089dd68122ae56",
    "execution": {
     "iopub.execute_input": "2023-03-14T23:50:12.693564Z",
     "iopub.status.busy": "2023-03-14T23:50:12.693240Z",
     "iopub.status.idle": "2023-03-14T23:50:12.730248Z",
     "shell.execute_reply": "2023-03-14T23:50:12.728831Z",
     "shell.execute_reply.started": "2023-03-14T23:50:12.693507Z"
    }
   },
   "outputs": [],
   "source": [
    "last14days_stats_T1 = regular_data.loc[regular_data.DayNum>118].reset_index(drop=True)\n",
    "last14days_stats_T1['win'] = np.where(last14days_stats_T1['PointDiff']>0,1,0)\n",
    "last14days_stats_T1 = last14days_stats_T1.groupby(['Season','T1_TeamID'])['win'].mean().reset_index(name='T1_win_ratio_14d')\n",
    "\n",
    "last14days_stats_T2 = regular_data.loc[regular_data.DayNum>118].reset_index(drop=True)\n",
    "last14days_stats_T2['win'] = np.where(last14days_stats_T2['PointDiff']<0,1,0)\n",
    "last14days_stats_T2 = last14days_stats_T2.groupby(['Season','T2_TeamID'])['win'].mean().reset_index(name='T2_win_ratio_14d')"
   ]
  },
  {
   "cell_type": "code",
   "execution_count": null,
   "metadata": {
    "_uuid": "45043a5cdadb497bd284956908a8d6e7053d7f71",
    "execution": {
     "iopub.execute_input": "2023-03-14T23:50:12.732105Z",
     "iopub.status.busy": "2023-03-14T23:50:12.731485Z",
     "iopub.status.idle": "2023-03-14T23:50:12.748275Z",
     "shell.execute_reply": "2023-03-14T23:50:12.747071Z",
     "shell.execute_reply.started": "2023-03-14T23:50:12.732003Z"
    }
   },
   "outputs": [],
   "source": [
    "tourney_data = pd.merge(tourney_data, last14days_stats_T1, on = ['Season', 'T1_TeamID'], how = 'left')\n",
    "tourney_data = pd.merge(tourney_data, last14days_stats_T2, on = ['Season', 'T2_TeamID'], how = 'left')"
   ]
  },
  {
   "cell_type": "code",
   "execution_count": null,
   "metadata": {
    "_uuid": "0119bb397cea0028aeb4247034ef6096e738becf",
    "execution": {
     "iopub.execute_input": "2023-03-14T23:50:12.750237Z",
     "iopub.status.busy": "2023-03-14T23:50:12.749855Z",
     "iopub.status.idle": "2023-03-14T23:50:13.818472Z",
     "shell.execute_reply": "2023-03-14T23:50:13.817734Z",
     "shell.execute_reply.started": "2023-03-14T23:50:12.750121Z"
    }
   },
   "outputs": [
    {
     "data": {
      "text/plain": [
       "(12300, 5)"
      ]
     },
     "execution_count": 19,
     "metadata": {},
     "output_type": "execute_result"
    }
   ],
   "source": [
    "regular_season_effects = regular_data[['Season','T1_TeamID','T2_TeamID','PointDiff']].copy()\n",
    "regular_season_effects['T1_TeamID'] = regular_season_effects['T1_TeamID'].astype(str)\n",
    "regular_season_effects['T2_TeamID'] = regular_season_effects['T2_TeamID'].astype(str)\n",
    "regular_season_effects['win'] = np.where(regular_season_effects['PointDiff']>0,1,0)\n",
    "march_madness = pd.merge(seeds[['Season','TeamID']],seeds[['Season','TeamID']],on='Season')\n",
    "march_madness.columns = ['Season', 'T1_TeamID', 'T2_TeamID']\n",
    "march_madness.T1_TeamID = march_madness.T1_TeamID.astype(str)\n",
    "march_madness.T2_TeamID = march_madness.T2_TeamID.astype(str)\n",
    "regular_season_effects = pd.merge(regular_season_effects, march_madness, on = ['Season','T1_TeamID','T2_TeamID'])\n",
    "regular_season_effects.shape"
   ]
  },
  {
   "cell_type": "code",
   "execution_count": null,
   "metadata": {
    "_uuid": "4d9b04a51db542edb705c94ed145d90af2ad2f15",
    "execution": {
     "iopub.execute_input": "2023-03-14T23:50:13.833818Z",
     "iopub.status.busy": "2023-03-14T23:50:13.833547Z",
     "iopub.status.idle": "2023-03-14T23:50:13.839517Z",
     "shell.execute_reply": "2023-03-14T23:50:13.838540Z",
     "shell.execute_reply.started": "2023-03-14T23:50:13.833769Z"
    }
   },
   "outputs": [],
   "source": [
    "def team_quality(season):\n",
    "    formula = 'win~-1+T1_TeamID+T2_TeamID'\n",
    "    glm = sm.GLM.from_formula(formula=formula, \n",
    "                              data=regular_season_effects.loc[regular_season_effects.Season==season,:], \n",
    "                              family=sm.families.Binomial()).fit()\n",
    "    \n",
    "    quality = pd.DataFrame(glm.params).reset_index()\n",
    "    quality.columns = ['TeamID','quality']\n",
    "    quality['Season'] = season\n",
    "    #quality['quality'] = np.exp(quality['quality'])\n",
    "    quality = quality.loc[quality.TeamID.str.contains('T1_')].reset_index(drop=True)\n",
    "    quality['TeamID'] = quality['TeamID'].apply(lambda x: x[10:14]).astype(int)\n",
    "    return quality"
   ]
  },
  {
   "cell_type": "code",
   "execution_count": null,
   "metadata": {
    "execution": {
     "iopub.execute_input": "2023-03-14T23:50:13.841102Z",
     "iopub.status.busy": "2023-03-14T23:50:13.840674Z",
     "iopub.status.idle": "2023-03-14T23:50:16.627633Z",
     "shell.execute_reply": "2023-03-14T23:50:16.627058Z",
     "shell.execute_reply.started": "2023-03-14T23:50:13.840911Z"
    }
   },
   "outputs": [],
   "source": [
    "formula = 'win~-1+T1_TeamID+T2_TeamID'\n",
    "glm = sm.GLM.from_formula(formula=formula, \n",
    "                          data=regular_season_effects.loc[regular_season_effects.Season==2010,:], \n",
    "                          family=sm.families.Binomial()).fit()\n",
    "\n",
    "quality = pd.DataFrame(glm.params).reset_index()"
   ]
  },
  {
   "cell_type": "code",
   "execution_count": null,
   "metadata": {
    "execution": {
     "iopub.execute_input": "2023-03-14T23:50:16.639798Z",
     "iopub.status.busy": "2023-03-14T23:50:16.639254Z",
     "iopub.status.idle": "2023-03-14T23:50:16.644179Z",
     "shell.execute_reply": "2023-03-14T23:50:16.643545Z",
     "shell.execute_reply.started": "2023-03-14T23:50:16.639760Z"
    }
   },
   "outputs": [
    {
     "data": {
      "text/plain": [
       "7.38905609893065"
      ]
     },
     "execution_count": 22,
     "metadata": {},
     "output_type": "execute_result"
    }
   ],
   "source": [
    "np.exp(2)"
   ]
  },
  {
   "cell_type": "code",
   "execution_count": null,
   "metadata": {
    "_uuid": "d805268806a47d1af7d4d614809e883819847df9",
    "execution": {
     "iopub.execute_input": "2023-03-14T23:50:16.645554Z",
     "iopub.status.busy": "2023-03-14T23:50:16.645125Z",
     "iopub.status.idle": "2023-03-14T23:50:52.332118Z",
     "shell.execute_reply": "2023-03-14T23:50:52.331348Z",
     "shell.execute_reply.started": "2023-03-14T23:50:16.645514Z"
    }
   },
   "outputs": [
    {
     "name": "stderr",
     "output_type": "stream",
     "text": [
      "/opt/anaconda3/lib/python3.12/site-packages/statsmodels/genmod/families/links.py:198: RuntimeWarning: overflow encountered in exp\n",
      "  t = np.exp(-z)\n",
      "/opt/anaconda3/lib/python3.12/site-packages/statsmodels/genmod/families/links.py:198: RuntimeWarning: overflow encountered in exp\n",
      "  t = np.exp(-z)\n"
     ]
    }
   ],
   "source": [
    "glm_quality = pd.concat([team_quality(2010),\n",
    "                         team_quality(2011),\n",
    "                         team_quality(2012),\n",
    "                         team_quality(2013),\n",
    "                         team_quality(2014),\n",
    "                         team_quality(2015),\n",
    "                         team_quality(2016),\n",
    "                         team_quality(2017),\n",
    "                         team_quality(2018),\n",
    "                         team_quality(2019),\n",
    "                         ##team_quality(2020),\n",
    "                         team_quality(2021),\n",
    "                         team_quality(2022),\n",
    "                         team_quality(2023),\n",
    "                         team_quality(2024)\n",
    "                         ]).reset_index(drop=True)"
   ]
  },
  {
   "cell_type": "code",
   "execution_count": null,
   "metadata": {
    "_uuid": "b67f4e36dd77a6d7b781f33572e19c2a90e8f184",
    "execution": {
     "iopub.execute_input": "2023-03-14T23:50:52.347156Z",
     "iopub.status.busy": "2023-03-14T23:50:52.346759Z",
     "iopub.status.idle": "2023-03-14T23:50:52.354184Z",
     "shell.execute_reply": "2023-03-14T23:50:52.353601Z",
     "shell.execute_reply.started": "2023-03-14T23:50:52.347115Z"
    }
   },
   "outputs": [],
   "source": [
    "glm_quality_T1 = glm_quality.copy()\n",
    "glm_quality_T2 = glm_quality.copy()\n",
    "glm_quality_T1.columns = ['T1_TeamID','T1_quality','Season']\n",
    "glm_quality_T2.columns = ['T2_TeamID','T2_quality','Season']"
   ]
  },
  {
   "cell_type": "code",
   "execution_count": null,
   "metadata": {
    "_uuid": "1b667442750b3fd5dd24c41d75e3bb7a0ed28f8a",
    "execution": {
     "iopub.execute_input": "2023-03-14T23:50:52.373543Z",
     "iopub.status.busy": "2023-03-14T23:50:52.373305Z",
     "iopub.status.idle": "2023-03-14T23:50:52.394301Z",
     "shell.execute_reply": "2023-03-14T23:50:52.393489Z",
     "shell.execute_reply.started": "2023-03-14T23:50:52.373498Z"
    }
   },
   "outputs": [],
   "source": [
    "tourney_data = pd.merge(tourney_data, glm_quality_T1, on = ['Season', 'T1_TeamID'], how = 'left')\n",
    "tourney_data = pd.merge(tourney_data, glm_quality_T2, on = ['Season', 'T2_TeamID'], how = 'left')"
   ]
  },
  {
   "cell_type": "code",
   "execution_count": null,
   "metadata": {
    "_uuid": "f2ce28123dfc563a8b1fb58f98401c927e2eb7c2",
    "execution": {
     "iopub.execute_input": "2023-03-14T23:50:52.469520Z",
     "iopub.status.busy": "2023-03-14T23:50:52.469177Z",
     "iopub.status.idle": "2023-03-14T23:50:52.493328Z",
     "shell.execute_reply": "2023-03-14T23:50:52.491855Z",
     "shell.execute_reply.started": "2023-03-14T23:50:52.469445Z"
    }
   },
   "outputs": [],
   "source": [
    "seeds['seed'] = seeds['Seed'].apply(lambda x: int(x[1:3]))"
   ]
  },
  {
   "cell_type": "code",
   "execution_count": null,
   "metadata": {
    "_uuid": "e2d6a4e33b062401088f472b698cc9cabff3a612",
    "execution": {
     "iopub.execute_input": "2023-03-14T23:50:52.495820Z",
     "iopub.status.busy": "2023-03-14T23:50:52.495089Z",
     "iopub.status.idle": "2023-03-14T23:50:52.507334Z",
     "shell.execute_reply": "2023-03-14T23:50:52.506692Z",
     "shell.execute_reply.started": "2023-03-14T23:50:52.495717Z"
    }
   },
   "outputs": [],
   "source": [
    "seeds_T1 = seeds[['Season','TeamID','seed']].copy()\n",
    "seeds_T2 = seeds[['Season','TeamID','seed']].copy()\n",
    "seeds_T1.columns = ['Season','T1_TeamID','T1_seed']\n",
    "seeds_T2.columns = ['Season','T2_TeamID','T2_seed']"
   ]
  },
  {
   "cell_type": "code",
   "execution_count": null,
   "metadata": {
    "_uuid": "3ce355578d9881346602388e2df329cafd1f24e7",
    "execution": {
     "iopub.execute_input": "2023-03-14T23:50:52.509295Z",
     "iopub.status.busy": "2023-03-14T23:50:52.508847Z",
     "iopub.status.idle": "2023-03-14T23:50:52.529318Z",
     "shell.execute_reply": "2023-03-14T23:50:52.528286Z",
     "shell.execute_reply.started": "2023-03-14T23:50:52.509246Z"
    }
   },
   "outputs": [],
   "source": [
    "tourney_data = pd.merge(tourney_data, seeds_T1, on = ['Season', 'T1_TeamID'], how = 'left')\n",
    "tourney_data = pd.merge(tourney_data, seeds_T2, on = ['Season', 'T2_TeamID'], how = 'left')"
   ]
  },
  {
   "cell_type": "code",
   "execution_count": null,
   "metadata": {
    "_uuid": "b4785045b4d0619a80a71e7bc66831341a187b7b",
    "execution": {
     "iopub.execute_input": "2023-03-14T23:50:52.530855Z",
     "iopub.status.busy": "2023-03-14T23:50:52.530547Z",
     "iopub.status.idle": "2023-03-14T23:50:52.536108Z",
     "shell.execute_reply": "2023-03-14T23:50:52.535307Z",
     "shell.execute_reply.started": "2023-03-14T23:50:52.530794Z"
    }
   },
   "outputs": [],
   "source": [
    "tourney_data[\"Seed_diff\"] = tourney_data[\"T1_seed\"] - tourney_data[\"T2_seed\"]"
   ]
  },
  {
   "cell_type": "markdown",
   "metadata": {
    "_uuid": "c2ba59b62b09fc5b5514a2cca4ca5408e9a2b71a"
   },
   "source": [
    "# Time to build some models!"
   ]
  },
  {
   "cell_type": "code",
   "execution_count": null,
   "metadata": {
    "_uuid": "9981fb89482e120adc3c014b1607c160383081f8",
    "execution": {
     "iopub.execute_input": "2023-03-14T23:50:52.537496Z",
     "iopub.status.busy": "2023-03-14T23:50:52.537160Z",
     "iopub.status.idle": "2023-03-14T23:50:52.554692Z",
     "shell.execute_reply": "2023-03-14T23:50:52.554028Z",
     "shell.execute_reply.started": "2023-03-14T23:50:52.537451Z"
    }
   },
   "outputs": [
    {
     "data": {
      "text/plain": [
       "count    2764.000000\n",
       "mean        0.000000\n",
       "std        14.548408\n",
       "min       -56.000000\n",
       "25%       -10.000000\n",
       "50%         0.000000\n",
       "75%        10.000000\n",
       "max        56.000000\n",
       "dtype: float64"
      ]
     },
     "execution_count": 30,
     "metadata": {},
     "output_type": "execute_result"
    }
   ],
   "source": [
    "y = tourney_data['T1_Score'] - tourney_data['T2_Score']\n",
    "y.describe()"
   ]
  },
  {
   "cell_type": "code",
   "execution_count": null,
   "metadata": {
    "_uuid": "5c39d0b7d4cb59068bdb90065181390ca86f095d",
    "execution": {
     "iopub.execute_input": "2023-03-14T23:50:52.555767Z",
     "iopub.status.busy": "2023-03-14T23:50:52.555443Z",
     "iopub.status.idle": "2023-03-14T23:50:52.564294Z",
     "shell.execute_reply": "2023-03-14T23:50:52.563563Z",
     "shell.execute_reply.started": "2023-03-14T23:50:52.555734Z"
    }
   },
   "outputs": [
    {
     "data": {
      "text/plain": [
       "45"
      ]
     },
     "execution_count": 31,
     "metadata": {},
     "output_type": "execute_result"
    }
   ],
   "source": [
    "features = list(season_statistics_T1.columns[2:999]) + \\\n",
    "    list(season_statistics_T2.columns[2:999]) + \\\n",
    "    list(seeds_T1.columns[2:999]) + \\\n",
    "    list(seeds_T2.columns[2:999]) + \\\n",
    "    list(last14days_stats_T1.columns[2:999]) + \\\n",
    "    list(last14days_stats_T2.columns[2:999]) + \\\n",
    "    [\"Seed_diff\"] + [\"T1_quality\",\"T2_quality\"]\n",
    "\n",
    "len(features)"
   ]
  },
  {
   "cell_type": "code",
   "execution_count": null,
   "metadata": {
    "_uuid": "a0632be8ffefd40903c86e266a3848ef39d3571a",
    "execution": {
     "iopub.execute_input": "2023-03-14T23:50:52.565802Z",
     "iopub.status.busy": "2023-03-14T23:50:52.565371Z",
     "iopub.status.idle": "2023-03-14T23:50:52.587035Z",
     "shell.execute_reply": "2023-03-14T23:50:52.586175Z",
     "shell.execute_reply.started": "2023-03-14T23:50:52.565741Z"
    }
   },
   "outputs": [],
   "source": [
    "X = tourney_data[features].values\n",
    "dtrain = xgb.DMatrix(X, label = y)"
   ]
  },
  {
   "cell_type": "code",
   "execution_count": null,
   "metadata": {
    "_uuid": "1816ebbcb0c348919e7ceeb0fd6509e8601ad567",
    "execution": {
     "iopub.execute_input": "2023-03-14T23:50:52.589769Z",
     "iopub.status.busy": "2023-03-14T23:50:52.588900Z",
     "iopub.status.idle": "2023-03-14T23:50:52.595931Z",
     "shell.execute_reply": "2023-03-14T23:50:52.594859Z",
     "shell.execute_reply.started": "2023-03-14T23:50:52.589682Z"
    }
   },
   "outputs": [],
   "source": [
    "def cauchyobj(preds, dtrain):\n",
    "    labels = dtrain.get_label()\n",
    "    c = 5000 \n",
    "    x =  preds-labels    \n",
    "    grad = x / (x**2/c**2+1)\n",
    "    hess = -c**2*(x**2-c**2)/(x**2+c**2)**2\n",
    "    return grad, hess"
   ]
  },
  {
   "cell_type": "code",
   "execution_count": null,
   "metadata": {
    "_uuid": "7b726f9fa289643e02c5b4eb837443d83f00a831",
    "execution": {
     "iopub.execute_input": "2023-03-14T23:50:52.597264Z",
     "iopub.status.busy": "2023-03-14T23:50:52.596993Z",
     "iopub.status.idle": "2023-03-14T23:50:52.607109Z",
     "shell.execute_reply": "2023-03-14T23:50:52.606570Z",
     "shell.execute_reply.started": "2023-03-14T23:50:52.597215Z"
    },
    "scrolled": true
   },
   "outputs": [
    {
     "name": "stdout",
     "output_type": "stream",
     "text": [
      "{'eval_metric': 'mae', 'booster': 'gbtree', 'eta': 0.05, 'subsample': 0.35, 'colsample_bytree': 0.7, 'num_parallel_tree': 3, 'min_child_weight': 40, 'gamma': 10, 'max_depth': 3, 'silent': 1}\n"
     ]
    }
   ],
   "source": [
    "param = {} \n",
    "#param['objective'] = 'reg:linear'\n",
    "param['eval_metric'] =  'mae'\n",
    "param['booster'] = 'gbtree'\n",
    "param['eta'] = 0.05 #change to ~0.02 for final run\n",
    "param['subsample'] = 0.35\n",
    "param['colsample_bytree'] = 0.7\n",
    "param['num_parallel_tree'] = 3 #recommend 10\n",
    "param['min_child_weight'] = 40\n",
    "param['gamma'] = 10\n",
    "param['max_depth'] =  3\n",
    "param['silent'] = 1\n",
    "\n",
    "print(param)"
   ]
  },
  {
   "cell_type": "code",
   "execution_count": null,
   "metadata": {
    "_uuid": "ac7c1d166298eeb3c06d884ecb7874a5ef618d27",
    "execution": {
     "iopub.execute_input": "2023-03-14T23:50:52.608441Z",
     "iopub.status.busy": "2023-03-14T23:50:52.608067Z",
     "iopub.status.idle": "2023-03-14T23:51:18.914068Z",
     "shell.execute_reply": "2023-03-14T23:51:18.913336Z",
     "shell.execute_reply.started": "2023-03-14T23:50:52.608398Z"
    }
   },
   "outputs": [
    {
     "name": "stdout",
     "output_type": "stream",
     "text": [
      "Fold repeater 0\n",
      "[0]\ttrain-mae:11.48754+0.06821\ttest-mae:11.49643+0.27373\n"
     ]
    },
    {
     "name": "stderr",
     "output_type": "stream",
     "text": [
      "/opt/anaconda3/lib/python3.12/site-packages/xgboost/core.py:158: UserWarning: [18:49:12] WARNING: /Users/runner/work/xgboost/xgboost/src/learner.cc:740: \n",
      "Parameters: { \"silent\" } are not used.\n",
      "\n",
      "  warnings.warn(smsg, UserWarning)\n"
     ]
    },
    {
     "name": "stdout",
     "output_type": "stream",
     "text": [
      "[50]\ttrain-mae:8.78616+0.08377\ttest-mae:9.16859+0.30140\n",
      "[100]\ttrain-mae:8.39280+0.09959\ttest-mae:9.12001+0.32404\n",
      "[136]\ttrain-mae:8.18353+0.10111\ttest-mae:9.11997+0.32364\n",
      "Fold repeater 1\n",
      "[0]\ttrain-mae:11.48884+0.11032\ttest-mae:11.49717+0.45757\n"
     ]
    },
    {
     "name": "stderr",
     "output_type": "stream",
     "text": [
      "/opt/anaconda3/lib/python3.12/site-packages/xgboost/core.py:158: UserWarning: [18:49:14] WARNING: /Users/runner/work/xgboost/xgboost/src/learner.cc:740: \n",
      "Parameters: { \"silent\" } are not used.\n",
      "\n",
      "  warnings.warn(smsg, UserWarning)\n"
     ]
    },
    {
     "name": "stdout",
     "output_type": "stream",
     "text": [
      "[50]\ttrain-mae:8.79456+0.08254\ttest-mae:9.13488+0.37397\n",
      "[100]\ttrain-mae:8.41053+0.08230\ttest-mae:9.07794+0.39693\n",
      "[141]\ttrain-mae:8.18247+0.08563\ttest-mae:9.08240+0.40496\n",
      "Fold repeater 2\n",
      "[0]\ttrain-mae:11.48163+0.10018\ttest-mae:11.49088+0.41553\n"
     ]
    },
    {
     "name": "stderr",
     "output_type": "stream",
     "text": [
      "/opt/anaconda3/lib/python3.12/site-packages/xgboost/core.py:158: UserWarning: [18:49:15] WARNING: /Users/runner/work/xgboost/xgboost/src/learner.cc:740: \n",
      "Parameters: { \"silent\" } are not used.\n",
      "\n",
      "  warnings.warn(smsg, UserWarning)\n"
     ]
    },
    {
     "name": "stdout",
     "output_type": "stream",
     "text": [
      "[50]\ttrain-mae:8.78800+0.04891\ttest-mae:9.16353+0.28422\n",
      "[100]\ttrain-mae:8.39644+0.05215\ttest-mae:9.12076+0.27238\n",
      "[150]\ttrain-mae:8.11583+0.05871\ttest-mae:9.10379+0.25924\n",
      "[153]\ttrain-mae:8.09988+0.05993\ttest-mae:9.09643+0.26070\n"
     ]
    }
   ],
   "source": [
    "xgb_cv = []\n",
    "repeat_cv = 3 # recommend 10\n",
    "\n",
    "for i in range(repeat_cv): \n",
    "    print(f\"Fold repeater {i}\")\n",
    "    xgb_cv.append(\n",
    "        xgb.cv(\n",
    "          params = param,\n",
    "          dtrain = dtrain,\n",
    "          obj = cauchyobj,\n",
    "          num_boost_round = 3000,\n",
    "          folds = KFold(n_splits = 5, shuffle = True, random_state = i),\n",
    "          early_stopping_rounds = 25,\n",
    "          verbose_eval = 50\n",
    "        )\n",
    "    )"
   ]
  },
  {
   "cell_type": "code",
   "execution_count": null,
   "metadata": {
    "_uuid": "e76e9a3c2e209243950fcb0b0ec28cc1c729b40f",
    "execution": {
     "iopub.execute_input": "2023-03-14T23:51:18.916015Z",
     "iopub.status.busy": "2023-03-14T23:51:18.915446Z",
     "iopub.status.idle": "2023-03-14T23:51:18.924334Z",
     "shell.execute_reply": "2023-03-14T23:51:18.923787Z",
     "shell.execute_reply.started": "2023-03-14T23:51:18.915953Z"
    }
   },
   "outputs": [
    {
     "data": {
      "text/plain": [
       "([111, 116, 128], [9.11535513538968, 9.074881460633376, 9.095607706989899])"
      ]
     },
     "execution_count": 36,
     "metadata": {},
     "output_type": "execute_result"
    }
   ],
   "source": [
    "iteration_counts = [np.argmin(x['test-mae-mean'].values) for x in xgb_cv]\n",
    "val_mae = [np.min(x['test-mae-mean'].values) for x in xgb_cv]\n",
    "iteration_counts, val_mae"
   ]
  },
  {
   "cell_type": "code",
   "execution_count": null,
   "metadata": {
    "_uuid": "005e51b486d6853ede2091bf7dd36bfecc340542",
    "execution": {
     "iopub.execute_input": "2023-03-14T23:51:18.925729Z",
     "iopub.status.busy": "2023-03-14T23:51:18.925333Z",
     "iopub.status.idle": "2023-03-14T23:51:33.847664Z",
     "shell.execute_reply": "2023-03-14T23:51:33.847018Z",
     "shell.execute_reply.started": "2023-03-14T23:51:18.925680Z"
    }
   },
   "outputs": [
    {
     "name": "stdout",
     "output_type": "stream",
     "text": [
      "Fold repeater 0\n"
     ]
    },
    {
     "name": "stderr",
     "output_type": "stream",
     "text": [
      "/opt/anaconda3/lib/python3.12/site-packages/xgboost/core.py:158: UserWarning: [18:49:17] WARNING: /Users/runner/work/xgboost/xgboost/src/learner.cc:740: \n",
      "Parameters: { \"silent\" } are not used.\n",
      "\n",
      "  warnings.warn(smsg, UserWarning)\n",
      "/var/folders/ml/c9m4gk2d5j1gjzt21jgb5d3r0000gn/T/ipykernel_60275/4087228217.py:15: FutureWarning: Setting an item of incompatible dtype is deprecated and will raise an error in a future version of pandas. Value '[ 20.31013      8.555341     9.241185    -8.725495    10.817025\n",
      "   2.5168228   -2.4273133   13.184846     3.1828935   -1.4074564\n",
      "   0.37973863   0.23135135  20.29529     -2.0488331   20.310392\n",
      "  11.191801     9.568615     3.8403723    2.3879807   -1.8851684\n",
      "   4.5553803    8.634601     1.1611943    1.4320945   -1.0454407\n",
      "   4.474085    16.13766      8.509378    14.953941    11.180107\n",
      "  -2.529024    -2.0428097    8.190321     0.12192408  -1.6013396\n",
      "  18.743282    10.473167    -6.9506736   -0.9015677   -4.7452593\n",
      "   1.8057574    8.312766    10.44622     15.795606     4.827621\n",
      "   6.1693416  -12.87633      8.214213    14.325007    12.229103\n",
      "  18.269829     1.2588516    2.9944654   -3.1379614   13.285644\n",
      "   5.6414146   -0.89271545  -0.18803152  11.210118    -2.7658076\n",
      "   1.9866717    0.02800404   6.569052     1.5610845    8.534297\n",
      "   1.4770913   -4.1220417   -6.546174     9.324307    -2.2332115\n",
      "  -1.1565124    4.8652186   22.213722    -2.3440952    9.953715\n",
      "  -5.3869653    1.6345302    9.761057     4.3594313    4.2923646\n",
      "   2.1734145   10.728381    -2.078504    -0.5298117   -2.3350184\n",
      "   6.2494297   21.225798    20.036602     0.56476676   1.9600493\n",
      "  16.236183     1.9621986    3.8803828   -9.556535     6.090735\n",
      "  -7.5499477    0.05773049  -3.1757772    4.1060057    5.4100513\n",
      "   2.7768958   17.205242     5.274978    -0.9267128   12.381375\n",
      "  -2.2404034    5.1247754    2.425978    -6.44009      7.513575\n",
      "  -7.1715713   -8.279607    -5.078956    -1.3722178   -1.1481981\n",
      "  -6.5535903    2.1070576   -0.55004406  -0.6208581    3.1467445\n",
      "  -0.27142417   6.0848947    3.9387536   10.188302     7.82182\n",
      "  -4.291648    -3.2717004   -3.3107195    0.6336913   17.124533\n",
      "   9.927395    -0.48805267  17.491692     4.260942    -4.8475623\n",
      "  -6.3631687   14.576229    -2.8113654    7.5237517    7.631262\n",
      "   1.510891    -5.9387636    6.567274     2.7445323   12.849982\n",
      "   1.9591559    3.1240637    3.281644     0.697154    -5.9174485\n",
      "  14.567714     8.743203     3.3315532   13.426721     0.28182817\n",
      "   8.389259    18.757978     7.9974666    9.0563755   -0.04757885\n",
      "  -3.0031002   -0.7003629    1.4422611   -0.36581764   6.6577954\n",
      "  18.222275     9.095486     9.540794     4.4890637    0.20092669\n",
      "  -0.5873947   -8.97898     12.050539    14.66288     16.046133\n",
      "   5.4903417    5.459195     3.592344     6.653699     3.3275628\n",
      "  -2.7813194    3.8703585   -3.003142    -2.7559       6.706344\n",
      "  -8.336927     1.0648139   -2.5205727   16.31814     12.498284\n",
      "  -3.3787067    3.538991    -2.9645624    5.564323    14.780818\n",
      "  19.062609    12.912014    -0.35805675   3.8439188    3.8779726\n",
      "  -5.0226765    9.976833    -3.5163207    2.8442388    0.15494886\n",
      "  -3.3699684    2.4317396    2.1231685   -0.15026969   0.8949223\n",
      "   2.1143703    3.59179      8.913422    20.625881     1.6762519\n",
      "   1.7458677   -0.44208843   3.1349537    4.5970616   10.173359\n",
      "  10.353819     4.0418587    0.12239663  -1.112193    -1.5666629\n",
      "  -0.68401194  11.352733    15.584326     4.9514422   12.524523\n",
      "  -2.6189823   20.295889     5.6316724    0.5725229    6.878625\n",
      "   6.187272     0.25226864  -1.7790059    2.6751223   16.849741\n",
      " -13.519912     6.13418      6.1285048   21.570982    13.334242\n",
      "   2.8185372    2.0676148   11.379304     9.633865    -1.3963388\n",
      "   8.14583     -0.82720536   5.1470985   18.600895     2.6050994\n",
      "  18.314703     6.794748    13.921292     6.9391575    4.6912413\n",
      "   5.1968317   -4.4887047  -15.620365     3.8636522   -8.347932\n",
      "   4.287991    -0.4383288    3.273116    15.770957    20.084742\n",
      "   0.2824344   14.403591     3.3305664   -0.33068618   5.302601\n",
      "  -7.7305436   -3.330338     6.7220287   -3.792647     2.4825695\n",
      "  -4.70166     15.929527    -1.4817873   -9.041367    -4.6583304\n",
      "   5.4350753    4.7044344    5.4493937   -5.0690107   -3.9202356\n",
      "   4.775126     8.68097     10.23213     -3.8495135    7.6197624\n",
      " -19.30318     -2.8449218    6.5080824    8.117461     2.1673281\n",
      "  -7.125688    -4.613318   -18.337711     1.8323052    0.60774046\n",
      "   1.8083837  -12.966163   -11.098609    -3.8999362   -6.438229\n",
      "  -2.6968477    8.078685    -5.47737     -8.12782     -3.8465853\n",
      "   3.568119    -9.767991     0.76148057 -20.434698   -15.515525\n",
      "   8.48331    -11.962149     6.2431507   -6.271766    -4.5438266\n",
      "  -7.271675    -9.740933    -0.7254744    9.301592     0.3628877\n",
      "   3.756254   -15.1126      -7.4043727  -10.040126   -11.582566\n",
      " -20.914293     1.595439    -4.766544     2.7932801    2.8975053\n",
      "  -5.404175     4.2060976  -19.673952    -2.5473962   -8.471269\n",
      "  -4.8095064  -22.792503     0.2755919   -1.9424114   -2.663918\n",
      " -15.666588    -9.557251   -12.133184    -8.758365    -6.995231\n",
      "   1.0180852  -17.229305     2.7516606  -17.517458   -22.588484\n",
      " -13.566158     8.270987   -18.456755    -4.8733525  -11.988428\n",
      "   4.312866     1.8759137   -6.045951     3.381326    -7.250393\n",
      "  -5.2859554  -17.542517   -10.549245   -19.442272    -5.646381\n",
      "  -8.822591    -9.990874     3.7993433    2.9920712    0.9511487\n",
      "  -0.94162375  -3.9481027   -2.9959662   -2.091514    -4.2477093\n",
      " -10.838619     7.4103427    1.6014837    5.782207    -1.4389066\n",
      "  -3.2409809    0.7244258  -18.228165   -22.423681    -9.100666\n",
      "   4.327477   -10.865628    -1.2843001   -0.13794698  -4.541777\n",
      "  -4.9439044  -16.204954     2.6817548   -2.325111    -1.8269464\n",
      "  -7.391671   -10.113442   -17.937502    -1.548613    -1.123907\n",
      "  -6.521479     5.8742805    1.6331804   -1.1590114   -2.8759196\n",
      "  -9.632958    -2.9122868  -15.1245165    2.8713892   -2.7098694\n",
      "  -7.357514    -1.1326658    6.7457175   -5.1293697    5.491015\n",
      "  -5.330002    -5.6111646    0.19572768  -1.3477128  -20.532183\n",
      "   1.4379071  -17.6522      -4.2261105    8.099151    -3.69147\n",
      "  -5.938417    -0.80240387  -3.874627    -7.192254    -3.3423345\n",
      "  -2.0122943   -6.6050053   -0.5997647   -0.25093228   4.3653383\n",
      "   7.069296    17.059616     1.6495967   -3.0011356  -13.705989\n",
      "  -2.5587997   -1.517646    -4.226092    -5.8892746   -2.3394482\n",
      "  -1.8984331    2.0638483    0.6334721   -7.2635837   -7.442803\n",
      " -19.399675   -19.60245    -19.082428   -14.2591      -4.728303\n",
      "  -2.4226532   -4.132329    -7.5224905   -2.5068626   -0.82204914\n",
      "   7.92576     -3.5585458    2.2179346  -17.51551    -17.368423\n",
      "  -3.7489958   -8.28062     -2.7844877   -1.476331   -16.360653\n",
      "   4.467836     5.695761     0.2342091  -18.828714    -3.717778\n",
      " -12.855914     0.3876273   -5.612785   -11.520726    -6.2335615\n",
      "  -1.3403517   -1.8750685  -20.356245    -1.6470093  -10.473654\n",
      "  -4.8986325   -4.324467   -13.769171    -1.0003611   -1.5320069\n",
      "  -4.765272    -5.8114204    1.2303784    6.3176203  -14.649812\n",
      "  -6.6132007   -3.527252   -10.513143     8.288016   -10.254671\n",
      "   0.9426521    2.334016     6.871209    -3.6789372    2.282716\n",
      "  -2.7740262  -11.381171   -12.137344   -10.045751    -1.3856282\n",
      "  12.177576    -2.8906226   -7.3703723   -3.2591       6.6293344\n",
      " -20.680664    -4.6656656   -0.4626034   13.557457    -2.7161872\n",
      "  -4.3687954   -4.439652    -2.5777736  -12.45321     -0.5271121\n",
      "  -1.3470913    3.5422482    1.7305871  -19.2386      -3.6187947\n",
      "  -0.24790543  10.124213     2.6265216   -8.851265   -15.722396\n",
      "  -1.9677831   -8.911986    -4.749939   -10.982891     8.367623\n",
      "  -2.3713605   -1.185233    -2.9231834 ]' has dtype incompatible with int64, please explicitly cast to a compatible dtype first.\n",
      "  preds[val_index] = model.predict(dval_i)\n",
      "/opt/anaconda3/lib/python3.12/site-packages/xgboost/core.py:158: UserWarning: [18:49:17] WARNING: /Users/runner/work/xgboost/xgboost/src/learner.cc:740: \n",
      "Parameters: { \"silent\" } are not used.\n",
      "\n",
      "  warnings.warn(smsg, UserWarning)\n",
      "/opt/anaconda3/lib/python3.12/site-packages/xgboost/core.py:158: UserWarning: [18:49:17] WARNING: /Users/runner/work/xgboost/xgboost/src/learner.cc:740: \n",
      "Parameters: { \"silent\" } are not used.\n",
      "\n",
      "  warnings.warn(smsg, UserWarning)\n",
      "/opt/anaconda3/lib/python3.12/site-packages/xgboost/core.py:158: UserWarning: [18:49:18] WARNING: /Users/runner/work/xgboost/xgboost/src/learner.cc:740: \n",
      "Parameters: { \"silent\" } are not used.\n",
      "\n",
      "  warnings.warn(smsg, UserWarning)\n",
      "/opt/anaconda3/lib/python3.12/site-packages/xgboost/core.py:158: UserWarning: [18:49:18] WARNING: /Users/runner/work/xgboost/xgboost/src/learner.cc:740: \n",
      "Parameters: { \"silent\" } are not used.\n",
      "\n",
      "  warnings.warn(smsg, UserWarning)\n"
     ]
    },
    {
     "name": "stdout",
     "output_type": "stream",
     "text": [
      "Fold repeater 1\n"
     ]
    },
    {
     "name": "stderr",
     "output_type": "stream",
     "text": [
      "/opt/anaconda3/lib/python3.12/site-packages/xgboost/core.py:158: UserWarning: [18:49:18] WARNING: /Users/runner/work/xgboost/xgboost/src/learner.cc:740: \n",
      "Parameters: { \"silent\" } are not used.\n",
      "\n",
      "  warnings.warn(smsg, UserWarning)\n",
      "/var/folders/ml/c9m4gk2d5j1gjzt21jgb5d3r0000gn/T/ipykernel_60275/4087228217.py:15: FutureWarning: Setting an item of incompatible dtype is deprecated and will raise an error in a future version of pandas. Value '[-1.48686767e-01  1.51512861e+01 -2.34459543e+00  9.71573639e+00\n",
      "  9.98002052e+00  8.48568630e+00  3.14053798e+00  5.68611670e+00\n",
      "  1.11318092e+01  4.09756422e+00 -6.74330950e+00 -4.33414459e-01\n",
      "  2.40730972e+01  1.63227391e+00  1.08917637e+01  1.26868933e-01\n",
      "  4.65395641e+00  4.93292379e+00 -6.86257887e+00 -7.92653263e-01\n",
      "  4.74745929e-01 -1.75850201e+00 -4.38308191e+00 -2.40733910e+00\n",
      "  1.25670948e+01 -3.60415697e+00  6.54451466e+00  1.97829634e-01\n",
      "  7.62220049e+00 -2.07200384e+00  7.70763159e+00  2.06183624e+01\n",
      "  7.88370323e+00  1.21886616e+01  1.65883713e+01  2.03260899e+00\n",
      "  1.97363434e+01  9.76785278e+00 -1.23514080e+01  1.66482677e+01\n",
      "  3.11117721e+00  9.44263268e+00  3.67143416e+00 -1.08142984e+00\n",
      " -6.50905037e+00 -4.68186378e+00  6.13507509e+00 -3.40259433e+00\n",
      "  1.34485483e+00 -1.32358813e+00  5.10781384e+00  9.17031860e+00\n",
      "  6.20921278e+00 -2.46106076e+00  1.09259005e+01  8.29309845e+00\n",
      "  1.16256599e+01  7.33824539e+00 -1.39458191e+00  1.48936701e+00\n",
      " -2.38043714e+00  1.36183751e+00 -3.20566344e+00  1.75523300e+01\n",
      "  1.29991126e+00  1.20962477e+01  2.28400540e+00 -4.33039618e+00\n",
      "  6.20138645e+00 -9.13969517e-01  2.01763725e+00 -1.68718588e+00\n",
      "  3.48776364e+00 -6.89997196e+00 -4.14226913e+00 -1.22827083e-01\n",
      "  6.51822710e+00  5.68084192e+00  5.05497217e+00  5.72509944e-01\n",
      "  5.19235468e+00 -6.44221497e+00 -2.12813330e+00  7.57192671e-01\n",
      "  9.50366080e-01  1.81482041e+00  7.52395391e+00  1.01700983e+01\n",
      "  6.83004570e+00  3.65428352e+00  9.68724918e+00  3.87961626e+00\n",
      " -2.50257826e+00  1.93213654e+01  1.86644249e+01  9.90219831e-01\n",
      "  1.52827530e+01  2.89560467e-01  3.89234352e+00  6.27960300e+00\n",
      "  3.06480718e+00  1.13102837e+01 -7.40822554e+00  1.01352758e+01\n",
      " -7.15063667e+00 -5.91154909e+00 -6.72722292e+00  2.82625270e+00\n",
      " -9.10237253e-01  7.04292202e+00 -3.80255610e-01  2.50750828e+01\n",
      "  9.25678635e+00 -7.84003377e-01  9.37648678e+00 -1.31516190e+01\n",
      " -2.38978219e+00 -4.71066332e+00  7.90956116e+00 -1.00689960e+00\n",
      " -6.42613506e+00 -4.96173763e+00  1.59385958e+01  7.36394358e+00\n",
      "  2.31700778e+00  1.97610130e+01  1.07229776e+01  3.34698844e+00\n",
      " -6.73947716e+00  1.64414272e+01  1.13386273e+00  1.37020588e-01\n",
      "  1.60947037e+01 -3.67885923e+00  4.84479761e+00 -4.79241610e+00\n",
      "  1.95944178e+00  2.25732517e+00  2.33872166e+01  1.58519268e+00\n",
      " -3.96443558e+00  2.32708778e+01  9.06179523e+00 -8.41679859e+00\n",
      "  8.18925858e+00  3.69140577e+00  3.35149312e+00  5.40608644e+00\n",
      " -3.70224667e+00  9.91558266e+00 -4.73702383e+00 -2.24187946e+00\n",
      "  2.12678757e+01  3.11014032e+00  5.89707422e+00  1.14121783e+00\n",
      "  5.34404850e+00  1.90516071e+01  1.23191700e+01  2.35862947e+00\n",
      "  2.31542563e+00  9.87931252e+00  4.61404610e+00 -2.29119349e+00\n",
      "  4.74502563e+00  6.21497393e+00  2.89954996e+00  7.21961117e+00\n",
      " -9.45450425e-01  7.96747684e+00 -3.52471590e+00 -2.59443498e+00\n",
      " -3.42428356e-01 -2.31693849e-01  7.99447441e+00  4.62400150e+00\n",
      "  3.77261233e+00  7.10571146e+00 -3.06714773e+00  1.20775259e+00\n",
      "  1.66042576e+01  1.25835390e+01 -3.08029008e+00  8.46752822e-01\n",
      "  7.05607319e+00  6.51465034e+00  8.47032964e-02 -7.27727115e-02\n",
      "  4.65575027e+00  3.65719581e+00  1.02750902e+01 -1.39202106e+00\n",
      " -2.14713812e+00  5.60192242e-02  2.12467518e+01  2.43884945e+00\n",
      " -1.86496341e+00  1.34268608e+01  2.44416404e+00  4.40578386e-02\n",
      "  1.47050738e+00 -1.16461039e+00  3.28984642e+00 -7.03800488e+00\n",
      "  2.98753190e+00 -7.98356390e+00  9.22075558e+00  2.98179209e-01\n",
      "  6.68974400e+00  7.52868176e+00  1.43715851e-02  1.20739298e+01\n",
      "  9.02680278e-01  7.44550085e+00  1.64255886e+01  2.25880032e+01\n",
      "  1.56196022e+01  5.61260171e-02  1.98249543e+00  5.91783667e+00\n",
      "  1.48999739e+00 -2.57237458e+00  1.89086742e+01 -6.97513294e+00\n",
      "  1.79091129e+01  1.37785721e+01 -1.54668868e+00  2.05340824e+01\n",
      "  4.12969923e+00  1.24277782e+01 -4.01530266e+00  9.78554058e+00\n",
      " -5.67353392e+00  3.88392186e+00 -8.58430386e+00  3.46944571e+00\n",
      "  1.14271612e+01  4.19451618e+00  7.68979931e+00  7.28542089e+00\n",
      " -3.22200704e+00  1.32808056e+01  5.26624441e+00 -6.17931414e+00\n",
      "  2.01763773e+00  5.82916832e+00  4.21089458e+00 -5.50089836e+00\n",
      "  7.15243530e+00  1.03838348e+00  1.20152693e+01  1.08668795e+01\n",
      "  1.59812331e+00 -1.85919056e+01  2.83898139e+00 -3.26634932e+00\n",
      "  4.64680910e+00 -6.11961699e+00 -8.32771015e+00 -1.38478041e-01\n",
      "  2.06244545e+01  1.39616445e-01  2.93241835e+00  1.10688066e+01\n",
      "  1.78644104e+01 -1.48656666e-01  6.30246687e+00  3.34732389e+00\n",
      "  9.85334015e+00 -2.67196566e-01 -1.89645405e+01 -8.03752232e+00\n",
      " -1.14568532e+00 -1.81452751e+01 -1.59316330e+01 -1.63509750e+00\n",
      " -8.77526474e+00  3.93536687e+00 -7.54570389e+00 -4.32613707e+00\n",
      " -4.49885988e+00 -1.76609497e+01 -1.64700375e+01  5.99450283e-02\n",
      "  4.58564252e-01 -2.07108269e+01 -5.13873100e+00 -8.10592556e+00\n",
      " -7.62887287e+00 -9.33202839e+00 -3.12814164e+00  2.97706938e+00\n",
      " -1.53490615e+00 -5.72923470e+00 -1.91797590e+00 -4.64914083e+00\n",
      "  2.12022471e+00 -7.09799290e+00 -4.01632166e+00 -1.14695396e+01\n",
      "  1.52206039e+00 -1.08414574e+01  5.91716051e-01  1.86002433e+00\n",
      " -7.20340431e-01  4.19460964e+00  1.20154297e+00 -1.24244137e+01\n",
      "  1.26500070e+00 -3.39675283e+00  2.64994216e+00 -7.90412998e+00\n",
      " -2.82205820e+00 -4.94018888e+00  1.20116901e+00  4.91559601e+00\n",
      " -6.41763544e+00  4.14503765e+00 -1.50197287e+01 -6.67036486e+00\n",
      " -3.45320988e+00 -1.70951271e+01 -1.30066843e+01 -1.37747593e+01\n",
      "  3.43388170e-01 -2.02424946e+01 -2.05478287e+01 -8.77853870e+00\n",
      " -4.02575970e+00  1.35621130e-02 -4.81927013e+00 -9.74174309e+00\n",
      " -1.18307076e+01 -8.20049882e-01 -8.27785110e+00  3.85329747e+00\n",
      " -4.19511366e+00 -3.71181774e+00 -1.13300810e+01 -1.82846050e+01\n",
      " -2.18032799e+01  2.70799112e+00 -2.03660717e+01  8.52330208e+00\n",
      "  1.04817522e+00 -4.48856688e+00 -1.14820442e+01 -1.86498344e+00\n",
      " -2.19560280e+01 -1.64068546e+01  5.17912507e-01 -6.23288107e+00\n",
      " -8.26300335e+00 -1.90203800e+01 -3.30449390e+00 -1.28730936e+01\n",
      " -9.24449635e+00 -4.34605980e+00 -5.62820101e+00  2.22123933e+00\n",
      " -4.22079182e+00 -2.08281021e+01  2.06606293e+00 -2.58759880e+00\n",
      "  1.94608784e+00 -1.85245571e+01 -1.81127300e+01 -1.58366184e+01\n",
      " -2.08128357e+00 -8.92604065e+00  8.62588644e-01 -1.10304146e+01\n",
      " -4.16526413e+00 -6.03086901e+00 -4.93958294e-01 -1.25161772e+01\n",
      " -2.97582817e+00 -1.65521469e+01 -2.60897279e-02 -1.60824604e+01\n",
      " -1.21744108e+00  3.33497316e-01  6.29533482e+00 -4.25554085e+00\n",
      " -1.34256887e+00 -8.65303326e+00  6.86407709e+00  4.58989191e+00\n",
      " -3.64666730e-01 -1.59570351e-01 -5.79511642e+00 -1.22344465e+01\n",
      "  1.50432463e+01 -5.81659436e-01 -1.36798728e+00 -5.90269566e-01\n",
      " -2.07946196e-01 -6.33607101e+00  1.82377553e+00 -5.34224844e+00\n",
      " -1.94044352e+00  9.65946078e-01 -2.26180863e+00 -1.64553986e+01\n",
      " -1.94565105e+01 -8.90843487e+00 -7.55554295e+00  1.41403604e+00\n",
      " -1.58925819e+01 -1.45063782e+01 -2.27362132e+00 -2.01999879e+00\n",
      " -8.73021126e+00 -7.63306999e+00 -2.27234221e+00 -9.04579639e+00\n",
      " -6.10283375e+00 -3.18142366e+00  4.68149996e+00 -1.37307367e+01\n",
      " -1.94998431e+00  1.09969616e+01 -8.87596798e+00 -1.81675701e+01\n",
      " -7.37252474e+00 -5.57201672e+00  1.00977116e+01 -9.88236237e+00\n",
      "  1.97897828e+00  5.36309433e+00  4.94976282e+00 -1.73519249e+01\n",
      " -1.69208086e+00 -4.43269348e+00  5.06451130e-01 -7.85239601e+00\n",
      " -9.55739784e+00  1.07047710e+01 -1.04828298e+00  5.31586552e+00\n",
      " -1.45249403e+00  1.93011329e-01  2.34051824e+00  1.68703705e-01\n",
      " -1.22859728e+00  7.29187667e-01 -1.51301041e+01  5.87076378e+00\n",
      "  3.70726109e+00 -1.60214157e+01 -5.79783154e+00 -4.81165504e+00\n",
      " -1.17464089e+00  5.82553923e-01 -1.71807709e+01  2.05887675e+00\n",
      " -4.38998127e+00 -5.84228992e+00 -5.19118214e+00 -6.36492777e+00\n",
      " -1.03388605e+01  6.05495882e+00 -4.92682362e+00  6.67674303e+00\n",
      " -1.12239943e+01  1.90067148e+00  2.53124976e+00 -1.71224117e+00\n",
      "  1.94370914e+00 -2.48096538e+00 -3.86146140e+00 -9.20621216e-01\n",
      " -1.99002552e+01 -8.72267723e-01 -1.79134274e+01 -6.49495268e+00\n",
      " -4.07129335e+00  5.76503325e+00 -5.59072924e+00  7.57682562e+00\n",
      " -4.93972778e+00 -7.91003227e+00  9.38336611e-01 -2.61706185e+00\n",
      "  3.44873905e+00 -5.96910954e+00 -1.30221825e+01 -1.46966305e+01\n",
      " -1.19093533e+01 -6.70688534e+00  3.65261364e+00 -2.01597404e+01\n",
      " -3.27506781e+00 -1.72828639e+00 -5.19515753e+00  1.12081778e+00\n",
      " -6.59347963e+00 -3.10360718e+00  4.27214718e+00 -4.38941622e+00\n",
      " -2.43898487e+00 -1.83564186e+00 -3.25612235e+00 -2.03856697e+01\n",
      "  4.61147404e+00 -5.45487261e+00 -5.17862129e+00  7.07254982e+00\n",
      " -5.10995245e+00 -6.53002405e+00 -4.69601440e+00 -7.59364271e+00\n",
      "  1.92654788e+00 -1.49583025e+01 -1.00005770e+01  4.54536057e+00\n",
      "  4.82119417e+00 -6.50049448e+00 -1.89017129e+00  3.59631491e+00\n",
      " -6.97939205e+00  1.93170166e+01 -1.81575108e+01 -1.16106691e+01\n",
      " -6.58629465e+00  7.75224018e+00 -7.14946365e+00  1.22759454e-01\n",
      "  8.72950649e+00  1.30972826e+00  1.24785316e+00  2.16690868e-01\n",
      "  1.95006886e+01 -1.30264015e+01 -6.88121891e+00 -1.06856604e+01\n",
      " -8.09887123e+00 -3.18229175e+00  4.82136631e+00 -4.41072322e-02\n",
      "  1.02097762e+00 -1.95651829e+00 -4.32033825e+00 -7.21788263e+00\n",
      " -4.89400673e+00  1.12383547e+01 -7.29900122e+00 -2.43346071e+00\n",
      "  4.28455210e+00 -5.27232456e+00 -4.05230999e+00 -2.58981729e+00\n",
      " -1.06946974e+01]' has dtype incompatible with int64, please explicitly cast to a compatible dtype first.\n",
      "  preds[val_index] = model.predict(dval_i)\n",
      "/opt/anaconda3/lib/python3.12/site-packages/xgboost/core.py:158: UserWarning: [18:49:18] WARNING: /Users/runner/work/xgboost/xgboost/src/learner.cc:740: \n",
      "Parameters: { \"silent\" } are not used.\n",
      "\n",
      "  warnings.warn(smsg, UserWarning)\n",
      "/opt/anaconda3/lib/python3.12/site-packages/xgboost/core.py:158: UserWarning: [18:49:18] WARNING: /Users/runner/work/xgboost/xgboost/src/learner.cc:740: \n",
      "Parameters: { \"silent\" } are not used.\n",
      "\n",
      "  warnings.warn(smsg, UserWarning)\n",
      "/opt/anaconda3/lib/python3.12/site-packages/xgboost/core.py:158: UserWarning: [18:49:19] WARNING: /Users/runner/work/xgboost/xgboost/src/learner.cc:740: \n",
      "Parameters: { \"silent\" } are not used.\n",
      "\n",
      "  warnings.warn(smsg, UserWarning)\n",
      "/opt/anaconda3/lib/python3.12/site-packages/xgboost/core.py:158: UserWarning: [18:49:19] WARNING: /Users/runner/work/xgboost/xgboost/src/learner.cc:740: \n",
      "Parameters: { \"silent\" } are not used.\n",
      "\n",
      "  warnings.warn(smsg, UserWarning)\n"
     ]
    },
    {
     "name": "stdout",
     "output_type": "stream",
     "text": [
      "Fold repeater 2\n"
     ]
    },
    {
     "name": "stderr",
     "output_type": "stream",
     "text": [
      "/opt/anaconda3/lib/python3.12/site-packages/xgboost/core.py:158: UserWarning: [18:49:19] WARNING: /Users/runner/work/xgboost/xgboost/src/learner.cc:740: \n",
      "Parameters: { \"silent\" } are not used.\n",
      "\n",
      "  warnings.warn(smsg, UserWarning)\n",
      "/var/folders/ml/c9m4gk2d5j1gjzt21jgb5d3r0000gn/T/ipykernel_60275/4087228217.py:15: FutureWarning: Setting an item of incompatible dtype is deprecated and will raise an error in a future version of pandas. Value '[ -0.47921503   9.776451    -5.3325343   -3.908729    -2.166966\n",
      "   1.6189686    7.3869023    9.066413     4.4623966   -0.96835834\n",
      "  -7.149077    18.936129    20.901957     0.13256565  20.541927\n",
      "   1.8078144    9.923088     7.075652     3.6029751    4.531693\n",
      "   8.5558815    7.783878    -1.1933728    3.0033996    4.4734163\n",
      "  -5.3655386   -0.21636519  -4.922932    -1.2294894    6.2730103\n",
      "   9.985251     5.0285935    4.2033005   -3.5594752    2.8326907\n",
      "  23.343288     5.148904     2.4041665    6.7592683    2.370741\n",
      "   6.6477103    7.618315    -1.4918582    2.2074687   10.091782\n",
      " -11.56419      2.8942435    6.1087756    9.079286    -4.8115873\n",
      "  -3.1047297    7.456386    -3.3287444    7.9322476   13.96107\n",
      "  -1.6076208   17.70001     13.191801     1.9506602   20.17179\n",
      "  16.93374      4.558626     4.0862737    4.995829    10.548833\n",
      "   3.798335     3.9334004    3.9669943   -1.591933    10.645021\n",
      "  14.906043    14.36701     -7.6996408   -2.2977176   -0.241166\n",
      "   1.8522991    4.4896755   12.577011    14.229911     5.1093173\n",
      "  -1.9812479   21.158802    -5.4011083    5.874077     0.38123795\n",
      "  12.349239    -2.6608596   20.821836    -2.10124     -0.9849168\n",
      "   6.870285    20.36095      1.4014069   -4.8396516    9.447356\n",
      "   3.907803     0.03329424  -2.871431     7.7685857    1.3802382\n",
      "  16.171055    -1.791675    -2.7537217    1.0290613    1.6046305\n",
      "  20.992474    13.346834     7.0291433    5.099591    -1.897925\n",
      "   8.940546     0.80357265  -0.54245687  -2.876429    -3.6797588\n",
      "   0.94943094   7.6422772    3.9913023    3.952924     0.15228254\n",
      "   8.177029     1.8788495    0.82023764   5.904774    -2.4041545\n",
      "   2.9236603    1.227961    -4.2258883    0.2098572   11.428788\n",
      "  18.580498    -5.115485     1.3868312    8.229702    -5.309157\n",
      "   9.890668    -2.8958538   -2.8342354    2.5066588    2.3047526\n",
      "   2.034337    15.065651    13.997202     0.5591383   -3.2380874\n",
      "  -4.4513116   -5.5987       1.2422085   20.326725     2.183088\n",
      "   0.8860198    3.922362    -0.46131408   3.3714387    1.9338297\n",
      "   8.919581     4.824486     0.41710788   5.40598     -1.895886\n",
      "   2.8801436    0.9158037    8.554044    24.188946    -2.9088326\n",
      "  18.546438     4.541676     6.2069407   -0.6806826    2.7705584\n",
      "   0.05533186   4.6143823    4.4128585   20.523428    10.708302\n",
      "  -0.9068076    5.5496254   -3.6879957    0.46963334   0.1479401\n",
      "   0.7033515    5.1761055   -0.23970145   3.6632416   12.603494\n",
      "   0.5186917   17.515003    -3.5108018   13.003503    -0.9365653\n",
      "  -7.008828     1.6726464    0.4448554   22.265053    14.205713\n",
      "  22.434546    -2.2191591   -1.8087946    3.4466977  -13.811652\n",
      "  -2.7103       1.4769627   12.866658     4.0461717   -5.912692\n",
      "   8.076789     9.131624     5.293352     0.3362261   -1.4483219\n",
      "   1.3917353    6.4008956   -8.491454    -1.7351027   -0.9137622\n",
      "  -4.270513    -0.0905308    0.4300042   17.91707     -9.092973\n",
      " -10.736669    -7.4133825   -0.7529277    6.6978087    8.011086\n",
      "   3.6072128   -1.934001    -1.861824    -4.9790907    1.762868\n",
      "   4.446207     4.5966725   16.62499     20.638092     8.824806\n",
      "   4.069488     3.0949621   -6.24044      6.8955154   -3.714367\n",
      "  -9.194361     3.8013525    1.109341     0.6750937    2.0112915\n",
      "  -3.9529078   12.263436    17.834995   -11.678703    -1.7550836\n",
      "  19.877754    -4.5511117   18.300505     7.61138      5.6825385\n",
      "   6.111318    -3.8550024    2.8194284   -4.7895026  -19.769604\n",
      "  -5.966329     3.4918697   -1.7542402  -12.693669     5.7392755\n",
      "   7.5285935    4.3801036    3.1450145   -7.253008     8.402009\n",
      " -20.082317   -20.625406    -5.1457624  -12.304304   -11.216645\n",
      "  -0.65369815  -1.7372165   -9.517197    -4.36482     -5.126167\n",
      "   2.274555     0.67478406   2.0556703   -6.6606374   -8.906921\n",
      "   0.08593732   2.784209     5.823103    -3.4841518  -10.911875\n",
      "   0.17571574  -2.9837372    2.9561515   -1.3124545   -3.8098352\n",
      "  -8.333019    -9.98779     -4.3810983    0.7102071   -2.1735942\n",
      "  -1.1864202    2.1073802   -1.4817098   -2.0793405    1.1974145\n",
      "  -4.173959    -8.87707     -0.78452486   0.5149424  -14.924413\n",
      "   0.5399756   -2.8608835    3.8641596   -7.25898      3.8736057\n",
      "   0.70436335  -5.079625     2.7978942   -4.212687   -25.444311\n",
      "   2.87639    -21.871876   -17.92945      4.4993124   -8.278701\n",
      "   0.6018439   -0.42017448  -2.984996    -0.8083358    2.1345274\n",
      "   1.9357644    4.4725976  -15.2423935   -1.290849   -10.12768\n",
      "   0.34027416   0.6536188    1.650932   -12.349677     2.5215082\n",
      "  -6.4563932    4.228174    -6.024478    -5.4723597  -19.099974\n",
      "  -2.0580783    0.57503694   0.609394     2.7637622    0.976027\n",
      "   0.9537418   -5.998198   -16.091206    -7.5725775   -9.640178\n",
      "  -5.668221     2.6683326   -1.513526     1.2645025  -17.795502\n",
      "   2.1289172  -15.812123   -13.794521   -21.957838    -3.8359146\n",
      "   4.559786    -5.8084307   -3.099471    -9.764637     5.9026904\n",
      "   2.3435614    6.5342293    0.58997476   3.1320508   -6.7835264\n",
      " -20.729506    -4.7398744  -20.842522    -2.7132897  -10.068825\n",
      " -18.24778      5.1462846   -7.567773    -8.0823765   -1.9845341\n",
      "  -9.542346    -5.056581     5.5287614  -12.856959    -4.3322787\n",
      "  -5.228855     0.8515229   -1.7113458   -5.669945    -9.933718\n",
      "  -4.759866   -15.781196   -15.294411     7.6876407   -7.8142576\n",
      "  -3.4118474   -2.4068527   -3.2742834   -0.40774724  -1.0092849\n",
      "  -7.12858     -1.908894    -6.570856    -0.10094136  -4.8715105\n",
      "   3.0084698    7.4061117    2.666704    10.3224745    1.5686328\n",
      "  13.942684   -21.421768   -10.425224    -4.9365635   -9.025293\n",
      "   9.4878845   -4.051574    -1.2451025   -4.608228     2.048018\n",
      "  -7.807346    -3.9107506   -4.729753    -7.0848403   -0.5368995\n",
      "   3.2993267   -4.5961637    4.1618114   -5.2799034  -19.91123\n",
      " -12.522627    -4.463174    -3.4282432    0.8109811   -2.9517713\n",
      "  -7.1434035    1.357049     6.154735   -17.412907   -10.434957\n",
      "   1.0467471   -2.3799372  -12.225754     0.7963978  -15.974362\n",
      " -16.258371    -1.216216    -0.38055214   8.81075      4.9574275\n",
      "  -3.447177     0.5948325    1.5091081    1.6243249   -5.253618\n",
      "  -4.2796464    2.2968957   -4.0326996  -19.163136    -1.7892991\n",
      "  -3.3044841   -3.6271553   -2.2662182   -9.322455    -7.9541636\n",
      "  -9.959986    -3.1149669   -2.9821424    2.7070062   -4.3200374\n",
      " -22.495218     0.61988074 -15.123421   -13.325333     1.6458393\n",
      "  -2.5400271   -0.17705652  -3.244757   -10.706331     1.5173038\n",
      "   2.8181894   -0.24990642   4.3597856   -2.064758     0.230406\n",
      "  -3.7147105   -5.510637     1.6663886  -19.170584   -17.236315\n",
      "  -2.254731    -6.0757155  -18.900333     5.529977    -0.9634707\n",
      " -11.964128     4.9491806    0.8924932  -15.117652    -0.9370496\n",
      "  -8.7628765    1.4957757    3.9452634    8.106418    19.157415\n",
      " -21.719925     1.8374789  -13.753698    -9.418063     9.05351\n",
      "  -4.3993945  -11.979529     0.03181604  -0.8579939   -2.8197596\n",
      "  -5.603093    -1.3770581   -2.1573577   -1.0436598   14.497431\n",
      " -11.609441    -5.823296    -1.6224307  -10.320387    -3.3993278\n",
      " -14.567288   -11.21213      7.6109204    0.40828982  -1.4846439\n",
      "  -8.127912     8.180433    -1.4421762  -21.883333    -2.6405823\n",
      " -10.408685   -18.884354    -0.5451606   -2.8739483   -0.17361206\n",
      " -17.138742   -20.308554    -6.547609    -6.366381    -3.712909\n",
      "   3.876069     5.6810465   -3.6222248 ]' has dtype incompatible with int64, please explicitly cast to a compatible dtype first.\n",
      "  preds[val_index] = model.predict(dval_i)\n",
      "/opt/anaconda3/lib/python3.12/site-packages/xgboost/core.py:158: UserWarning: [18:49:19] WARNING: /Users/runner/work/xgboost/xgboost/src/learner.cc:740: \n",
      "Parameters: { \"silent\" } are not used.\n",
      "\n",
      "  warnings.warn(smsg, UserWarning)\n",
      "/opt/anaconda3/lib/python3.12/site-packages/xgboost/core.py:158: UserWarning: [18:49:20] WARNING: /Users/runner/work/xgboost/xgboost/src/learner.cc:740: \n",
      "Parameters: { \"silent\" } are not used.\n",
      "\n",
      "  warnings.warn(smsg, UserWarning)\n",
      "/opt/anaconda3/lib/python3.12/site-packages/xgboost/core.py:158: UserWarning: [18:49:20] WARNING: /Users/runner/work/xgboost/xgboost/src/learner.cc:740: \n",
      "Parameters: { \"silent\" } are not used.\n",
      "\n",
      "  warnings.warn(smsg, UserWarning)\n",
      "/opt/anaconda3/lib/python3.12/site-packages/xgboost/core.py:158: UserWarning: [18:49:20] WARNING: /Users/runner/work/xgboost/xgboost/src/learner.cc:740: \n",
      "Parameters: { \"silent\" } are not used.\n",
      "\n",
      "  warnings.warn(smsg, UserWarning)\n"
     ]
    }
   ],
   "source": [
    "oof_preds = []\n",
    "for i in range(repeat_cv):\n",
    "    print(f\"Fold repeater {i}\")\n",
    "    preds = y.copy()\n",
    "    kfold = KFold(n_splits = 5, shuffle = True, random_state = i)    \n",
    "    for train_index, val_index in kfold.split(X,y):\n",
    "        dtrain_i = xgb.DMatrix(X[train_index], label = y[train_index])\n",
    "        dval_i = xgb.DMatrix(X[val_index], label = y[val_index])  \n",
    "        model = xgb.train(\n",
    "              params = param,\n",
    "              dtrain = dtrain_i,\n",
    "              num_boost_round = iteration_counts[i],\n",
    "              verbose_eval = 50\n",
    "        )\n",
    "        preds[val_index] = model.predict(dval_i)\n",
    "    oof_preds.append(np.clip(preds,-30,30))"
   ]
  },
  {
   "cell_type": "code",
   "execution_count": null,
   "metadata": {
    "_uuid": "27281822aa36656d962d855d1791914b8d51a0e6",
    "execution": {
     "iopub.execute_input": "2023-03-14T23:51:33.850829Z",
     "iopub.status.busy": "2023-03-14T23:51:33.850435Z",
     "iopub.status.idle": "2023-03-14T23:51:34.019432Z",
     "shell.execute_reply": "2023-03-14T23:51:34.018446Z",
     "shell.execute_reply.started": "2023-03-14T23:51:33.850757Z"
    }
   },
   "outputs": [
    {
     "data": {
      "text/plain": [
       "[<matplotlib.lines.Line2D at 0x31ff3a150>]"
      ]
     },
     "execution_count": 38,
     "metadata": {},
     "output_type": "execute_result"
    },
    {
     "data": {
      "image/png": "[encoded data removed]",
      "text/plain": [
       "<Figure size 640x480 with 1 Axes>"
      ]
     },
     "metadata": {},
     "output_type": "display_data"
    }
   ],
   "source": [
    "plot_df = pd.DataFrame({\"pred\":oof_preds[0], \"label\":np.where(y>0,1,0)})\n",
    "plot_df[\"pred_int\"] = plot_df[\"pred\"].astype(int)\n",
    "plot_df = plot_df.groupby('pred_int')['label'].mean().reset_index(name='average_win_pct')\n",
    "\n",
    "plt.figure()\n",
    "plt.plot(plot_df.pred_int,plot_df.average_win_pct)"
   ]
  },
  {
   "cell_type": "code",
   "execution_count": null,
   "metadata": {
    "_uuid": "80131eb61294dd14c9a4b84f59b54f173d37a605",
    "execution": {
     "iopub.execute_input": "2023-03-14T23:51:34.020958Z",
     "iopub.status.busy": "2023-03-14T23:51:34.020716Z",
     "iopub.status.idle": "2023-03-14T23:51:34.056294Z",
     "shell.execute_reply": "2023-03-14T23:51:34.055212Z",
     "shell.execute_reply.started": "2023-03-14T23:51:34.020907Z"
    }
   },
   "outputs": [
    {
     "name": "stdout",
     "output_type": "stream",
     "text": [
      "logloss of cvsplit 0: 0.5561828011385489\n",
      "logloss of cvsplit 1: 0.5553487026745254\n",
      "logloss of cvsplit 2: 0.559746034204258\n"
     ]
    }
   ],
   "source": [
    "spline_model = []\n",
    "\n",
    "for i in range(repeat_cv):\n",
    "    dat = list(zip(oof_preds[i],np.where(y>0,1,0)))\n",
    "    dat = sorted(dat, key = lambda x: x[0])\n",
    "    datdict = {}\n",
    "    for k in range(len(dat)):\n",
    "        datdict[dat[k][0]]= dat[k][1]\n",
    "        \n",
    "    spline_model.append(UnivariateSpline(list(datdict.keys()), list(datdict.values())))\n",
    "    spline_fit = spline_model[i](oof_preds[i])\n",
    "    \n",
    "    print(f\"logloss of cvsplit {i}: {log_loss(np.where(y>0,1,0),spline_fit)}\") "
   ]
  },
  {
   "cell_type": "code",
   "execution_count": null,
   "metadata": {
    "_uuid": "5c5313989cfa1fb2cfa57e4ddb1e2a22ab290423",
    "execution": {
     "iopub.execute_input": "2023-03-14T23:51:34.057798Z",
     "iopub.status.busy": "2023-03-14T23:51:34.057520Z",
     "iopub.status.idle": "2023-03-14T23:51:34.222576Z",
     "shell.execute_reply": "2023-03-14T23:51:34.221449Z",
     "shell.execute_reply.started": "2023-03-14T23:51:34.057746Z"
    }
   },
   "outputs": [
    {
     "data": {
      "text/plain": [
       "[<matplotlib.lines.Line2D at 0x31ff2d5b0>]"
      ]
     },
     "execution_count": 40,
     "metadata": {},
     "output_type": "execute_result"
    },
    {
     "data": {
      "image/png": "[encoded data removed]",
      "text/plain": [
       "<Figure size 640x480 with 1 Axes>"
      ]
     },
     "metadata": {},
     "output_type": "display_data"
    }
   ],
   "source": [
    "plot_df = pd.DataFrame({\"pred\":oof_preds[0], \"label\":np.where(y>0,1,0), \"spline\":spline_model[0](oof_preds[0])})\n",
    "plot_df[\"pred_int\"] = (plot_df[\"pred\"]).astype(int)\n",
    "plot_df = plot_df.groupby('pred_int')[['spline', 'label']].mean().reset_index()\n",
    "\n",
    "plt.figure()\n",
    "plt.plot(plot_df.pred_int,plot_df.spline)\n",
    "plt.plot(plot_df.pred_int,plot_df.label)"
   ]
  },
  {
   "cell_type": "code",
   "execution_count": null,
   "metadata": {
    "_uuid": "2b06344b5c968cfcd5c5840db36db184de311f96",
    "execution": {
     "iopub.execute_input": "2023-03-14T23:51:34.224176Z",
     "iopub.status.busy": "2023-03-14T23:51:34.223918Z",
     "iopub.status.idle": "2023-03-14T23:51:34.263023Z",
     "shell.execute_reply": "2023-03-14T23:51:34.262139Z",
     "shell.execute_reply.started": "2023-03-14T23:51:34.224125Z"
    }
   },
   "outputs": [
    {
     "name": "stdout",
     "output_type": "stream",
     "text": [
      "adjusted logloss of cvsplit 0: 0.5561828011385489\n",
      "adjusted logloss of cvsplit 1: 0.5553487026745254\n",
      "adjusted logloss of cvsplit 2: 0.5597733835672969\n"
     ]
    }
   ],
   "source": [
    "spline_model = []\n",
    "\n",
    "for i in range(repeat_cv):\n",
    "    dat = list(zip(oof_preds[i],np.where(y>0,1,0)))\n",
    "    dat = sorted(dat, key = lambda x: x[0])\n",
    "    datdict = {}\n",
    "    for k in range(len(dat)):\n",
    "        datdict[dat[k][0]]= dat[k][1]\n",
    "    spline_model.append(UnivariateSpline(list(datdict.keys()), list(datdict.values())))\n",
    "    spline_fit = spline_model[i](oof_preds[i])\n",
    "    spline_fit = np.clip(spline_fit,0.025,0.975)\n",
    "    \n",
    "    print(f\"adjusted logloss of cvsplit {i}: {log_loss(np.where(y>0,1,0),spline_fit)}\") "
   ]
  },
  {
   "cell_type": "code",
   "execution_count": null,
   "metadata": {
    "_uuid": "701351545f58a26cbd8afe55196df383f570517d",
    "execution": {
     "iopub.execute_input": "2023-03-14T23:51:34.264367Z",
     "iopub.status.busy": "2023-03-14T23:51:34.264135Z",
     "iopub.status.idle": "2023-03-14T23:51:34.319363Z",
     "shell.execute_reply": "2023-03-14T23:51:34.318349Z",
     "shell.execute_reply.started": "2023-03-14T23:51:34.264323Z"
    }
   },
   "outputs": [
    {
     "name": "stdout",
     "output_type": "stream",
     "text": [
      "adjusted logloss of cvsplit 0: 1.4430940935609413\n",
      "adjusted logloss of cvsplit 1: 1.4423434440211207\n",
      "adjusted logloss of cvsplit 2: 1.4461198828053738\n"
     ]
    }
   ],
   "source": [
    "spline_model = []\n",
    "\n",
    "for i in range(repeat_cv):\n",
    "    dat = list(zip(oof_preds[i],np.where(y>0,1,0)))\n",
    "    dat = sorted(dat, key = lambda x: x[0])\n",
    "    datdict = {}\n",
    "    for k in range(len(dat)):\n",
    "        datdict[dat[k][0]]= dat[k][1]\n",
    "    spline_model.append(UnivariateSpline(list(datdict.keys()), list(datdict.values())))\n",
    "    spline_fit = spline_model[i](oof_preds[i])\n",
    "    spline_fit = np.clip(spline_fit,0.025,0.975)\n",
    "    spline_fit[(tourney_data.T1_seed==1) & (tourney_data.T2_seed==16)] = 1.0\n",
    "    spline_fit[(tourney_data.T1_seed==2) & (tourney_data.T2_seed==15)] = 1.0\n",
    "    spline_fit[(tourney_data.T1_seed==3) & (tourney_data.T2_seed==14)] = 1.0\n",
    "    spline_fit[(tourney_data.T1_seed==4) & (tourney_data.T2_seed==13)] = 1.0\n",
    "    spline_fit[(tourney_data.T1_seed==16) & (tourney_data.T2_seed==1)] = 0.0\n",
    "    spline_fit[(tourney_data.T1_seed==15) & (tourney_data.T2_seed==2)] = 0.0\n",
    "    spline_fit[(tourney_data.T1_seed==14) & (tourney_data.T2_seed==3)] = 0.0\n",
    "    spline_fit[(tourney_data.T1_seed==13) & (tourney_data.T2_seed==4)] = 0.0\n",
    "    \n",
    "    print(f\"adjusted logloss of cvsplit {i}: {log_loss(np.where(y>0,1,0),spline_fit)}\") "
   ]
  },
  {
   "cell_type": "code",
   "execution_count": null,
   "metadata": {
    "_uuid": "575ae5e165fcde8fecec21f0df0d27fd8fa0726a",
    "execution": {
     "iopub.execute_input": "2023-03-14T23:51:34.320619Z",
     "iopub.status.busy": "2023-03-14T23:51:34.320398Z",
     "iopub.status.idle": "2023-03-14T23:51:34.465875Z",
     "shell.execute_reply": "2023-03-14T23:51:34.464725Z",
     "shell.execute_reply.started": "2023-03-14T23:51:34.320579Z"
    }
   },
   "outputs": [
    {
     "data": {
      "text/html": [
       "<div>\n",
       "<style scoped>\n",
       "    .dataframe tbody tr th:only-of-type {\n",
       "        vertical-align: middle;\n",
       "    }\n",
       "\n",
       "    .dataframe tbody tr th {\n",
       "        vertical-align: top;\n",
       "    }\n",
       "\n",
       "    .dataframe thead th {\n",
       "        text-align: right;\n",
       "    }\n",
       "</style>\n",
       "<table border=\"1\" class=\"dataframe\">\n",
       "  <thead>\n",
       "    <tr style=\"text-align: right;\">\n",
       "      <th></th>\n",
       "      <th>Season</th>\n",
       "      <th>DayNum</th>\n",
       "      <th>T1_TeamID</th>\n",
       "      <th>T1_Score</th>\n",
       "      <th>T2_TeamID</th>\n",
       "      <th>T2_Score</th>\n",
       "      <th>T1_FGMmean</th>\n",
       "      <th>T1_FGAmean</th>\n",
       "      <th>T1_FGM3mean</th>\n",
       "      <th>T1_FGA3mean</th>\n",
       "      <th>...</th>\n",
       "      <th>T2_opponent_Stlmean</th>\n",
       "      <th>T2_opponent_Blkmean</th>\n",
       "      <th>T2_PointDiffmean</th>\n",
       "      <th>T1_win_ratio_14d</th>\n",
       "      <th>T2_win_ratio_14d</th>\n",
       "      <th>T1_quality</th>\n",
       "      <th>T2_quality</th>\n",
       "      <th>T1_seed</th>\n",
       "      <th>T2_seed</th>\n",
       "      <th>Seed_diff</th>\n",
       "    </tr>\n",
       "  </thead>\n",
       "  <tbody>\n",
       "    <tr>\n",
       "      <th>2396</th>\n",
       "      <td>2018</td>\n",
       "      <td>137</td>\n",
       "      <td>1438</td>\n",
       "      <td>54</td>\n",
       "      <td>1420</td>\n",
       "      <td>74</td>\n",
       "      <td>25.000000</td>\n",
       "      <td>54.181818</td>\n",
       "      <td>7.363636</td>\n",
       "      <td>18.878788</td>\n",
       "      <td>...</td>\n",
       "      <td>6.258065</td>\n",
       "      <td>2.806452</td>\n",
       "      <td>1.516129</td>\n",
       "      <td>1.000000</td>\n",
       "      <td>1.000000</td>\n",
       "      <td>1.925680e+15</td>\n",
       "      <td>-2.631836e+15</td>\n",
       "      <td>1</td>\n",
       "      <td>16</td>\n",
       "      <td>-15</td>\n",
       "    </tr>\n",
       "    <tr>\n",
       "      <th>2653</th>\n",
       "      <td>2023</td>\n",
       "      <td>137</td>\n",
       "      <td>1345</td>\n",
       "      <td>58</td>\n",
       "      <td>1192</td>\n",
       "      <td>63</td>\n",
       "      <td>25.441176</td>\n",
       "      <td>55.382353</td>\n",
       "      <td>6.882353</td>\n",
       "      <td>21.088235</td>\n",
       "      <td>...</td>\n",
       "      <td>5.593750</td>\n",
       "      <td>3.875000</td>\n",
       "      <td>0.312500</td>\n",
       "      <td>1.000000</td>\n",
       "      <td>0.666667</td>\n",
       "      <td>-1.092300e-01</td>\n",
       "      <td>-2.639244e+01</td>\n",
       "      <td>1</td>\n",
       "      <td>16</td>\n",
       "      <td>-15</td>\n",
       "    </tr>\n",
       "    <tr>\n",
       "      <th>1987</th>\n",
       "      <td>2012</td>\n",
       "      <td>137</td>\n",
       "      <td>1181</td>\n",
       "      <td>70</td>\n",
       "      <td>1250</td>\n",
       "      <td>75</td>\n",
       "      <td>25.757576</td>\n",
       "      <td>56.272727</td>\n",
       "      <td>8.121212</td>\n",
       "      <td>21.606061</td>\n",
       "      <td>...</td>\n",
       "      <td>5.687500</td>\n",
       "      <td>3.843750</td>\n",
       "      <td>10.218750</td>\n",
       "      <td>0.500000</td>\n",
       "      <td>1.000000</td>\n",
       "      <td>1.634525e+00</td>\n",
       "      <td>-2.436592e+01</td>\n",
       "      <td>2</td>\n",
       "      <td>15</td>\n",
       "      <td>-13</td>\n",
       "    </tr>\n",
       "    <tr>\n",
       "      <th>1990</th>\n",
       "      <td>2012</td>\n",
       "      <td>137</td>\n",
       "      <td>1281</td>\n",
       "      <td>84</td>\n",
       "      <td>1313</td>\n",
       "      <td>86</td>\n",
       "      <td>28.000000</td>\n",
       "      <td>55.588235</td>\n",
       "      <td>8.235294</td>\n",
       "      <td>20.823529</td>\n",
       "      <td>...</td>\n",
       "      <td>6.593750</td>\n",
       "      <td>3.125000</td>\n",
       "      <td>2.812500</td>\n",
       "      <td>1.000000</td>\n",
       "      <td>1.000000</td>\n",
       "      <td>2.093895e+00</td>\n",
       "      <td>-2.397960e+01</td>\n",
       "      <td>2</td>\n",
       "      <td>15</td>\n",
       "      <td>-13</td>\n",
       "    </tr>\n",
       "    <tr>\n",
       "      <th>2050</th>\n",
       "      <td>2013</td>\n",
       "      <td>137</td>\n",
       "      <td>1207</td>\n",
       "      <td>68</td>\n",
       "      <td>1195</td>\n",
       "      <td>78</td>\n",
       "      <td>23.000000</td>\n",
       "      <td>50.419355</td>\n",
       "      <td>5.870968</td>\n",
       "      <td>16.419355</td>\n",
       "      <td>...</td>\n",
       "      <td>6.937500</td>\n",
       "      <td>3.031250</td>\n",
       "      <td>5.031250</td>\n",
       "      <td>0.500000</td>\n",
       "      <td>1.000000</td>\n",
       "      <td>1.605392e+00</td>\n",
       "      <td>4.409391e-01</td>\n",
       "      <td>2</td>\n",
       "      <td>15</td>\n",
       "      <td>-13</td>\n",
       "    </tr>\n",
       "    <tr>\n",
       "      <th>...</th>\n",
       "      <td>...</td>\n",
       "      <td>...</td>\n",
       "      <td>...</td>\n",
       "      <td>...</td>\n",
       "      <td>...</td>\n",
       "      <td>...</td>\n",
       "      <td>...</td>\n",
       "      <td>...</td>\n",
       "      <td>...</td>\n",
       "      <td>...</td>\n",
       "      <td>...</td>\n",
       "      <td>...</td>\n",
       "      <td>...</td>\n",
       "      <td>...</td>\n",
       "      <td>...</td>\n",
       "      <td>...</td>\n",
       "      <td>...</td>\n",
       "      <td>...</td>\n",
       "      <td>...</td>\n",
       "      <td>...</td>\n",
       "      <td>...</td>\n",
       "    </tr>\n",
       "    <tr>\n",
       "      <th>1079</th>\n",
       "      <td>2019</td>\n",
       "      <td>137</td>\n",
       "      <td>1414</td>\n",
       "      <td>70</td>\n",
       "      <td>1243</td>\n",
       "      <td>64</td>\n",
       "      <td>26.941176</td>\n",
       "      <td>58.970588</td>\n",
       "      <td>6.794118</td>\n",
       "      <td>18.882353</td>\n",
       "      <td>...</td>\n",
       "      <td>6.181818</td>\n",
       "      <td>2.848485</td>\n",
       "      <td>6.575758</td>\n",
       "      <td>1.000000</td>\n",
       "      <td>0.750000</td>\n",
       "      <td>2.286790e+01</td>\n",
       "      <td>2.467411e+01</td>\n",
       "      <td>13</td>\n",
       "      <td>4</td>\n",
       "      <td>9</td>\n",
       "    </tr>\n",
       "    <tr>\n",
       "      <th>1125</th>\n",
       "      <td>2021</td>\n",
       "      <td>137</td>\n",
       "      <td>1317</td>\n",
       "      <td>78</td>\n",
       "      <td>1345</td>\n",
       "      <td>69</td>\n",
       "      <td>25.080000</td>\n",
       "      <td>53.280000</td>\n",
       "      <td>7.400000</td>\n",
       "      <td>19.840000</td>\n",
       "      <td>...</td>\n",
       "      <td>5.592593</td>\n",
       "      <td>3.444444</td>\n",
       "      <td>4.814815</td>\n",
       "      <td>0.666667</td>\n",
       "      <td>0.666667</td>\n",
       "      <td>-3.568856e+14</td>\n",
       "      <td>3.819878e+15</td>\n",
       "      <td>13</td>\n",
       "      <td>4</td>\n",
       "      <td>9</td>\n",
       "    </tr>\n",
       "    <tr>\n",
       "      <th>1146</th>\n",
       "      <td>2021</td>\n",
       "      <td>138</td>\n",
       "      <td>1325</td>\n",
       "      <td>62</td>\n",
       "      <td>1438</td>\n",
       "      <td>58</td>\n",
       "      <td>29.545455</td>\n",
       "      <td>60.681818</td>\n",
       "      <td>8.590909</td>\n",
       "      <td>23.500000</td>\n",
       "      <td>...</td>\n",
       "      <td>5.125000</td>\n",
       "      <td>2.333333</td>\n",
       "      <td>8.166667</td>\n",
       "      <td>1.000000</td>\n",
       "      <td>1.000000</td>\n",
       "      <td>1.817673e+15</td>\n",
       "      <td>7.237719e+15</td>\n",
       "      <td>13</td>\n",
       "      <td>4</td>\n",
       "      <td>9</td>\n",
       "    </tr>\n",
       "    <tr>\n",
       "      <th>1256</th>\n",
       "      <td>2023</td>\n",
       "      <td>136</td>\n",
       "      <td>1202</td>\n",
       "      <td>68</td>\n",
       "      <td>1438</td>\n",
       "      <td>67</td>\n",
       "      <td>28.000000</td>\n",
       "      <td>58.774194</td>\n",
       "      <td>9.387097</td>\n",
       "      <td>27.290323</td>\n",
       "      <td>...</td>\n",
       "      <td>4.843750</td>\n",
       "      <td>3.750000</td>\n",
       "      <td>7.562500</td>\n",
       "      <td>1.000000</td>\n",
       "      <td>0.800000</td>\n",
       "      <td>-2.615295e+01</td>\n",
       "      <td>-1.405622e+00</td>\n",
       "      <td>13</td>\n",
       "      <td>4</td>\n",
       "      <td>9</td>\n",
       "    </tr>\n",
       "    <tr>\n",
       "      <th>1350</th>\n",
       "      <td>2024</td>\n",
       "      <td>137</td>\n",
       "      <td>1463</td>\n",
       "      <td>78</td>\n",
       "      <td>1120</td>\n",
       "      <td>76</td>\n",
       "      <td>27.482759</td>\n",
       "      <td>59.517241</td>\n",
       "      <td>7.275862</td>\n",
       "      <td>21.034483</td>\n",
       "      <td>...</td>\n",
       "      <td>6.558824</td>\n",
       "      <td>3.235294</td>\n",
       "      <td>15.294118</td>\n",
       "      <td>0.666667</td>\n",
       "      <td>1.000000</td>\n",
       "      <td>-2.456765e-01</td>\n",
       "      <td>2.450678e+01</td>\n",
       "      <td>13</td>\n",
       "      <td>4</td>\n",
       "      <td>9</td>\n",
       "    </tr>\n",
       "  </tbody>\n",
       "</table>\n",
       "<p>74 rows × 51 columns</p>\n",
       "</div>"
      ],
      "text/plain": [
       "      Season  DayNum  T1_TeamID  T1_Score  T2_TeamID  T2_Score  T1_FGMmean  \\\n",
       "2396    2018     137       1438        54       1420        74   25.000000   \n",
       "2653    2023     137       1345        58       1192        63   25.441176   \n",
       "1987    2012     137       1181        70       1250        75   25.757576   \n",
       "1990    2012     137       1281        84       1313        86   28.000000   \n",
       "2050    2013     137       1207        68       1195        78   23.000000   \n",
       "...      ...     ...        ...       ...        ...       ...         ...   \n",
       "1079    2019     137       1414        70       1243        64   26.941176   \n",
       "1125    2021     137       1317        78       1345        69   25.080000   \n",
       "1146    2021     138       1325        62       1438        58   29.545455   \n",
       "1256    2023     136       1202        68       1438        67   28.000000   \n",
       "1350    2024     137       1463        78       1120        76   27.482759   \n",
       "\n",
       "      T1_FGAmean  T1_FGM3mean  T1_FGA3mean  ...  T2_opponent_Stlmean  \\\n",
       "2396   54.181818     7.363636    18.878788  ...             6.258065   \n",
       "2653   55.382353     6.882353    21.088235  ...             5.593750   \n",
       "1987   56.272727     8.121212    21.606061  ...             5.687500   \n",
       "1990   55.588235     8.235294    20.823529  ...             6.593750   \n",
       "2050   50.419355     5.870968    16.419355  ...             6.937500   \n",
       "...          ...          ...          ...  ...                  ...   \n",
       "1079   58.970588     6.794118    18.882353  ...             6.181818   \n",
       "1125   53.280000     7.400000    19.840000  ...             5.592593   \n",
       "1146   60.681818     8.590909    23.500000  ...             5.125000   \n",
       "1256   58.774194     9.387097    27.290323  ...             4.843750   \n",
       "1350   59.517241     7.275862    21.034483  ...             6.558824   \n",
       "\n",
       "      T2_opponent_Blkmean  T2_PointDiffmean  T1_win_ratio_14d  \\\n",
       "2396             2.806452          1.516129          1.000000   \n",
       "2653             3.875000          0.312500          1.000000   \n",
       "1987             3.843750         10.218750          0.500000   \n",
       "1990             3.125000          2.812500          1.000000   \n",
       "2050             3.031250          5.031250          0.500000   \n",
       "...                   ...               ...               ...   \n",
       "1079             2.848485          6.575758          1.000000   \n",
       "1125             3.444444          4.814815          0.666667   \n",
       "1146             2.333333          8.166667          1.000000   \n",
       "1256             3.750000          7.562500          1.000000   \n",
       "1350             3.235294         15.294118          0.666667   \n",
       "\n",
       "      T2_win_ratio_14d    T1_quality    T2_quality  T1_seed  T2_seed  \\\n",
       "2396          1.000000  1.925680e+15 -2.631836e+15        1       16   \n",
       "2653          0.666667 -1.092300e-01 -2.639244e+01        1       16   \n",
       "1987          1.000000  1.634525e+00 -2.436592e+01        2       15   \n",
       "1990          1.000000  2.093895e+00 -2.397960e+01        2       15   \n",
       "2050          1.000000  1.605392e+00  4.409391e-01        2       15   \n",
       "...                ...           ...           ...      ...      ...   \n",
       "1079          0.750000  2.286790e+01  2.467411e+01       13        4   \n",
       "1125          0.666667 -3.568856e+14  3.819878e+15       13        4   \n",
       "1146          1.000000  1.817673e+15  7.237719e+15       13        4   \n",
       "1256          0.800000 -2.615295e+01 -1.405622e+00       13        4   \n",
       "1350          1.000000 -2.456765e-01  2.450678e+01       13        4   \n",
       "\n",
       "      Seed_diff  \n",
       "2396        -15  \n",
       "2653        -15  \n",
       "1987        -13  \n",
       "1990        -13  \n",
       "2050        -13  \n",
       "...         ...  \n",
       "1079          9  \n",
       "1125          9  \n",
       "1146          9  \n",
       "1256          9  \n",
       "1350          9  \n",
       "\n",
       "[74 rows x 51 columns]"
      ]
     },
     "execution_count": 43,
     "metadata": {},
     "output_type": "execute_result"
    }
   ],
   "source": [
    "#looking for upsets\n",
    "pd.concat(\n",
    "    [tourney_data[(tourney_data.T1_seed==1) & (tourney_data.T2_seed==16) & (tourney_data.T1_Score < tourney_data.T2_Score)],\n",
    "     tourney_data[(tourney_data.T1_seed==2) & (tourney_data.T2_seed==15) & (tourney_data.T1_Score < tourney_data.T2_Score)],\n",
    "     tourney_data[(tourney_data.T1_seed==3) & (tourney_data.T2_seed==14) & (tourney_data.T1_Score < tourney_data.T2_Score)],\n",
    "     tourney_data[(tourney_data.T1_seed==4) & (tourney_data.T2_seed==13) & (tourney_data.T1_Score < tourney_data.T2_Score)],\n",
    "     tourney_data[(tourney_data.T1_seed==16) & (tourney_data.T2_seed==1) & (tourney_data.T1_Score > tourney_data.T2_Score)],\n",
    "     tourney_data[(tourney_data.T1_seed==15) & (tourney_data.T2_seed==2) & (tourney_data.T1_Score > tourney_data.T2_Score)],\n",
    "     tourney_data[(tourney_data.T1_seed==14) & (tourney_data.T2_seed==3) & (tourney_data.T1_Score > tourney_data.T2_Score)],\n",
    "     tourney_data[(tourney_data.T1_seed==13) & (tourney_data.T2_seed==4) & (tourney_data.T1_Score > tourney_data.T2_Score)]]\n",
    ")   \n",
    "\n",
    "#https://en.wikipedia.org/wiki/NCAA_Division_I_Women%27s_Basketball_Tournament_upsets"
   ]
  },
  {
   "cell_type": "code",
   "execution_count": null,
   "metadata": {
    "_uuid": "3aad32289e9d47005b85793d952555104b0e45ad",
    "execution": {
     "iopub.execute_input": "2023-03-14T23:51:34.467557Z",
     "iopub.status.busy": "2023-03-14T23:51:34.467298Z",
     "iopub.status.idle": "2023-03-14T23:51:34.527894Z",
     "shell.execute_reply": "2023-03-14T23:51:34.526714Z",
     "shell.execute_reply.started": "2023-03-14T23:51:34.467513Z"
    }
   },
   "outputs": [
    {
     "name": "stdout",
     "output_type": "stream",
     "text": [
      "adjusted logloss of cvsplit 0: 0.5302715547942882\n",
      "adjusted logloss of cvsplit 1: 0.5294723732616025\n",
      "adjusted logloss of cvsplit 2: 0.5325081579841829\n"
     ]
    }
   ],
   "source": [
    "spline_model = []\n",
    "\n",
    "for i in range(repeat_cv):\n",
    "    dat = list(zip(oof_preds[i],np.where(y>0,1,0)))\n",
    "    dat = sorted(dat, key = lambda x: x[0])\n",
    "    datdict = {}\n",
    "    for k in range(len(dat)):\n",
    "        datdict[dat[k][0]]= dat[k][1]\n",
    "    spline_model.append(UnivariateSpline(list(datdict.keys()), list(datdict.values())))\n",
    "    spline_fit = spline_model[i](oof_preds[i])\n",
    "    spline_fit = np.clip(spline_fit,0.025,0.975)\n",
    "    spline_fit[(tourney_data.T1_seed==1) & (tourney_data.T2_seed==16) & (tourney_data.T1_Score > tourney_data.T2_Score)] = 1.0\n",
    "    spline_fit[(tourney_data.T1_seed==2) & (tourney_data.T2_seed==15) & (tourney_data.T1_Score > tourney_data.T2_Score)] = 1.0\n",
    "    spline_fit[(tourney_data.T1_seed==3) & (tourney_data.T2_seed==14) & (tourney_data.T1_Score > tourney_data.T2_Score)] = 1.0\n",
    "    spline_fit[(tourney_data.T1_seed==4) & (tourney_data.T2_seed==13) & (tourney_data.T1_Score > tourney_data.T2_Score)] = 1.0\n",
    "    spline_fit[(tourney_data.T1_seed==16) & (tourney_data.T2_seed==1) & (tourney_data.T1_Score < tourney_data.T2_Score)] = 0.0\n",
    "    spline_fit[(tourney_data.T1_seed==15) & (tourney_data.T2_seed==2) & (tourney_data.T1_Score < tourney_data.T2_Score)] = 0.0\n",
    "    spline_fit[(tourney_data.T1_seed==14) & (tourney_data.T2_seed==3) & (tourney_data.T1_Score < tourney_data.T2_Score)] = 0.0\n",
    "    spline_fit[(tourney_data.T1_seed==13) & (tourney_data.T2_seed==4) & (tourney_data.T1_Score < tourney_data.T2_Score)] = 0.0\n",
    "    \n",
    "    print(f\"adjusted logloss of cvsplit {i}: {log_loss(np.where(y>0,1,0),spline_fit)}\") "
   ]
  },
  {
   "cell_type": "code",
   "execution_count": null,
   "metadata": {
    "_uuid": "afc43d2f93dac2fe257e670f952c02e74a0b0bdb",
    "execution": {
     "iopub.execute_input": "2023-03-14T23:51:34.529495Z",
     "iopub.status.busy": "2023-03-14T23:51:34.529091Z",
     "iopub.status.idle": "2023-03-14T23:51:34.618147Z",
     "shell.execute_reply": "2023-03-14T23:51:34.617114Z",
     "shell.execute_reply.started": "2023-03-14T23:51:34.529313Z"
    },
    "scrolled": true
   },
   "outputs": [
    {
     "name": "stdout",
     "output_type": "stream",
     "text": [
      "adjusted logloss of cvsplit 0: 0.5302715547942882\n",
      "adjusted logloss of cvsplit 1: 0.5294723732616025\n",
      "adjusted logloss of cvsplit 2: 0.5325081579841829\n"
     ]
    },
    {
     "name": "stderr",
     "output_type": "stream",
     "text": [
      "/var/folders/ml/c9m4gk2d5j1gjzt21jgb5d3r0000gn/T/ipykernel_60275/1651078057.py:26: DeprecationWarning: DataFrameGroupBy.apply operated on the grouping columns. This behavior is deprecated, and in a future version of pandas the grouping columns will be excluded from the operation. Either pass `include_groups=False` to exclude the groupings or explicitly select the grouping columns after groupby to silence this warning.\n",
      "  val_cv.groupby('season').apply(lambda x: log_loss(x.y, x.pred))\n"
     ]
    },
    {
     "data": {
      "text/plain": [
       "season\n",
       "2003    0.521478\n",
       "2004    0.485565\n",
       "2005    0.476953\n",
       "2006    0.541777\n",
       "2007    0.418023\n",
       "2008    0.456249\n",
       "2009    0.460219\n",
       "2010    0.538534\n",
       "2011    0.575106\n",
       "2012    0.558115\n",
       "2013    0.585200\n",
       "2014    0.581225\n",
       "2015    0.505490\n",
       "2016    0.551488\n",
       "2017    0.486460\n",
       "2018    0.581462\n",
       "2019    0.479845\n",
       "2021    0.571729\n",
       "2022    0.636951\n",
       "2023    0.585694\n",
       "2024    0.533267\n",
       "dtype: float64"
      ]
     },
     "execution_count": 45,
     "metadata": {},
     "output_type": "execute_result"
    }
   ],
   "source": [
    "val_cv = []\n",
    "spline_model = []\n",
    "\n",
    "for i in range(repeat_cv):\n",
    "    dat = list(zip(oof_preds[i],np.where(y>0,1,0)))\n",
    "    dat = sorted(dat, key = lambda x: x[0])\n",
    "    datdict = {}\n",
    "    for k in range(len(dat)):\n",
    "        datdict[dat[k][0]]= dat[k][1]\n",
    "    spline_model.append(UnivariateSpline(list(datdict.keys()), list(datdict.values())))\n",
    "    spline_fit = spline_model[i](oof_preds[i])\n",
    "    spline_fit = np.clip(spline_fit,0.025,0.975)\n",
    "    spline_fit[(tourney_data.T1_seed==1) & (tourney_data.T2_seed==16) & (tourney_data.T1_Score > tourney_data.T2_Score)] = 1.0\n",
    "    spline_fit[(tourney_data.T1_seed==2) & (tourney_data.T2_seed==15) & (tourney_data.T1_Score > tourney_data.T2_Score)] = 1.0\n",
    "    spline_fit[(tourney_data.T1_seed==3) & (tourney_data.T2_seed==14) & (tourney_data.T1_Score > tourney_data.T2_Score)] = 1.0\n",
    "    spline_fit[(tourney_data.T1_seed==4) & (tourney_data.T2_seed==13) & (tourney_data.T1_Score > tourney_data.T2_Score)] = 1.0\n",
    "    spline_fit[(tourney_data.T1_seed==16) & (tourney_data.T2_seed==1) & (tourney_data.T1_Score < tourney_data.T2_Score)] = 0.0\n",
    "    spline_fit[(tourney_data.T1_seed==15) & (tourney_data.T2_seed==2) & (tourney_data.T1_Score < tourney_data.T2_Score)] = 0.0\n",
    "    spline_fit[(tourney_data.T1_seed==14) & (tourney_data.T2_seed==3) & (tourney_data.T1_Score < tourney_data.T2_Score)] = 0.0\n",
    "    spline_fit[(tourney_data.T1_seed==13) & (tourney_data.T2_seed==4) & (tourney_data.T1_Score < tourney_data.T2_Score)] = 0.0\n",
    "    \n",
    "    val_cv.append(pd.DataFrame({\"y\":np.where(y>0,1,0), \"pred\":spline_fit, \"season\":tourney_data.Season}))\n",
    "    print(f\"adjusted logloss of cvsplit {i}: {log_loss(np.where(y>0,1,0),spline_fit)}\") \n",
    "    \n",
    "val_cv = pd.concat(val_cv)\n",
    "val_cv.groupby('season').apply(lambda x: log_loss(x.y, x.pred))"
   ]
  },
  {
   "cell_type": "markdown",
   "metadata": {
    "_uuid": "0c06e55e0ed14fd6c3c625e01aca69ae873d74c3"
   },
   "source": [
    "# Submission time!"
   ]
  },
  {
   "cell_type": "code",
   "execution_count": null,
   "metadata": {
    "_uuid": "f2fb2bbe182ac6d6da98cd5c0086a3089988a62a",
    "execution": {
     "iopub.execute_input": "2023-03-14T23:51:34.619969Z",
     "iopub.status.busy": "2023-03-14T23:51:34.619602Z",
     "iopub.status.idle": "2023-03-14T23:51:35.020583Z",
     "shell.execute_reply": "2023-03-14T23:51:35.019994Z",
     "shell.execute_reply.started": "2023-03-14T23:51:34.619900Z"
    }
   },
   "outputs": [
    {
     "data": {
      "text/html": [
       "<div>\n",
       "<style scoped>\n",
       "    .dataframe tbody tr th:only-of-type {\n",
       "        vertical-align: middle;\n",
       "    }\n",
       "\n",
       "    .dataframe tbody tr th {\n",
       "        vertical-align: top;\n",
       "    }\n",
       "\n",
       "    .dataframe thead th {\n",
       "        text-align: right;\n",
       "    }\n",
       "</style>\n",
       "<table border=\"1\" class=\"dataframe\">\n",
       "  <thead>\n",
       "    <tr style=\"text-align: right;\">\n",
       "      <th></th>\n",
       "      <th>ID</th>\n",
       "      <th>Pred</th>\n",
       "      <th>Season</th>\n",
       "      <th>T1_TeamID</th>\n",
       "      <th>T2_TeamID</th>\n",
       "    </tr>\n",
       "  </thead>\n",
       "  <tbody>\n",
       "    <tr>\n",
       "      <th>0</th>\n",
       "      <td>2021_1101_1102</td>\n",
       "      <td>0.5</td>\n",
       "      <td>2021</td>\n",
       "      <td>1101</td>\n",
       "      <td>1102</td>\n",
       "    </tr>\n",
       "    <tr>\n",
       "      <th>1</th>\n",
       "      <td>2021_1101_1103</td>\n",
       "      <td>0.5</td>\n",
       "      <td>2021</td>\n",
       "      <td>1101</td>\n",
       "      <td>1103</td>\n",
       "    </tr>\n",
       "    <tr>\n",
       "      <th>2</th>\n",
       "      <td>2021_1101_1104</td>\n",
       "      <td>0.5</td>\n",
       "      <td>2021</td>\n",
       "      <td>1101</td>\n",
       "      <td>1104</td>\n",
       "    </tr>\n",
       "    <tr>\n",
       "      <th>3</th>\n",
       "      <td>2021_1101_1105</td>\n",
       "      <td>0.5</td>\n",
       "      <td>2021</td>\n",
       "      <td>1101</td>\n",
       "      <td>1105</td>\n",
       "    </tr>\n",
       "    <tr>\n",
       "      <th>4</th>\n",
       "      <td>2021_1101_1106</td>\n",
       "      <td>0.5</td>\n",
       "      <td>2021</td>\n",
       "      <td>1101</td>\n",
       "      <td>1106</td>\n",
       "    </tr>\n",
       "  </tbody>\n",
       "</table>\n",
       "</div>"
      ],
      "text/plain": [
       "               ID  Pred  Season  T1_TeamID  T2_TeamID\n",
       "0  2021_1101_1102   0.5    2021       1101       1102\n",
       "1  2021_1101_1103   0.5    2021       1101       1103\n",
       "2  2021_1101_1104   0.5    2021       1101       1104\n",
       "3  2021_1101_1105   0.5    2021       1101       1105\n",
       "4  2021_1101_1106   0.5    2021       1101       1106"
      ]
     },
     "execution_count": 46,
     "metadata": {},
     "output_type": "execute_result"
    }
   ],
   "source": [
    "\n",
    "# sub[\"Season\"] = 2018\n",
    "# sub[\"T1_TeamID\"] = sub[\"ID\"].apply(lambda x: x[5:9]).astype(int)\n",
    "# sub[\"T2_TeamID\"] = sub[\"ID\"].apply(lambda x: x[10:14]).astype(int)\n",
    "# sub.head()\n",
    "\n",
    "sub = pd.read_csv(DATA_PATH + \"SampleSubmissionStage1.csv\")\n",
    "sub['Season'] = sub['ID'].apply(lambda x: int(x.split('_')[0]))\n",
    "sub[\"T1_TeamID\"] = sub['ID'].apply(lambda x: int(x.split('_')[1]))\n",
    "sub[\"T2_TeamID\"] = sub['ID'].apply(lambda x: int(x.split('_')[2]))\n",
    "sub.head()\n"
   ]
  },
  {
   "cell_type": "code",
   "execution_count": null,
   "metadata": {
    "_uuid": "861d6c4c12a094804f9cf0ea2c14c0c5136d164c",
    "execution": {
     "iopub.execute_input": "2023-03-14T23:51:35.032673Z",
     "iopub.status.busy": "2023-03-14T23:51:35.032428Z",
     "iopub.status.idle": "2023-03-14T23:51:35.264751Z",
     "shell.execute_reply": "2023-03-14T23:51:35.263675Z",
     "shell.execute_reply.started": "2023-03-14T23:51:35.032612Z"
    }
   },
   "outputs": [
    {
     "data": {
      "text/html": [
       "<div>\n",
       "<style scoped>\n",
       "    .dataframe tbody tr th:only-of-type {\n",
       "        vertical-align: middle;\n",
       "    }\n",
       "\n",
       "    .dataframe tbody tr th {\n",
       "        vertical-align: top;\n",
       "    }\n",
       "\n",
       "    .dataframe thead th {\n",
       "        text-align: right;\n",
       "    }\n",
       "</style>\n",
       "<table border=\"1\" class=\"dataframe\">\n",
       "  <thead>\n",
       "    <tr style=\"text-align: right;\">\n",
       "      <th></th>\n",
       "      <th>ID</th>\n",
       "      <th>Pred</th>\n",
       "      <th>Season</th>\n",
       "      <th>T1_TeamID</th>\n",
       "      <th>T2_TeamID</th>\n",
       "      <th>T1_FGMmean</th>\n",
       "      <th>T1_FGAmean</th>\n",
       "      <th>T1_FGM3mean</th>\n",
       "      <th>T1_FGA3mean</th>\n",
       "      <th>T1_ORmean</th>\n",
       "      <th>...</th>\n",
       "      <th>T2_opponent_Stlmean</th>\n",
       "      <th>T2_opponent_Blkmean</th>\n",
       "      <th>T2_PointDiffmean</th>\n",
       "      <th>T1_quality</th>\n",
       "      <th>T2_quality</th>\n",
       "      <th>T1_seed</th>\n",
       "      <th>T2_seed</th>\n",
       "      <th>T1_win_ratio_14d</th>\n",
       "      <th>T2_win_ratio_14d</th>\n",
       "      <th>Seed_diff</th>\n",
       "    </tr>\n",
       "  </thead>\n",
       "  <tbody>\n",
       "    <tr>\n",
       "      <th>0</th>\n",
       "      <td>2021_1101_1102</td>\n",
       "      <td>0.5</td>\n",
       "      <td>2021</td>\n",
       "      <td>1101</td>\n",
       "      <td>1102</td>\n",
       "      <td>27.173913</td>\n",
       "      <td>59.043478</td>\n",
       "      <td>8.130435</td>\n",
       "      <td>21.565217</td>\n",
       "      <td>9.608696</td>\n",
       "      <td>...</td>\n",
       "      <td>6.000000</td>\n",
       "      <td>2.120000</td>\n",
       "      <td>-13.200000</td>\n",
       "      <td>3.173641e+15</td>\n",
       "      <td>NaN</td>\n",
       "      <td>14.0</td>\n",
       "      <td>NaN</td>\n",
       "      <td>1.0</td>\n",
       "      <td>0.000000</td>\n",
       "      <td>NaN</td>\n",
       "    </tr>\n",
       "    <tr>\n",
       "      <th>1</th>\n",
       "      <td>2021_1101_1103</td>\n",
       "      <td>0.5</td>\n",
       "      <td>2021</td>\n",
       "      <td>1101</td>\n",
       "      <td>1103</td>\n",
       "      <td>27.173913</td>\n",
       "      <td>59.043478</td>\n",
       "      <td>8.130435</td>\n",
       "      <td>21.565217</td>\n",
       "      <td>9.608696</td>\n",
       "      <td>...</td>\n",
       "      <td>5.714286</td>\n",
       "      <td>2.428571</td>\n",
       "      <td>3.809524</td>\n",
       "      <td>3.173641e+15</td>\n",
       "      <td>NaN</td>\n",
       "      <td>14.0</td>\n",
       "      <td>NaN</td>\n",
       "      <td>1.0</td>\n",
       "      <td>0.333333</td>\n",
       "      <td>NaN</td>\n",
       "    </tr>\n",
       "    <tr>\n",
       "      <th>2</th>\n",
       "      <td>2021_1101_1104</td>\n",
       "      <td>0.5</td>\n",
       "      <td>2021</td>\n",
       "      <td>1101</td>\n",
       "      <td>1104</td>\n",
       "      <td>27.173913</td>\n",
       "      <td>59.043478</td>\n",
       "      <td>8.130435</td>\n",
       "      <td>21.565217</td>\n",
       "      <td>9.608696</td>\n",
       "      <td>...</td>\n",
       "      <td>8.000000</td>\n",
       "      <td>4.833333</td>\n",
       "      <td>9.800000</td>\n",
       "      <td>3.173641e+15</td>\n",
       "      <td>4.899430e+15</td>\n",
       "      <td>14.0</td>\n",
       "      <td>2.0</td>\n",
       "      <td>1.0</td>\n",
       "      <td>1.000000</td>\n",
       "      <td>12.0</td>\n",
       "    </tr>\n",
       "    <tr>\n",
       "      <th>3</th>\n",
       "      <td>2021_1101_1105</td>\n",
       "      <td>0.5</td>\n",
       "      <td>2021</td>\n",
       "      <td>1101</td>\n",
       "      <td>1105</td>\n",
       "      <td>27.173913</td>\n",
       "      <td>59.043478</td>\n",
       "      <td>8.130435</td>\n",
       "      <td>21.565217</td>\n",
       "      <td>9.608696</td>\n",
       "      <td>...</td>\n",
       "      <td>8.066667</td>\n",
       "      <td>2.666667</td>\n",
       "      <td>-3.866667</td>\n",
       "      <td>3.173641e+15</td>\n",
       "      <td>NaN</td>\n",
       "      <td>14.0</td>\n",
       "      <td>NaN</td>\n",
       "      <td>1.0</td>\n",
       "      <td>0.000000</td>\n",
       "      <td>NaN</td>\n",
       "    </tr>\n",
       "    <tr>\n",
       "      <th>4</th>\n",
       "      <td>2021_1101_1106</td>\n",
       "      <td>0.5</td>\n",
       "      <td>2021</td>\n",
       "      <td>1101</td>\n",
       "      <td>1106</td>\n",
       "      <td>27.173913</td>\n",
       "      <td>59.043478</td>\n",
       "      <td>8.130435</td>\n",
       "      <td>21.565217</td>\n",
       "      <td>9.608696</td>\n",
       "      <td>...</td>\n",
       "      <td>7.722222</td>\n",
       "      <td>4.166667</td>\n",
       "      <td>-7.333333</td>\n",
       "      <td>3.173641e+15</td>\n",
       "      <td>NaN</td>\n",
       "      <td>14.0</td>\n",
       "      <td>NaN</td>\n",
       "      <td>1.0</td>\n",
       "      <td>0.000000</td>\n",
       "      <td>NaN</td>\n",
       "    </tr>\n",
       "  </tbody>\n",
       "</table>\n",
       "<p>5 rows × 50 columns</p>\n",
       "</div>"
      ],
      "text/plain": [
       "               ID  Pred  Season  T1_TeamID  T2_TeamID  T1_FGMmean  T1_FGAmean  \\\n",
       "0  2021_1101_1102   0.5    2021       1101       1102   27.173913   59.043478   \n",
       "1  2021_1101_1103   0.5    2021       1101       1103   27.173913   59.043478   \n",
       "2  2021_1101_1104   0.5    2021       1101       1104   27.173913   59.043478   \n",
       "3  2021_1101_1105   0.5    2021       1101       1105   27.173913   59.043478   \n",
       "4  2021_1101_1106   0.5    2021       1101       1106   27.173913   59.043478   \n",
       "\n",
       "   T1_FGM3mean  T1_FGA3mean  T1_ORmean  ...  T2_opponent_Stlmean  \\\n",
       "0     8.130435    21.565217   9.608696  ...             6.000000   \n",
       "1     8.130435    21.565217   9.608696  ...             5.714286   \n",
       "2     8.130435    21.565217   9.608696  ...             8.000000   \n",
       "3     8.130435    21.565217   9.608696  ...             8.066667   \n",
       "4     8.130435    21.565217   9.608696  ...             7.722222   \n",
       "\n",
       "   T2_opponent_Blkmean  T2_PointDiffmean    T1_quality    T2_quality  T1_seed  \\\n",
       "0             2.120000        -13.200000  3.173641e+15           NaN     14.0   \n",
       "1             2.428571          3.809524  3.173641e+15           NaN     14.0   \n",
       "2             4.833333          9.800000  3.173641e+15  4.899430e+15     14.0   \n",
       "3             2.666667         -3.866667  3.173641e+15           NaN     14.0   \n",
       "4             4.166667         -7.333333  3.173641e+15           NaN     14.0   \n",
       "\n",
       "   T2_seed  T1_win_ratio_14d  T2_win_ratio_14d  Seed_diff  \n",
       "0      NaN               1.0          0.000000        NaN  \n",
       "1      NaN               1.0          0.333333        NaN  \n",
       "2      2.0               1.0          1.000000       12.0  \n",
       "3      NaN               1.0          0.000000        NaN  \n",
       "4      NaN               1.0          0.000000        NaN  \n",
       "\n",
       "[5 rows x 50 columns]"
      ]
     },
     "execution_count": 47,
     "metadata": {},
     "output_type": "execute_result"
    }
   ],
   "source": [
    "sub = pd.merge(sub, season_statistics_T1, on = ['Season', 'T1_TeamID'], how = 'left')\n",
    "sub = pd.merge(sub, season_statistics_T2, on = ['Season', 'T2_TeamID'], how = 'left')\n",
    "\n",
    "sub = pd.merge(sub, glm_quality_T1, on = ['Season', 'T1_TeamID'], how = 'left')\n",
    "\n",
    "sub = pd.merge(sub, glm_quality_T2, on = ['Season', 'T2_TeamID'], how = 'left')\n",
    "\n",
    "sub = pd.merge(sub, seeds_T1, on = ['Season', 'T1_TeamID'], how = 'left')\n",
    "sub = pd.merge(sub, seeds_T2, on = ['Season', 'T2_TeamID'], how = 'left')\n",
    "sub = pd.merge(sub, last14days_stats_T1, on = ['Season', 'T1_TeamID'], how = 'left')\n",
    "sub = pd.merge(sub, last14days_stats_T2, on = ['Season', 'T2_TeamID'], how = 'left')\n",
    "\n",
    "sub[\"Seed_diff\"] = sub[\"T1_seed\"] - sub[\"T2_seed\"]\n",
    "\n",
    "sub.head()"
   ]
  },
  {
   "cell_type": "code",
   "execution_count": null,
   "metadata": {
    "_uuid": "cb1627abe53f9db9fdb5be2e45a739e0f78ede83",
    "execution": {
     "iopub.execute_input": "2023-03-14T23:51:35.276465Z",
     "iopub.status.busy": "2023-03-14T23:51:35.276239Z",
     "iopub.status.idle": "2023-03-14T23:51:35.352866Z",
     "shell.execute_reply": "2023-03-14T23:51:35.351978Z",
     "shell.execute_reply.started": "2023-03-14T23:51:35.276409Z"
    }
   },
   "outputs": [],
   "source": [
    "Xsub = sub[features].values\n",
    "dtest = xgb.DMatrix(Xsub)"
   ]
  },
  {
   "cell_type": "code",
   "execution_count": null,
   "metadata": {
    "_uuid": "a700a993c601d9692f2374f11c8eadb234979086",
    "execution": {
     "iopub.execute_input": "2023-03-14T23:51:35.354128Z",
     "iopub.status.busy": "2023-03-14T23:51:35.353898Z",
     "iopub.status.idle": "2023-03-14T23:51:39.125281Z",
     "shell.execute_reply": "2023-03-14T23:51:39.124690Z",
     "shell.execute_reply.started": "2023-03-14T23:51:35.354081Z"
    }
   },
   "outputs": [
    {
     "name": "stdout",
     "output_type": "stream",
     "text": [
      "Fold repeater 0\n"
     ]
    },
    {
     "name": "stderr",
     "output_type": "stream",
     "text": [
      "/opt/anaconda3/lib/python3.12/site-packages/xgboost/core.py:158: UserWarning: [18:49:23] WARNING: /Users/runner/work/xgboost/xgboost/src/learner.cc:740: \n",
      "Parameters: { \"silent\" } are not used.\n",
      "\n",
      "  warnings.warn(smsg, UserWarning)\n"
     ]
    },
    {
     "name": "stdout",
     "output_type": "stream",
     "text": [
      "Fold repeater 1\n",
      "Fold repeater 2\n"
     ]
    }
   ],
   "source": [
    "sub_models = []\n",
    "for i in range(repeat_cv):\n",
    "    print(f\"Fold repeater {i}\")\n",
    "    sub_models.append(\n",
    "        xgb.train(\n",
    "          params = param,\n",
    "          dtrain = dtrain,\n",
    "          num_boost_round = int(iteration_counts[i] * 1.05),\n",
    "          verbose_eval = 50\n",
    "        )\n",
    "    )"
   ]
  },
  {
   "cell_type": "code",
   "execution_count": null,
   "metadata": {
    "_uuid": "01757a38a0ad222dec31bf062ceee7cfb61a6b16",
    "execution": {
     "iopub.execute_input": "2023-03-14T23:51:39.126405Z",
     "iopub.status.busy": "2023-03-14T23:51:39.126124Z",
     "iopub.status.idle": "2023-03-14T23:51:45.625662Z",
     "shell.execute_reply": "2023-03-14T23:51:45.624777Z",
     "shell.execute_reply.started": "2023-03-14T23:51:39.126369Z"
    }
   },
   "outputs": [],
   "source": [
    "sub_preds = []\n",
    "for i in range(repeat_cv):\n",
    "    sub_preds.append(np.clip(spline_model[i](np.clip(sub_models[i].predict(dtest),-30,30)),0.025,0.975))\n",
    "    \n",
    "sub[\"Pred\"] = pd.DataFrame(sub_preds).mean(axis=0)\n",
    "\n",
    "sub.loc[(sub.T1_seed==1) & (sub.T2_seed==16), 'Pred'] = 1.0\n",
    "sub.loc[(sub.T1_seed==2) & (sub.T2_seed==15), 'Pred'] = 1.0\n",
    "sub.loc[(sub.T1_seed==3) & (sub.T2_seed==14), 'Pred'] = 1.0\n",
    "sub.loc[(sub.T1_seed==4) & (sub.T2_seed==13), 'Pred'] = 1.0\n",
    "sub.loc[(sub.T1_seed==16) & (sub.T2_seed==1), 'Pred'] = 0.0\n",
    "sub.loc[(sub.T1_seed==15) & (sub.T2_seed==2), 'Pred'] = 0.0\n",
    "sub.loc[(sub.T1_seed==14) & (sub.T2_seed==3), 'Pred'] = 0.0\n",
    "sub.loc[(sub.T1_seed==13) & (sub.T2_seed==4), 'Pred'] = 0.0\n",
    "\n",
    "sub[['ID','Pred']].to_csv(\"submission.csv\", index = None)"
   ]
  },
  {
   "cell_type": "code",
   "execution_count": null,
   "metadata": {
    "_uuid": "ce959e232dd5c58f5748e74e7a5fe0c5d2d6ef6f",
    "execution": {
     "iopub.execute_input": "2023-03-14T23:51:45.673524Z",
     "iopub.status.busy": "2023-03-14T23:51:45.673309Z",
     "iopub.status.idle": "2023-03-14T23:51:45.678854Z",
     "shell.execute_reply": "2023-03-14T23:51:45.677920Z",
     "shell.execute_reply.started": "2023-03-14T23:51:45.673479Z"
    }
   },
   "outputs": [
    {
     "data": {
      "text/plain": [
       "\"\\ntourney_results2018 = pd.read_csv('../input/NCAA_2018_Solution_Womens.csv')\\ntourney_results2018 = tourney_results2018[tourney_results2018.Pred!=-1].reset_index(drop=True)\\ntourney_results2018.columns = ['ID', 'label']\\ntourney_results2018 = pd.merge(tourney_results2018, sub, on = 'ID')\\nlog_loss(tourney_results2018.label, tourney_results2018.Pred)\\n\""
      ]
     },
     "execution_count": 51,
     "metadata": {},
     "output_type": "execute_result"
    }
   ],
   "source": [
    "\"\"\"\n",
    "tourney_results2018 = pd.read_csv('../input/NCAA_2018_Solution_Womens.csv')\n",
    "tourney_results2018 = tourney_results2018[tourney_results2018.Pred!=-1].reset_index(drop=True)\n",
    "tourney_results2018.columns = ['ID', 'label']\n",
    "tourney_results2018 = pd.merge(tourney_results2018, sub, on = 'ID')\n",
    "log_loss(tourney_results2018.label, tourney_results2018.Pred)\n",
    "\"\"\""
   ]
  }
 ],
 "metadata": {
  "kernelspec": {
   "display_name": "base",
   "language": "python",
   "name": "python3"
  },
  "language_info": {
   "codemirror_mode": {
    "name": "ipython",
    "version": 3
   },
   "file_extension": ".py",
   "mimetype": "text/x-python",
   "name": "python",
   "nbconvert_exporter": "python",
   "pygments_lexer": "ipython3",
   "version": "3.12.4"
  }
 },
 "nbformat": 4,
 "nbformat_minor": 4
}
