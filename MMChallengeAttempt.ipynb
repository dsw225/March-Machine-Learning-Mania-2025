{
 "cells": [
  {
   "cell_type": "markdown",
   "metadata": {},
   "source": [
    "# March Madness Rating Computation"
   ]
  },
  {
   "cell_type": "code",
   "execution_count": 1,
   "metadata": {},
   "outputs": [],
   "source": [
    "import numpy as np\n",
    "import pandas as pd\n",
    "import statsmodels.api as sm\n",
    "import matplotlib.pyplot as plt\n",
    "import seaborn as sns\n",
    "from data_format.rating_systems.stephenson import *\n",
    "from data_format.rating_systems.glicko2 import *\n",
    "from data_format.rating_systems.elo_v2 import *\n",
    "import copy\n"
   ]
  },
  {
   "cell_type": "code",
   "execution_count": 2,
   "metadata": {},
   "outputs": [],
   "source": [
    "DATA_PATH = 'data/'\n",
    "\n",
    "tourney_results = pd.concat([\n",
    "    pd.read_csv(DATA_PATH + \"mens/MNCAATourneyDetailedResults.csv\"),\n",
    "    pd.read_csv(DATA_PATH + \"womens/WNCAATourneyDetailedResults.csv\"),\n",
    "], ignore_index=True)\n",
    "\n",
    "seeds = pd.concat([\n",
    "    pd.read_csv(DATA_PATH + \"mens/MNCAATourneySeeds.csv\"),\n",
    "    pd.read_csv(DATA_PATH + \"womens/WNCAATourneySeeds.csv\"),\n",
    "], ignore_index=True)\n",
    "\n",
    "regular_results = pd.concat([\n",
    "    pd.read_csv(DATA_PATH + \"mens/MRegularSeasonDetailedResults.csv\"),\n",
    "    pd.read_csv(DATA_PATH + \"womens/WRegularSeasonDetailedResults.csv\"),\n",
    "], ignore_index=True)\n",
    "\n",
    "# regular_results.groupby('Season').mean()\n",
    "# tourney_results.groupby('Season').mean()\n",
    "# all(regular_results.columns == tourney_results.columns)\n"
   ]
  },
  {
   "cell_type": "code",
   "execution_count": 3,
   "metadata": {},
   "outputs": [],
   "source": [
    "def prepare_data(df):\n",
    "    dfswap = df[['Season', 'DayNum', 'LTeamID', 'LScore', 'WTeamID', 'WScore', 'WLoc', 'NumOT', \n",
    "    'LFGM', 'LFGA', 'LFGM3', 'LFGA3', 'LFTM', 'LFTA', 'LOR', 'LDR', 'LAst', 'LTO', 'LStl', 'LBlk', 'LPF', \n",
    "    'WFGM', 'WFGA', 'WFGM3', 'WFGA3', 'WFTM', 'WFTA', 'WOR', 'WDR', 'WAst', 'WTO', 'WStl', 'WBlk', 'WPF']]\n",
    "\n",
    "    dfswap.loc[df['WLoc'] == 'H', 'WLoc'] = 'A'\n",
    "    dfswap.loc[df['WLoc'] == 'A', 'WLoc'] = 'H'\n",
    "    df.columns.values[6] = 'location'\n",
    "    dfswap.columns.values[6] = 'location'    \n",
    "      \n",
    "    df.columns = [x.replace('W','T1_').replace('L','T2_') for x in list(df.columns)]\n",
    "    dfswap.columns = [x.replace('L','T1_').replace('W','T2_') for x in list(dfswap.columns)]\n",
    "\n",
    "    output = pd.concat([df, dfswap]).reset_index(drop=True)\n",
    "    output.loc[output.location=='N','location'] = '0'\n",
    "    output.loc[output.location=='H','location'] = '1'\n",
    "    output.loc[output.location=='A','location'] = '-1'\n",
    "    output.location = output.location.astype(int)\n",
    "    \n",
    "    output['PointDiff'] = output['T1_Score'] - output['T2_Score']\n",
    "\n",
    "    output['win'] = np.where(output['T1_Score']>output['T2_Score'], 1, 0)\n",
    "\n",
    "    output['T1_TeamID'] = output['T1_TeamID'].astype(str)\n",
    "    output['T2_TeamID'] = output['T2_TeamID'].astype(str)\n",
    "    \n",
    "    return output"
   ]
  },
  {
   "cell_type": "code",
   "execution_count": 4,
   "metadata": {},
   "outputs": [],
   "source": [
    "tourney_data = prepare_data(tourney_results)\n",
    "regular_data = prepare_data(regular_results)"
   ]
  },
  {
   "cell_type": "code",
   "execution_count": 5,
   "metadata": {},
   "outputs": [],
   "source": [
    "boxscore_cols = ['T1_Score', 'T2_Score', \n",
    "        'T1_FGM', 'T1_FGA', 'T1_FGM3', 'T1_FGA3', 'T1_FTM', 'T1_FTA', 'T1_OR', 'T1_DR', 'T1_Ast', 'T1_TO', 'T1_Stl', 'T1_Blk', 'T1_PF', \n",
    "        'T2_FGM', 'T2_FGA', 'T2_FGM3', 'T2_FGA3', 'T2_FTM', 'T2_FTA', 'T2_OR', 'T2_DR', 'T2_Ast', 'T2_TO', 'T2_Stl', 'T2_Blk', 'T2_PF', \n",
    "        'PointDiff']\n",
    "\n",
    "boxscore_cols = [\n",
    "        'T1_FGM', 'T1_FGA', 'T1_FGM3', 'T1_FGA3', 'T1_OR', 'T1_Ast', 'T1_TO', 'T1_Stl', 'T1_PF', \n",
    "        'T2_FGM', 'T2_FGA', 'T2_FGM3', 'T2_FGA3', 'T2_OR', 'T2_Ast', 'T2_TO', 'T2_Stl', 'T2_Blk',  \n",
    "        'PointDiff']\n",
    "\n",
    "funcs = [np.mean]"
   ]
  },
  {
   "cell_type": "code",
   "execution_count": 6,
   "metadata": {},
   "outputs": [
    {
     "name": "stderr",
     "output_type": "stream",
     "text": [
      "/var/folders/ml/c9m4gk2d5j1gjzt21jgb5d3r0000gn/T/ipykernel_12386/1527646356.py:1: FutureWarning: The provided callable <function mean at 0x10621be20> is currently using SeriesGroupBy.mean. In a future version of pandas, the provided callable will be used directly. To keep current behavior pass the string \"mean\" instead.\n",
      "  season_statistics = regular_data.groupby([\"Season\", 'T1_TeamID'])[boxscore_cols].agg(funcs)\n",
      "/var/folders/ml/c9m4gk2d5j1gjzt21jgb5d3r0000gn/T/ipykernel_12386/1527646356.py:1: FutureWarning: The provided callable <function mean at 0x10621be20> is currently using SeriesGroupBy.mean. In a future version of pandas, the provided callable will be used directly. To keep current behavior pass the string \"mean\" instead.\n",
      "  season_statistics = regular_data.groupby([\"Season\", 'T1_TeamID'])[boxscore_cols].agg(funcs)\n",
      "/var/folders/ml/c9m4gk2d5j1gjzt21jgb5d3r0000gn/T/ipykernel_12386/1527646356.py:2: FutureWarning: The provided callable <function mean at 0x10621be20> is currently using SeriesGroupBy.mean. In a future version of pandas, the provided callable will be used directly. To keep current behavior pass the string \"mean\" instead.\n",
      "  season_statistics = regular_data.groupby([\"Season\", 'T1_TeamID'])[boxscore_cols].agg(funcs).reset_index()\n",
      "/var/folders/ml/c9m4gk2d5j1gjzt21jgb5d3r0000gn/T/ipykernel_12386/1527646356.py:2: FutureWarning: The provided callable <function mean at 0x10621be20> is currently using SeriesGroupBy.mean. In a future version of pandas, the provided callable will be used directly. To keep current behavior pass the string \"mean\" instead.\n",
      "  season_statistics = regular_data.groupby([\"Season\", 'T1_TeamID'])[boxscore_cols].agg(funcs).reset_index()\n"
     ]
    }
   ],
   "source": [
    "season_statistics = regular_data.groupby([\"Season\", 'T1_TeamID'])[boxscore_cols].agg(funcs)\n",
    "season_statistics = regular_data.groupby([\"Season\", 'T1_TeamID'])[boxscore_cols].agg(funcs).reset_index()\n",
    "season_statistics.columns = [''.join(col).strip() for col in season_statistics.columns.values]"
   ]
  },
  {
   "cell_type": "code",
   "execution_count": 7,
   "metadata": {},
   "outputs": [],
   "source": [
    "season_statistics_T1 = season_statistics.copy()\n",
    "season_statistics_T2 = season_statistics.copy()\n",
    "\n",
    "season_statistics_T1.columns = [\"T1_\" + x.replace(\"T1_\",\"\").replace(\"T2_\",\"opponent_\") for x in list(season_statistics_T1.columns)]\n",
    "season_statistics_T2.columns = [\"T2_\" + x.replace(\"T1_\",\"\").replace(\"T2_\",\"opponent_\") for x in list(season_statistics_T2.columns)]\n",
    "season_statistics_T1.columns.values[0] = \"Season\"\n",
    "season_statistics_T2.columns.values[0] = \"Season\""
   ]
  },
  {
   "cell_type": "code",
   "execution_count": 8,
   "metadata": {},
   "outputs": [],
   "source": [
    "tourney_data = tourney_data[['Season', 'DayNum', 'T1_TeamID', 'T1_Score', 'T2_TeamID' ,'T2_Score']]\n",
    "tourney_data = pd.merge(tourney_data, season_statistics_T1, on = ['Season', 'T1_TeamID'], how = 'left')\n",
    "tourney_data = pd.merge(tourney_data, season_statistics_T2, on = ['Season', 'T2_TeamID'], how = 'left')"
   ]
  },
  {
   "cell_type": "code",
   "execution_count": 9,
   "metadata": {},
   "outputs": [],
   "source": [
    "last14days_stats_T1 = regular_data.loc[regular_data.DayNum>118].reset_index(drop=True)\n",
    "last14days_stats_T1['win'] = np.where(last14days_stats_T1['PointDiff']>0,1,0)\n",
    "last14days_stats_T1 = last14days_stats_T1.groupby(['Season','T1_TeamID'])['win'].mean().reset_index(name='T1_win_ratio_14d')\n",
    "\n",
    "last14days_stats_T2 = regular_data.loc[regular_data.DayNum>118].reset_index(drop=True)\n",
    "last14days_stats_T2['win'] = np.where(last14days_stats_T2['PointDiff']<0,1,0)\n",
    "last14days_stats_T2 = last14days_stats_T2.groupby(['Season','T2_TeamID'])['win'].mean().reset_index(name='T2_win_ratio_14d')"
   ]
  },
  {
   "cell_type": "code",
   "execution_count": 10,
   "metadata": {},
   "outputs": [],
   "source": [
    "tourney_data = pd.merge(tourney_data, last14days_stats_T1, on = ['Season', 'T1_TeamID'], how = 'left')\n",
    "tourney_data = pd.merge(tourney_data, last14days_stats_T2, on = ['Season', 'T2_TeamID'], how = 'left')"
   ]
  },
  {
   "cell_type": "code",
   "execution_count": 11,
   "metadata": {},
   "outputs": [
    {
     "data": {
      "text/plain": [
       "(20268, 5)"
      ]
     },
     "execution_count": 11,
     "metadata": {},
     "output_type": "execute_result"
    }
   ],
   "source": [
    "regular_season_effects = regular_data[['Season','T1_TeamID','T2_TeamID','PointDiff']].copy()\n",
    "regular_season_effects['T1_TeamID'] = regular_season_effects['T1_TeamID'].astype(str)\n",
    "regular_season_effects['T2_TeamID'] = regular_season_effects['T2_TeamID'].astype(str)\n",
    "regular_season_effects['win'] = np.where(regular_season_effects['PointDiff']>0,1,0)\n",
    "march_madness = pd.merge(seeds[['Season','TeamID']],seeds[['Season','TeamID']],on='Season')\n",
    "march_madness.columns = ['Season', 'T1_TeamID', 'T2_TeamID']\n",
    "march_madness.T1_TeamID = march_madness.T1_TeamID.astype(str)\n",
    "march_madness.T2_TeamID = march_madness.T2_TeamID.astype(str)\n",
    "regular_season_effects = pd.merge(regular_season_effects, march_madness, on = ['Season','T1_TeamID','T2_TeamID'])\n",
    "regular_season_effects.shape"
   ]
  },
  {
   "cell_type": "code",
   "execution_count": 12,
   "metadata": {},
   "outputs": [],
   "source": [
    "def team_quality(season):\n",
    "    year_regular_results = regular_results[(regular_results['Season'] == season)]\n",
    "    # year_tourney_results = tourney_results[(tourney_results['Season'] == season)]\n",
    "\n",
    "    combined_teams = pd.concat([year_regular_results['T1_TeamID'], year_regular_results['T2_TeamID']]) \n",
    "    all_teams = combined_teams.drop_duplicates().tolist()\n",
    "\n",
    "    team_data = {\n",
    "        'TeamID': all_teams,   \n",
    "        'steph_rating': [Stephenson() for _ in all_teams],\n",
    "    }\n",
    "\n",
    "    df_team = pd.DataFrame(team_data)\n",
    "\n",
    "    for index, row in year_regular_results.iterrows():\n",
    "        team_one = df_team.loc[df_team['TeamID'] == row['T1_TeamID'], 'steph_rating'].values[0]\n",
    "        team_two = df_team.loc[df_team['TeamID'] == row['T2_TeamID'], 'steph_rating'].values[0]\n",
    "\n",
    "        #Replacing updateVal since this is not by date but by week 10^2 = 100 (cval)\n",
    "        team_one.sigma = team_one.sigma + 100\n",
    "        team_two.sigma = team_two.sigma + 100\n",
    "\n",
    "        # So we don't evaluate on outcome\n",
    "        home_clone = copy.deepcopy(team_one)\n",
    "\n",
    "        point_ratio = float(row['T1_Score']) / (row['T1_Score'] + row['T2_Score'])\n",
    "        # point_ratio = row['win']\n",
    "\n",
    "        match row['location']:\n",
    "            case 'H':\n",
    "                team_one.newVarRating(team_two, point_ratio, 1) #pone is 1 for home team, -1 away, 0 unknown\n",
    "                team_two.newVarRating(home_clone, (1 - point_ratio), -1) \n",
    "            case 'A':\n",
    "                team_one.newVarRating(team_two, point_ratio, -1)\n",
    "                team_two.newVarRating(home_clone, (1 - point_ratio), 1) \n",
    "            case _:\n",
    "                team_one.newVarRating(team_two, point_ratio, 0)\n",
    "                team_two.newVarRating(home_clone, (1 - point_ratio), 0) \n",
    "\n",
    "        df_team.loc[df_team['TeamID'] == row['T1_TeamID'], 'steph_rating'] = team_one\n",
    "        df_team.loc[df_team['TeamID'] == row['T2_TeamID'], 'steph_rating'] = team_two\n",
    "\n",
    "    df_team = df_team.assign(quality=df_team['steph_rating'].apply(lambda x: x.getRating()))\n",
    "    df_team = df_team.sort_values(by=\"quality\", ascending=False)\n",
    "\n",
    "    # Select only the required columns\n",
    "    new_team_df = df_team[['TeamID', 'quality']].reset_index(drop=True)\n",
    "    new_team_df['Season'] = season\n",
    "    new_team_df['TeamID'] = new_team_df['TeamID'].astype(int)\n",
    "    return new_team_df"
   ]
  },
  {
   "cell_type": "code",
   "execution_count": 13,
   "metadata": {},
   "outputs": [],
   "source": [
    "def team_quality_glicko2(season):\n",
    "    year_regular_results = regular_results[(regular_results['Season'] == season)]\n",
    "    # year_tourney_results = tourney_results[(tourney_results['Season'] == season)]\n",
    "\n",
    "    combined_teams = pd.concat([year_regular_results['T1_TeamID'], year_regular_results['T2_TeamID']]) \n",
    "    all_teams = combined_teams.drop_duplicates().tolist()\n",
    "\n",
    "    team_data = {\n",
    "        'TeamID': all_teams,   \n",
    "        'steph_rating': [Rating() for _ in all_teams],\n",
    "    }\n",
    "\n",
    "    df_team = pd.DataFrame(team_data)\n",
    "\n",
    "    for index, row in year_regular_results.iterrows():\n",
    "        team_one = df_team.loc[df_team['TeamID'] == row['T1_TeamID'], 'steph_rating'].values[0]\n",
    "        team_two = df_team.loc[df_team['TeamID'] == row['T2_TeamID'], 'steph_rating'].values[0]\n",
    "\n",
    "        # So we don't evaluate on outcome\n",
    "        home_clone = copy.deepcopy(team_one)\n",
    "\n",
    "        point_ratio = float(row['T1_Score']) / (row['T1_Score'] + row['T2_Score'])\n",
    "        # point_ratio = row['win']\n",
    "\n",
    "        team_one.update_player(team_two.getRating(), team_two.getRd(), point_ratio)\n",
    "        team_two.update_player(home_clone.getRating(), home_clone.getRd(), (1 - point_ratio))\n",
    " \n",
    "        df_team.loc[df_team['TeamID'] == row['T1_TeamID'], 'steph_rating'] = team_one\n",
    "        df_team.loc[df_team['TeamID'] == row['T2_TeamID'], 'steph_rating'] = team_two\n",
    "\n",
    "    df_team = df_team.assign(quality=df_team['steph_rating'].apply(lambda x: x.getRating()))\n",
    "    df_team = df_team.sort_values(by=\"quality\", ascending=False)\n",
    "\n",
    "    # Select only the required columns\n",
    "    new_team_df = df_team[['TeamID', 'quality']].reset_index(drop=True)\n",
    "    new_team_df['Season'] = season\n",
    "    new_team_df['TeamID'] = new_team_df['TeamID'].astype(int)\n",
    "    return new_team_df"
   ]
  },
  {
   "cell_type": "code",
   "execution_count": 14,
   "metadata": {},
   "outputs": [],
   "source": [
    "# def team_quality_elo(season):\n",
    "#     year_regular_results = regular_results[(regular_results['Season'] == season)]\n",
    "\n",
    "#     combined_teams = pd.concat([year_regular_results['T1_TeamID'], year_regular_results['T2_TeamID']]) \n",
    "#     all_teams = combined_teams.drop_duplicates().tolist()\n",
    "\n",
    "#     team_data = {\n",
    "#         'TeamID': all_teams,   \n",
    "#         'quality': [E_START_RATING] * len(all_teams)\n",
    "#     }\n",
    "\n",
    "#     df_team = pd.DataFrame(team_data)\n",
    "\n",
    "#     for index, row in year_regular_results.iterrows():\n",
    "#         team_one = df_team.loc[df_team['TeamID'] == row['T1_TeamID'], 'quality'].values[0]\n",
    "#         team_two = df_team.loc[df_team['TeamID'] == row['T2_TeamID'], 'quality'].values[0]\n",
    "\n",
    "#         # point_ratio = float(row['T1_Score']) / (row['T1_Score'] + row['T2_Score'])\n",
    "#         point_ratio = row['win']\n",
    "\n",
    "#         new_team_one, new_team_two = base_competing_elo(team_one, team_two, point_ratio)\n",
    " \n",
    "#         df_team.loc[df_team['TeamID'] == row['T1_TeamID'], 'quality'] = new_team_one\n",
    "#         df_team.loc[df_team['TeamID'] == row['T2_TeamID'], 'quality'] = new_team_two\n",
    "\n",
    "#     df_team = df_team.sort_values(by=\"quality\", ascending=False)\n",
    "\n",
    "#     # Select only the required columns\n",
    "#     new_team_df = df_team[['TeamID', 'quality']].reset_index(drop=True)\n",
    "#     new_team_df['Season'] = season\n",
    "#     new_team_df['TeamID'] = new_team_df['TeamID'].astype(int)\n",
    "#     return new_team_df"
   ]
  },
  {
   "cell_type": "code",
   "execution_count": 15,
   "metadata": {},
   "outputs": [],
   "source": [
    "glm_quality = pd.concat([team_quality(2010),\n",
    "                         team_quality(2011),\n",
    "                         team_quality(2012),\n",
    "                         team_quality(2013),\n",
    "                         team_quality(2014),\n",
    "                         team_quality(2015),\n",
    "                         team_quality(2016),\n",
    "                         team_quality(2017),\n",
    "                         team_quality(2018),\n",
    "                         team_quality(2019),\n",
    "                         ##team_quality(2020),\n",
    "                         team_quality(2021),\n",
    "                         team_quality(2022),\n",
    "                         team_quality(2023),\n",
    "                         team_quality(2024)\n",
    "                         ]).reset_index(drop=True)"
   ]
  },
  {
   "cell_type": "code",
   "execution_count": 16,
   "metadata": {},
   "outputs": [],
   "source": [
    "glm_quality_T1 = glm_quality.copy()\n",
    "glm_quality_T2 = glm_quality.copy()\n",
    "glm_quality_T1.columns = ['T1_TeamID','T1_quality','Season']\n",
    "glm_quality_T2.columns = ['T2_TeamID','T2_quality','Season']\n",
    "\n",
    "glm_quality_T1['T1_TeamID'] = glm_quality_T1['T1_TeamID'].astype(str)\n",
    "glm_quality_T2['T2_TeamID'] = glm_quality_T2['T2_TeamID'].astype(str)\n",
    "\n",
    "# tourney_data = tourney_data.loc[tourney_data['DayNum'] >= 136].reset_index(drop=True)\n",
    "\n",
    "tourney_data['T1_TeamID'] = tourney_data['T1_TeamID'].astype(str)\n",
    "tourney_data['T2_TeamID'] = tourney_data['T2_TeamID'].astype(str)\n"
   ]
  },
  {
   "cell_type": "code",
   "execution_count": 17,
   "metadata": {},
   "outputs": [],
   "source": [
    "tourney_data = pd.merge(tourney_data, glm_quality_T1, on = ['Season', 'T1_TeamID'], how = 'left')\n",
    "tourney_data = pd.merge(tourney_data, glm_quality_T2, on = ['Season', 'T2_TeamID'], how = 'left')"
   ]
  },
  {
   "cell_type": "code",
   "execution_count": 18,
   "metadata": {},
   "outputs": [],
   "source": [
    "seeds['seed'] = seeds['Seed'].apply(lambda x: int(x[1:3]))"
   ]
  },
  {
   "cell_type": "code",
   "execution_count": 19,
   "metadata": {},
   "outputs": [],
   "source": [
    "seeds_T1 = seeds[['Season','TeamID','seed']].copy()\n",
    "seeds_T2 = seeds[['Season','TeamID','seed']].copy()\n",
    "seeds_T1.columns = ['Season','T1_TeamID','T1_seed']\n",
    "seeds_T2.columns = ['Season','T2_TeamID','T2_seed']\n",
    "\n",
    "seeds_T1['T1_TeamID'] = seeds_T1['T1_TeamID'].astype(str)\n",
    "seeds_T2['T2_TeamID'] = seeds_T2['T2_TeamID'].astype(str)"
   ]
  },
  {
   "cell_type": "code",
   "execution_count": 20,
   "metadata": {},
   "outputs": [],
   "source": [
    "tourney_data = pd.merge(tourney_data, seeds_T1, on = ['Season', 'T1_TeamID'], how = 'left')\n",
    "tourney_data = pd.merge(tourney_data, seeds_T2, on = ['Season', 'T2_TeamID'], how = 'left')"
   ]
  },
  {
   "cell_type": "code",
   "execution_count": 21,
   "metadata": {},
   "outputs": [],
   "source": [
    "tourney_data[\"Seed_diff\"] = tourney_data[\"T1_seed\"] - tourney_data[\"T2_seed\"]"
   ]
  },
  {
   "cell_type": "markdown",
   "metadata": {},
   "source": [
    "# March Madness teams - team strength overview"
   ]
  }
 ],
 "metadata": {
  "kernelspec": {
   "display_name": "base",
   "language": "python",
   "name": "python3"
  },
  "language_info": {
   "codemirror_mode": {
    "name": "ipython",
    "version": 3
   },
   "file_extension": ".py",
   "mimetype": "text/x-python",
   "name": "python",
   "nbconvert_exporter": "python",
   "pygments_lexer": "ipython3",
   "version": "3.12.4"
  }
 },
 "nbformat": 4,
 "nbformat_minor": 2
}
